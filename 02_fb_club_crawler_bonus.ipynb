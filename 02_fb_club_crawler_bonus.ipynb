{
 "cells": [
  {
   "cell_type": "markdown",
   "metadata": {},
   "source": [
    "# 【NLP 自然語言處理】03. FaceBook社團貼文爬蟲 Bonus"
   ]
  },
  {
   "cell_type": "code",
   "execution_count": 32,
   "metadata": {},
   "outputs": [],
   "source": [
    "# !pip install selenium pandas fake_useragent python-dotenv tqdm"
   ]
  },
  {
   "cell_type": "markdown",
   "metadata": {},
   "source": [
    "## 瀏覽器設定：允許所有網站通知行為"
   ]
  },
  {
   "cell_type": "code",
   "execution_count": 5,
   "metadata": {},
   "outputs": [],
   "source": [
    "from selenium import webdriver\n",
    "from fake_useragent import UserAgent"
   ]
  },
  {
   "cell_type": "code",
   "execution_count": 6,
   "metadata": {},
   "outputs": [],
   "source": [
    "chrome_options = webdriver.ChromeOptions()\n",
    "\n",
    "# 允許所有網站通知行為\n",
    "chrome_options.add_experimental_option(\n",
    "    \"prefs\", \n",
    "    {\n",
    "        \"profile.default_content_setting_values.notifications\": 1\n",
    "    }\n",
    ")\n"
   ]
  },
  {
   "cell_type": "markdown",
   "metadata": {},
   "source": [
    "## 01. 使用者代理 User-Agent"
   ]
  },
  {
   "cell_type": "markdown",
   "metadata": {},
   "source": [
    "在爬蟲時，最常遇到的其中一個問題就是網頁阻擋。對方為了保護自己的網站，避免資源消耗，可能透過鎖 ip 的方式阻擋爬蟲程式。\n",
    "而 User-Agent 記錄了目前瀏覽網站的瀏覽器、作業系統是什麼。在對網站發送請求時，標頭都會攜帶 User-Agent。"
   ]
  },
  {
   "cell_type": "markdown",
   "metadata": {},
   "source": [
    "當然，對於網站主來說，對方也可以針對 User-Agent 的內容物來判斷是否為爬蟲程式，並建立反爬蟲機制。尤其 requests 的請求方式更是容易被偵測出來。"
   ]
  },
  {
   "cell_type": "markdown",
   "metadata": {},
   "source": [
    "雖然 selenium 會提供預設的 User-Agent，但短時間內的大量請求，還是很可能被阻擋下來。"
   ]
  },
  {
   "cell_type": "code",
   "execution_count": 8,
   "metadata": {},
   "outputs": [],
   "source": [
    "ua = UserAgent()\n",
    "\n",
    "random_user_agent = ua.random"
   ]
  },
  {
   "cell_type": "markdown",
   "metadata": {},
   "source": [
    "在 Python 中，我們可以利用 fake_useragent 套件，來隨機生成 User-Agent。幫助我們的爬蟲程式偽裝成一般使用者。"
   ]
  },
  {
   "cell_type": "code",
   "execution_count": 9,
   "metadata": {},
   "outputs": [],
   "source": [
    "# 使用 fake_useragent 生成的 User-Agent 设置到 ChromeOptions 中\n",
    "chrome_options.add_argument(f\"user-agent={random_user_agent}\")\n"
   ]
  },
  {
   "cell_type": "markdown",
   "metadata": {},
   "source": [
    "## 02. 環境變數\n",
    "\n",
    "在程式開發階段時，通常會將機敏資訊存入環境變數，例如：帳號、密碼、金鑰 … 等。避免將機敏資訊連同程式碼一起部屬，確保資訊的使用是安全的！"
   ]
  },
  {
   "cell_type": "code",
   "execution_count": 16,
   "metadata": {},
   "outputs": [],
   "source": [
    "from dotenv import load_dotenv, find_dotenv\n",
    "import os\n",
    "\n",
    "load_dotenv(find_dotenv())\n",
    "\n",
    "facebook_mail = os.environ.get(\"FACEBOOK_MAIL\")\n",
    "facebook_password = os.environ.get(\"FACEBOOK_PASSWORD\")"
   ]
  },
  {
   "cell_type": "markdown",
   "metadata": {},
   "source": [
    "## 啟動 webdriver 並登入 FB"
   ]
  },
  {
   "cell_type": "code",
   "execution_count": 22,
   "metadata": {},
   "outputs": [],
   "source": [
    "from selenium.webdriver.common.by import By\n",
    "import time\n",
    "\n",
    "driver = webdriver.Chrome(options = chrome_options)\n",
    "\n",
    "# 設定視窗大小\n",
    "driver.set_window_size(800, 800)\n",
    "\n",
    "# Facebook 登入\n",
    "login_url = 'https://www.facebook.com/login/device-based/regular/login/?login_attempt=1&next=https%3A%2F%2Fwww.facebook.com'\n",
    "driver.get(login_url)\n",
    "\n",
    "email_element = driver.find_element(By.CSS_SELECTOR,'#email_container input')\n",
    "password_element = driver.find_element(By.CSS_SELECTOR,'._55r1._1kbt input')\n",
    "\n",
    "email_element.send_keys(facebook_mail)\n",
    "password_element.send_keys(facebook_password)\n",
    "\n",
    "login_button = driver.find_element(By.CSS_SELECTOR, '#loginbutton')\n",
    "login_button.click()\n",
    "\n",
    "time.sleep(3)\n",
    "\n",
    "# 前往指定社團頁面\n",
    "url = 'https://www.facebook.com/groups/traveler168'\n",
    "\n",
    "driver.get(url)"
   ]
  },
  {
   "cell_type": "code",
   "execution_count": 53,
   "metadata": {},
   "outputs": [],
   "source": [
    "from bs4 import BeautifulSoup\n",
    "import pandas as pd\n",
    "import re\n",
    "\n",
    "js_script =  '''\n",
    "    let elements = document.querySelectorAll(\".x9f619.x1n2onr6.x1ja2u2z.x1s85apg[hidden]\");\n",
    "    for (let element of elements) {\n",
    "        let parentElement = element.closest(\".x1yztbdb.x1n2onr6.xh8yej3.x1ja2u2z\");\n",
    "        parentElement.parentNode.removeChild(parentElement);\n",
    "    }\n",
    "'''\n",
    "\n",
    "def getElement(driver):\n",
    "    page_content = driver.page_source\n",
    "    soup = BeautifulSoup(page_content, 'html.parser')\n",
    "    elements = soup.select('.x1yztbdb.x1n2onr6.xh8yej3.x1ja2u2z')\n",
    "    return elements\n",
    "\n",
    "def getPostData(elements):\n",
    "    name_list, like_list, date_list, link_list, article_list = [], [], [], [], []\n",
    "    for element in elements:\n",
    "        try:\n",
    "            name = element.select('.xt0psk2 span')[0].text\n",
    "            name_list.append(name)\n",
    "        except:\n",
    "            continue\n",
    "\n",
    "        try:\n",
    "            like = element.select('.xt0b8zv.x2bj2ny.xrbpyxo.xl423tq span.x1e558r4')[0].text\n",
    "            like_list.append(like)\n",
    "        except:\n",
    "            like_list.append(0)\n",
    "\n",
    "        try:\n",
    "            date_time = element.select('.x1i10hfl.xjbqb8w.x1ejq31n.xd10rxx.x1sy0etr.x17r0tee.x972fbf.xcfux6l.x1qhh985.xm0m39n.x9f619.x1ypdohk.xt0psk2.xe8uvvx.xdj266r.x11i5rnm.xat24cr.x1mh8g0r.xexx8yu.x4uap5.x18d9i69.xkhd6sd.x16tdsg8.x1hl2dhg.xggy1nq.x1a2a7pz.x1heor9g.xt0b8zv.xo1l8bm span')[0].text\n",
    "            date_list.append(date_time)\n",
    "        except:\n",
    "            continue\n",
    "\n",
    "        try:\n",
    "            link = element.select('.x1i10hfl.xjbqb8w.x1ejq31n.xd10rxx.x1sy0etr.x17r0tee.x972fbf.xcfux6l.x1qhh985.xm0m39n.x9f619.x1ypdohk.xt0psk2.xe8uvvx.xdj266r.x11i5rnm.xat24cr.x1mh8g0r.xexx8yu.x4uap5.x18d9i69.xkhd6sd.x16tdsg8.x1hl2dhg.xggy1nq.x1a2a7pz.x1heor9g.xt0b8zv.xo1l8bm')[0].get('href')\n",
    "            base_url = re.match(r\"(https://www\\.facebook\\.com/groups/traveler168/posts/\\d+)\", link)\n",
    "            if base_url:\n",
    "                link_list.append(base_url.group(1))\n",
    "            else:\n",
    "                link_list.append(link)\n",
    "        except:\n",
    "            continue\n",
    "\n",
    "        try:\n",
    "            article = element.select_one('.x193iq5w.xeuugli.x13faqbe.x1vvkbs.x1xmvt09.x1lliihq.x1s928wv.xhkezso.x1gmr53x.x1cpjm7i.x1fgarty.x1943h6x.xudqn12.x3x7a5m.x6prxxf.xvq8zen.xo1l8bm.xzsf02u.x1yc453h')\n",
    "            article_list.append(article.get_text())\n",
    "        except:\n",
    "            article_list.append('')\n",
    "\n",
    "    df = pd.DataFrame({\n",
    "        '作者': name_list,\n",
    "        '讚數': like_list,\n",
    "        '時間': date_list,\n",
    "        '連結': link_list,\n",
    "        '貼文內容': article_list\n",
    "    })\n",
    "    return df"
   ]
  },
  {
   "cell_type": "markdown",
   "metadata": {},
   "source": [
    "## 03. 任務進度條"
   ]
  },
  {
   "cell_type": "markdown",
   "metadata": {},
   "source": [
    "當爬取大量網頁資料時，可能是耗時的，進度條可以幫助我們查看目前的執行進度。常見的套件有 `alive-progress`、`tqdm` 。本文以 `tqdm` 舉例："
   ]
  },
  {
   "cell_type": "markdown",
   "metadata": {},
   "source": [
    "- Step 1. 初始化 tqdm 的進度條\n",
    "\n",
    "- Step 2. 更新進度條至新的完成數量\n",
    "    - `amount` 是這一輪後的資料量；\n",
    "    - `pbar.n` 是前一輪紀錄的資料量；\n",
    "    - `pbar.update(amount - pbar.n)` 更新這一輪的資料筆數道進度條。"
   ]
  },
  {
   "cell_type": "code",
   "execution_count": null,
   "metadata": {},
   "outputs": [
    {
     "name": "stderr",
     "output_type": "stream",
     "text": [
      "  0%|          | 0/1000 [01:06<?, ?it/s]\n",
      "100%|██████████| 1000/1000 [17:34<00:00,  1.05s/it]\n"
     ]
    }
   ],
   "source": [
    "from tqdm import tqdm\n",
    "import time\n",
    "\n",
    "data_capacity = 1000\n",
    "\n",
    "# 初始化 tqdm 的進度條\n",
    "pbar = tqdm(total = data_capacity)\n",
    "\n",
    "result_df = pd.DataFrame()\n",
    "\n",
    "amount = 0\n",
    "while amount < data_capacity:\n",
    "    \n",
    "    counter = 0\n",
    "    while counter <= 3:\n",
    "        driver.execute_script(\"window.scrollTo(0, document.body.scrollHeight);\")\n",
    "        time.sleep(0.3)\n",
    "        counter += 1\n",
    "\n",
    "    try:\n",
    "        target_class = '.x1i10hfl.xjbqb8w.x1ejq31n.xd10rxx.x1sy0etr.x17r0tee.x972fbf.xcfux6l.x1qhh985.xm0m39n.x9f619.x1ypdohk.xt0psk2.xe8uvvx.xdj266r.x11i5rnm.xat24cr.x1mh8g0r.xexx8yu.x4uap5.x18d9i69.xkhd6sd.x16tdsg8.x1hl2dhg.xggy1nq.x1a2a7pz.xt0b8zv.xzsf02u.x1s688f'\n",
    "        targets = driver.find_elements(By.CSS_SELECTOR, target_class)\n",
    "        for target in targets:\n",
    "            try:\n",
    "                if \"查看更多\" in target.get_attribute('textContent'):\n",
    "                    target.click()\n",
    "                    time.sleep(0.3)\n",
    "            except:\n",
    "                continue\n",
    "    except Exception as e:\n",
    "        print(e)\n",
    "        pass\n",
    "    \n",
    "    elements = getElement(driver)\n",
    "    post_df = getPostData(elements)\n",
    "\n",
    "    result_df = pd.concat([result_df, post_df])\n",
    "\n",
    "    time.sleep(0.3)\n",
    "\n",
    "    driver.execute_script(js_script)\n",
    "\n",
    "    result_df['貼文內容'] = result_df['貼文內容'].astype(str)\n",
    "    amount = len(result_df[~result_df['貼文內容'].str.contains('查看更多')]['連結'].unique())\n",
    "\n",
    "    # 更新進度條至新的完成數量\n",
    "    pbar.update(amount - pbar.n)\n",
    "\n",
    "pbar.close()  \n",
    "driver.close()"
   ]
  },
  {
   "cell_type": "markdown",
   "metadata": {},
   "source": [
    "儲存"
   ]
  },
  {
   "cell_type": "code",
   "execution_count": null,
   "metadata": {},
   "outputs": [
    {
     "data": {
      "text/html": [
       "<div>\n",
       "<style scoped>\n",
       "    .dataframe tbody tr th:only-of-type {\n",
       "        vertical-align: middle;\n",
       "    }\n",
       "\n",
       "    .dataframe tbody tr th {\n",
       "        vertical-align: top;\n",
       "    }\n",
       "\n",
       "    .dataframe thead th {\n",
       "        text-align: right;\n",
       "    }\n",
       "</style>\n",
       "<table border=\"1\" class=\"dataframe\">\n",
       "  <thead>\n",
       "    <tr style=\"text-align: right;\">\n",
       "      <th></th>\n",
       "      <th>作者</th>\n",
       "      <th>讚數</th>\n",
       "      <th>時間</th>\n",
       "      <th>連結</th>\n",
       "      <th>貼文內容</th>\n",
       "    </tr>\n",
       "  </thead>\n",
       "  <tbody>\n",
       "    <tr>\n",
       "      <th>0</th>\n",
       "      <td>鄭玉潔</td>\n",
       "      <td>0</td>\n",
       "      <td>3小時</td>\n",
       "      <td>https://www.facebook.com/groups/traveler168/po...</td>\n",
       "      <td>最夢幻溫泉山莊藏身萬坪原始林中，僅18間客房都為獨棟小屋都有專屬戶外露天溫泉風呂泡湯賞雪同時...</td>\n",
       "    </tr>\n",
       "    <tr>\n",
       "      <th>1</th>\n",
       "      <td>跟著領隊玩</td>\n",
       "      <td>2</td>\n",
       "      <td>4小時</td>\n",
       "      <td>https://www.facebook.com/groups/traveler168/po...</td>\n",
       "      <td>Google高達4.3顆星！顛覆你客家小吃的印象，北埔的客家桌菜，道道是經典，吃過的都說讚，...</td>\n",
       "    </tr>\n",
       "    <tr>\n",
       "      <th>2</th>\n",
       "      <td>Amy Lin</td>\n",
       "      <td>0</td>\n",
       "      <td>4小時</td>\n",
       "      <td>https://www.facebook.com/groups/traveler168/po...</td>\n",
       "      <td>#板橋美食海鮮夠鮮美才敢清蒸！蒸天下蒸氣火鍋海鮮餐廳非常適合聚餐宴客，還有波士頓龍蝦可以品嘗...</td>\n",
       "    </tr>\n",
       "    <tr>\n",
       "      <th>3</th>\n",
       "      <td>宗韓</td>\n",
       "      <td>0</td>\n",
       "      <td>4小時</td>\n",
       "      <td>https://www.facebook.com/groups/traveler168/po...</td>\n",
       "      <td>藝綺地中海私廚餐酒館, 復古貴族風, 香煎特級牛排份量厚度都很威, 約會很推薦, 一起享受浪...</td>\n",
       "    </tr>\n",
       "    <tr>\n",
       "      <th>4</th>\n",
       "      <td>謝露西</td>\n",
       "      <td>0</td>\n",
       "      <td>4小時</td>\n",
       "      <td>https://www.facebook.com/groups/traveler168/po...</td>\n",
       "      <td>有人還沒跟上這波免簽的嗎??大概倒數一個月囉~~~(希望可以再延長啊啊啊啊!!!</td>\n",
       "    </tr>\n",
       "    <tr>\n",
       "      <th>...</th>\n",
       "      <td>...</td>\n",
       "      <td>...</td>\n",
       "      <td>...</td>\n",
       "      <td>...</td>\n",
       "      <td>...</td>\n",
       "    </tr>\n",
       "    <tr>\n",
       "      <th>995</th>\n",
       "      <td>Lucky hamburger ！</td>\n",
       "      <td>0</td>\n",
       "      <td>3月22日</td>\n",
       "      <td>https://www.facebook.com/groups/traveler168/po...</td>\n",
       "      <td>在地土城人～還沒吃過  Lucky 漢堡嗎？ 迫不及待趕快來吃看看吧～ 本月銷售月冠軍  熔...</td>\n",
       "    </tr>\n",
       "    <tr>\n",
       "      <th>996</th>\n",
       "      <td>Sinian Li</td>\n",
       "      <td>2</td>\n",
       "      <td>3月22日</td>\n",
       "      <td>https://www.facebook.com/groups/traveler168/po...</td>\n",
       "      <td>補財庫_招財小物一次看：『紫南宮』求發財金美食之旅_有拜有保庇_財富攏總來紫南宮：南投縣竹山...</td>\n",
       "    </tr>\n",
       "    <tr>\n",
       "      <th>997</th>\n",
       "      <td>任秋磊</td>\n",
       "      <td>0</td>\n",
       "      <td>3月22日</td>\n",
       "      <td>https://www.facebook.com/groups/traveler168/po...</td>\n",
       "      <td>超愛義大利羅馬假期義大利10日游全程4星級飯店無車購/無購物特別加碼贈送: 轉接插頭 / 行...</td>\n",
       "    </tr>\n",
       "    <tr>\n",
       "      <th>998</th>\n",
       "      <td>高樂天</td>\n",
       "      <td>4</td>\n",
       "      <td>3月22日</td>\n",
       "      <td>https://www.facebook.com/groups/traveler168/po...</td>\n",
       "      <td>原本隱身在北安橋下大腸包小腸，被檢舉才搬遷現址開啟實體店面「原北安橋下黑輪攤」。「原北安橋下...</td>\n",
       "    </tr>\n",
       "    <tr>\n",
       "      <th>999</th>\n",
       "      <td>AdventurousMark</td>\n",
       "      <td>2</td>\n",
       "      <td>3月21日</td>\n",
       "      <td>https://www.facebook.com/groups/traveler168/po...</td>\n",
       "      <td></td>\n",
       "    </tr>\n",
       "  </tbody>\n",
       "</table>\n",
       "<p>1000 rows × 5 columns</p>\n",
       "</div>"
      ],
      "text/plain": [
       "                    作者 讚數     時間  \\\n",
       "0                  鄭玉潔  0    3小時   \n",
       "1                跟著領隊玩  2    4小時   \n",
       "2              Amy Lin  0    4小時   \n",
       "3                   宗韓  0    4小時   \n",
       "4                  謝露西  0    4小時   \n",
       "..                 ... ..    ...   \n",
       "995  Lucky hamburger ！  0  3月22日   \n",
       "996          Sinian Li  2  3月22日   \n",
       "997                任秋磊  0  3月22日   \n",
       "998                高樂天  4  3月22日   \n",
       "999    AdventurousMark  2  3月21日   \n",
       "\n",
       "                                                    連結  \\\n",
       "0    https://www.facebook.com/groups/traveler168/po...   \n",
       "1    https://www.facebook.com/groups/traveler168/po...   \n",
       "2    https://www.facebook.com/groups/traveler168/po...   \n",
       "3    https://www.facebook.com/groups/traveler168/po...   \n",
       "4    https://www.facebook.com/groups/traveler168/po...   \n",
       "..                                                 ...   \n",
       "995  https://www.facebook.com/groups/traveler168/po...   \n",
       "996  https://www.facebook.com/groups/traveler168/po...   \n",
       "997  https://www.facebook.com/groups/traveler168/po...   \n",
       "998  https://www.facebook.com/groups/traveler168/po...   \n",
       "999  https://www.facebook.com/groups/traveler168/po...   \n",
       "\n",
       "                                                  貼文內容  \n",
       "0    最夢幻溫泉山莊藏身萬坪原始林中，僅18間客房都為獨棟小屋都有專屬戶外露天溫泉風呂泡湯賞雪同時...  \n",
       "1    Google高達4.3顆星！顛覆你客家小吃的印象，北埔的客家桌菜，道道是經典，吃過的都說讚，...  \n",
       "2    #板橋美食海鮮夠鮮美才敢清蒸！蒸天下蒸氣火鍋海鮮餐廳非常適合聚餐宴客，還有波士頓龍蝦可以品嘗...  \n",
       "3    藝綺地中海私廚餐酒館, 復古貴族風, 香煎特級牛排份量厚度都很威, 約會很推薦, 一起享受浪...  \n",
       "4             有人還沒跟上這波免簽的嗎??大概倒數一個月囉~~~(希望可以再延長啊啊啊啊!!!  \n",
       "..                                                 ...  \n",
       "995  在地土城人～還沒吃過  Lucky 漢堡嗎？ 迫不及待趕快來吃看看吧～ 本月銷售月冠軍  熔...  \n",
       "996  補財庫_招財小物一次看：『紫南宮』求發財金美食之旅_有拜有保庇_財富攏總來紫南宮：南投縣竹山...  \n",
       "997  超愛義大利羅馬假期義大利10日游全程4星級飯店無車購/無購物特別加碼贈送: 轉接插頭 / 行...  \n",
       "998  原本隱身在北安橋下大腸包小腸，被檢舉才搬遷現址開啟實體店面「原北安橋下黑輪攤」。「原北安橋下...  \n",
       "999                                                     \n",
       "\n",
       "[1000 rows x 5 columns]"
      ]
     },
     "execution_count": 27,
     "metadata": {},
     "output_type": "execute_result"
    }
   ],
   "source": [
    "dataset = result_df[~result_df['貼文內容'].str.contains('查看更多')]\n",
    "\n",
    "dataset = dataset.drop_duplicates(subset = '連結').reset_index(drop = True)\n",
    "\n",
    "dataset"
   ]
  },
  {
   "cell_type": "markdown",
   "metadata": {},
   "source": [
    "## 04. 時間格式調整\n",
    "\n",
    "從 Facebook 社團爬取的貼文時間，格式並不統一。例如：「1小時」、「1月24日」、「1天」。"
   ]
  },
  {
   "cell_type": "code",
   "execution_count": 48,
   "metadata": {},
   "outputs": [],
   "source": [
    "from datetime import datetime, timedelta\n",
    "\n",
    "def convert_time_to_date(time_str):\n",
    "    today = datetime.now()\n",
    "    if '小時' in time_str or '分鐘' in time_str:\n",
    "        hours_ago = int(re.findall(r'\\d+', time_str)[0])\n",
    "        target_date = today - timedelta(hours = hours_ago)\n",
    "    elif '天' in time_str:\n",
    "        days_ago = int(re.findall(r'\\d+', time_str)[0])\n",
    "        target_date = today - timedelta(days = days_ago)\n",
    "    elif '月' in time_str:\n",
    "        # Assuming the format is '4月17日下午7:55', only extract month and day\n",
    "        month, day = map(int, re.findall(r'\\d+', time_str[:time_str.index('日') + 1]))\n",
    "        target_date = datetime(year = 2024, month = month, day = day)\n",
    "    else:\n",
    "        return time_str\n",
    "\n",
    "    return target_date.strftime('2024-%m-%d')"
   ]
  },
  {
   "cell_type": "code",
   "execution_count": 51,
   "metadata": {},
   "outputs": [],
   "source": [
    "dataset['時間'] = dataset['時間'].apply(convert_time_to_date)"
   ]
  },
  {
   "cell_type": "code",
   "execution_count": 52,
   "metadata": {},
   "outputs": [],
   "source": [
    "dataset.to_csv('./data/fb_post_02.csv', index = False)"
   ]
  }
 ],
 "metadata": {
  "kernelspec": {
   "display_name": "venv",
   "language": "python",
   "name": "python3"
  },
  "language_info": {
   "codemirror_mode": {
    "name": "ipython",
    "version": 3
   },
   "file_extension": ".py",
   "mimetype": "text/x-python",
   "name": "python",
   "nbconvert_exporter": "python",
   "pygments_lexer": "ipython3",
   "version": "3.10.9"
  }
 },
 "nbformat": 4,
 "nbformat_minor": 2
}
