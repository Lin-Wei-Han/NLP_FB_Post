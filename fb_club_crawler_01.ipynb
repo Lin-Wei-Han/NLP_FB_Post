{
 "cells": [
  {
   "cell_type": "markdown",
   "metadata": {},
   "source": [
    "# 【NLP 自然語言處理】2024 FaceBook社團貼文爬蟲 Part 1"
   ]
  },
  {
   "cell_type": "markdown",
   "metadata": {},
   "source": [
    "## Selenium 爬蟲"
   ]
  },
  {
   "cell_type": "code",
   "execution_count": 107,
   "metadata": {},
   "outputs": [],
   "source": [
    "# !pip3 install selenium"
   ]
  },
  {
   "cell_type": "markdown",
   "metadata": {},
   "source": [
    "### 01. 瀏覽器設定：允許所有網站通知行為\n",
    "\n",
    "`profile.default_content_setting_values.notifications`：這是 Chrome 設定中負責控制網站通知行為的部分。\n",
    "- 1：允許對於網站發出的通知。\n",
    "\n",
    "- 2：阻擋通知。\n",
    "\n",
    "![notifications](./image/notification.png)"
   ]
  },
  {
   "cell_type": "code",
   "execution_count": 108,
   "metadata": {},
   "outputs": [],
   "source": [
    "from selenium import webdriver\n",
    "\n",
    "chrome_options = webdriver.ChromeOptions()\n",
    "\n",
    "# 允許所有網站通知行為\n",
    "chrome_options.add_experimental_option(\n",
    "    \"prefs\", \n",
    "    {\n",
    "        \"profile.default_content_setting_values.notifications\": 1\n",
    "    }\n",
    ")"
   ]
  },
  {
   "cell_type": "markdown",
   "metadata": {},
   "source": [
    "### 02. 啟動 webdriver"
   ]
  },
  {
   "cell_type": "code",
   "execution_count": 109,
   "metadata": {},
   "outputs": [],
   "source": [
    "driver = webdriver.Chrome(options = chrome_options)"
   ]
  },
  {
   "cell_type": "markdown",
   "metadata": {},
   "source": [
    "### 03. 設定視窗大小\n",
    "\n",
    "不同的視窗大小會影響網頁排版樣式，間接影響爬蟲的流程，事先設定好可以避免因排版問題而導致爬蟲錯誤。"
   ]
  },
  {
   "cell_type": "code",
   "execution_count": 110,
   "metadata": {},
   "outputs": [],
   "source": [
    "driver.set_window_size(800, 800)"
   ]
  },
  {
   "cell_type": "markdown",
   "metadata": {},
   "source": [
    "### 04. 網址導向\n",
    "\n",
    "利用 `get` 可將 Webdriver 導向到指定的網站頁面。"
   ]
  },
  {
   "cell_type": "code",
   "execution_count": 122,
   "metadata": {},
   "outputs": [],
   "source": [
    "login_url = 'https://www.facebook.com/login/device-based/regular/login/?login_attempt=1&next=https%3A%2F%2Fwww.facebook.com'\n",
    "driver.get(login_url)"
   ]
  },
  {
   "cell_type": "markdown",
   "metadata": {},
   "source": [
    "### 05. 輸入 Input \n",
    "\n",
    "利用 `find_element` 可以抓到網頁的指定的位置：\n",
    "\n",
    "- 第一個參數：指定 Selector 來定向到目標節點：輸入框、按鈕。例如：By.CSS_SELECTOR （使用 CSS Selector）\n",
    "\n",
    "- 第二個參數：目標節點的位置。例如：#email_container input （目標節點的 CSS 位置）\n",
    "\n",
    "可用於輸入搜尋框、登入輸入帳密...等"
   ]
  },
  {
   "cell_type": "markdown",
   "metadata": {},
   "source": [
    "#### Email 輸入框\n",
    "\n",
    "由下圖可以發現 Email 輸入框對應的節點是標籤 input，但不是只有 Email 輸入框的標籤是 input。\n",
    "\n",
    "因此，我可以從標籤 input 的前一層（父級）來去指定，我們抓取前一層的屬性 id。在 CSS Selector 的表示為 `#email_container`。\n",
    "\n",
    "如果要指定屬性 id 為 `email_container` 底下的標籤 input，則空格加上下一層（子級）的 Selector，所以就會是 `#email_container input`\n",
    "\n",
    "![Email](./image/login.png)"
   ]
  },
  {
   "cell_type": "markdown",
   "metadata": {},
   "source": [
    "#### Password 輸入框\n",
    "\n",
    "Password的概念相同，不同的是，我們先嘗試選擇屬性 class，再加上標籤 input。\n",
    "\n",
    "如果要使用 CSS Selector 來指定屬性 class，則要加上 `.`，例如： `._55r1`。\n",
    "\n",
    "![Email](./image/pass.png)"
   ]
  },
  {
   "cell_type": "markdown",
   "metadata": {},
   "source": [
    "但是，可以注意到在這個例子的屬姓 class 是 `_55r1 _1kbt`，中間有了空格。這裡並不是 classname 可以包含空格，而是這裡存在兩個 classname。（理論上沒有上限，屬性值可以有複數個名稱，會以空格來區隔）。\n",
    "\n",
    "根據這裡包含的 classname，可以有幾種指定方式：\n",
    "\n",
    "- 指定其中一個 classname：`._55r1`、`._1kbt`。\n",
    "\n",
    "- 指定所有 classname：`._55r1._1kbt`（兩個 classname 位在同一個標籤下，不存在從屬關係，因此 CSS Selector 不須空格）。\n",
    "\n",
    "加上標籤 input 後，就會變成 `._55r1._1kbt input`（`input` 在 `_55r1 _1kbt` 下，所以 CSS Selector 須空格）。\n"
   ]
  },
  {
   "cell_type": "code",
<<<<<<< HEAD
<<<<<<< HEAD
=======
   "execution_count": 121,
   "metadata": {},
   "outputs": [],
   "source": [
    "facebook_mail = '409650347@gms.tku.edu.tw'\n",
    "facebook_password = 'educatian02'"
   ]
  },
  {
   "cell_type": "code",
>>>>>>> d456c80 (Update: 【NLP 自然語言處理 01】2024 FaceBook社團貼文爬蟲 Part 1)
=======
>>>>>>> d641899 (Update: 【NLP 自然語言處理 01】pwd mail)
   "execution_count": 123,
   "metadata": {},
   "outputs": [],
   "source": [
    "from selenium.webdriver.common.by import By\n",
    "\n",
    "\n",
    "# 建議新建一個新的帳號，避免被鎖\n",
    "facebook_mail = 'YOUR_FACEBOOK_MAIL'\n",
    "facebook_password = 'YOUR_FACEBOOK_PASSWORD'\n",
    "\n",
    "email_element = driver.find_element(By.CSS_SELECTOR,'#email_container input')\n",
    "password_element = driver.find_element(By.CSS_SELECTOR,'._55r1._1kbt input')\n",
    "\n",
    "email_element.send_keys(facebook_mail)\n",
    "password_element.send_keys(facebook_password)\n"
   ]
  },
  {
   "cell_type": "markdown",
   "metadata": {},
   "source": [
    "### 06. 點擊按鈕"
   ]
  },
  {
   "cell_type": "markdown",
   "metadata": {},
   "source": [
    "#### Login 按鈕\n",
    "\n",
    "由於 id 屬性在這個網站是唯一的，`loginbutton`。因此 CSS Selector 直接設置為 `#loginbutton`即可。\n",
    "\n",
    "![Email](./image/btn.png)"
   ]
  },
  {
   "cell_type": "code",
   "execution_count": 124,
   "metadata": {},
   "outputs": [],
   "source": [
    "login_button = driver.find_element(By.CSS_SELECTOR, '#loginbutton')\n",
    "\n",
    "login_button.click()"
   ]
  },
  {
   "cell_type": "markdown",
   "metadata": {},
   "source": [
    "前往指定社團頁面"
   ]
  },
  {
   "cell_type": "code",
   "execution_count": 125,
   "metadata": {},
   "outputs": [],
   "source": [
    "url = 'https://www.facebook.com/groups/traveler168'\n",
    "\n",
    "driver.get(url)"
   ]
  },
  {
   "cell_type": "markdown",
   "metadata": {},
   "source": [
    "### 07. 頁面滾動\n",
    "\n",
    "由於動態網頁的網頁內容是透過Javascript渲染而成，因此進入網頁後不會一次渲染出所有內容，例如：\n",
    "\n",
    "- FaceBook 社團貼文\n",
    "- Instagram 搜尋結果頁\n",
    "- Google Maps 景點評論\n",
    "\n",
    "上面提到的例子，都必須透過使用者不斷滾動頁面來載入更多內容，而在爬蟲時，我們就必須模擬像這樣的滾動行為，來取得更多資料。"
   ]
  },
  {
   "cell_type": "markdown",
   "metadata": {},
   "source": [
    "`execute_script` 可以幫助我們在 Webdriver 上執行 Javascript，如此一來便能夠做出更細緻、進階的操作，包含但不限於：頁面滾動、處理彈出窗口、修改網頁元素。"
   ]
  },
  {
   "cell_type": "code",
   "execution_count": 126,
   "metadata": {},
   "outputs": [],
   "source": [
    "driver.execute_script(\"window.scrollTo(0, document.body.scrollHeight);\")"
   ]
  },
  {
   "cell_type": "markdown",
   "metadata": {},
   "source": [
    "我們可以寫一個迴圈，讓網站可以連續下滑3次。\n",
    "\n",
    "註：由於網頁 DOM 節點的載入需要時間，滾動頁面時中間需間隔一段時間，否則在節點載入完成前 Javascript 就會先執行完畢。 "
   ]
  },
  {
   "cell_type": "code",
   "execution_count": 127,
   "metadata": {},
   "outputs": [],
   "source": [
    "import time\n",
    "\n",
    "counter = 0\n",
    "while counter <= 3:\n",
    "    driver.execute_script(\"window.scrollTo(0, document.body.scrollHeight);\")\n",
    "    # 等待 0.5 秒（確保網頁節點有載入，可根據需求調整等待時間）\n",
    "    time.sleep(0.5)\n",
    "    counter += 1"
   ]
  },
  {
   "cell_type": "markdown",
   "metadata": {},
   "source": [
    "### 08. 關閉 Webdriver"
   ]
  },
  {
   "cell_type": "code",
   "execution_count": 117,
   "metadata": {},
   "outputs": [],
   "source": [
    "# 註解避免 Webdriver 關閉，這樣就可以接續往下執行\n",
    "# driver.close()"
   ]
  },
  {
   "cell_type": "markdown",
   "metadata": {},
   "source": [
    "# 【NLP 自然語言處理】2024 FaceBook社團貼文爬蟲 Part 2"
   ]
  },
  {
   "cell_type": "code",
   "execution_count": 118,
   "metadata": {},
   "outputs": [],
   "source": [
    "# !pip3 install selenium pandas"
   ]
  },
  {
   "cell_type": "markdown",
   "metadata": {},
   "source": [
    "在 Facebook 社團爬蟲的下半章節，將開始實際爬取社團內的貼文內容。爬取的資訊包含：\n",
    "\n",
    "- 作者\n",
    "\n",
    "- 讚數\n",
    "\n",
    "- 時間\n",
    "\n",
    "- 連結\n",
    "\n",
    "- 貼文內容"
   ]
  },
  {
   "cell_type": "markdown",
   "metadata": {},
   "source": [
    "### 解析網頁內容"
   ]
  },
  {
   "cell_type": "markdown",
   "metadata": {},
   "source": [
    "在 Python當中，我們可以借助 BeautifulSoup 來去解析網頁內容。\n",
    "\n",
    "延續上一篇文，`driver` 會取得瀏覽器頁面的原始 HTML 內容（就如我們實際在畫面上到的那樣）。而 `driver` 帶有 `page_source` 這個屬性，我們可以利用 `driver.page_source` 來取得當前瀏覽頁面的所有 HTML 標記（這並不等於網頁的原始碼）。"
   ]
  },
  {
   "cell_type": "markdown",
   "metadata": {},
   "source": [
    "既然我們已經可以抓出網頁的 HTML 標記，為何還需要 BeautifulSoup 呢？\n",
    "\n",
    "`driver.page_source` 回傳的只是提取出來的字串，要以字串的形式來去檢索貼文內容並不方便。BeautifulSoup 可以解析 HTML，從字串轉換為 BeautifulSoup 物件。如此一來，我們就可以使用 BeautifulSoup 提供的方法來查找網頁元素。"
   ]
  },
  {
   "cell_type": "code",
   "execution_count": 128,
   "metadata": {},
   "outputs": [],
   "source": [
    "from bs4 import BeautifulSoup\n",
    "\n",
    "page_content = driver.page_source\n",
    "\n",
    "# 因為要解析的對象是 HTML，所以需指定 html.parser 解析器\n",
    "soup = BeautifulSoup(page_content, 'html.parser')"
   ]
  },
  {
   "cell_type": "markdown",
   "metadata": {},
   "source": [
    "將 HTML 標記轉換為 BeautifulSoup 物件後，我們就可以使用 BeautifulSoup 裡的 `select` 方法。這個方法會根據 CSS Selector 來選取 HTML 的元素。\n",
    "\n",
    "輸出的結果會變成一個列表，包含了所有符合 CSS Selector 的元素。\n",
    "\n",
    "如何撰寫 CSS Selector 可參考此篇文章：https://medium.com/@xcswap.john/爬蟲必備的html-css-selectors基礎-0dc9bc399fd6"
   ]
  },
  {
   "cell_type": "markdown",
   "metadata": {},
   "source": [
    "![soup_select_post](./image/soup_select_post.png)\n",
    "\n",
    "為了抓到更精確的貼文資訊、我們可以先抓每篇貼文的整體元素，後續再對每篇貼文爬取作者、時間、內容...等資訊。由上圖可以發現，社團貼文的類名（classname）是 `x1yztbdb x1n2onr6 xh8yej3 x1ja2u2z`，因此 CSS Selector 可以寫成 `.x1yztbdb.x1n2onr6.xh8yej3.x1ja2u2z`。"
   ]
  },
  {
   "cell_type": "code",
   "execution_count": 130,
   "metadata": {},
   "outputs": [
    {
     "data": {
      "text/plain": [
       "<div class=\"x1yztbdb x1n2onr6 xh8yej3 x1ja2u2z\"><div class=\"x1n2onr6 x1ja2u2z\"><div class=\"\"><div class=\"\"><div aria-describedby=\":r3j: :r3k: :r3l: :r3n: :r3m:\" aria-labelledby=\":r3i:\" aria-posinset=\"3\" class=\"x1a2a7pz\" role=\"article\"><div class=\"x78zum5 xdt5ytf\"><div class=\"x9f619 x1n2onr6 x1ja2u2z\"><div class=\"x78zum5 x1n2onr6 xh8yej3\"><div class=\"x9f619 x1n2onr6 x1ja2u2z x1jx94hy x1qpq9i9 xdney7k xu5ydu1 xt3gfkd xh8yej3 x6ikm8r x10wlt62 xquyuld\" style=\"border-radius: max(0px, min(var(--card-corner-radius), calc((100vw - 4px - 100%) * 9999))) / var(--card-corner-radius);\"><div><div></div><div><div class=\"html-div xe8uvvx xdj266r x11i5rnm xat24cr x1mh8g0r xexx8yu x4uap5 x18d9i69 xkhd6sd\"><div class=\"html-div xe8uvvx xdj266r x11i5rnm xat24cr x1mh8g0r xexx8yu x4uap5 x18d9i69 xkhd6sd\"><div class=\"\"></div><div class=\"html-div xe8uvvx xdj266r x11i5rnm xat24cr x1mh8g0r xexx8yu x4uap5 x18d9i69 xkhd6sd\"><div class=\"html-div xe8uvvx xdj266r x11i5rnm x1mh8g0r x18d9i69 x1cy8zhl x78zum5 x1q0g3np xod5an3 x1pi30zi x1swvt13 xz9dl7a\"><div class=\"html-div xe8uvvx xdj266r xat24cr x1mh8g0r xexx8yu x4uap5 x18d9i69 xkhd6sd x78zum5 xqtp20y x1emribx\"><span class=\"\"><span class=\"xt0psk2\"><a aria-hidden=\"true\" class=\"x1i10hfl xjbqb8w x1ejq31n xd10rxx x1sy0etr x17r0tee x972fbf xcfux6l x1qhh985 xm0m39n x9f619 x1ypdohk xt0psk2 xe8uvvx xdj266r x11i5rnm xat24cr x1mh8g0r xexx8yu x4uap5 x18d9i69 xkhd6sd x16tdsg8 x1hl2dhg xggy1nq x1a2a7pz x1heor9g xt0b8zv\" href=\"/groups/379672812548109/user/100064254600882/?__cft__[0]=AZVrBHk9nGb2AuMj71Zde9w_eUAuRo_dG0dxiWRnBmHpXDem50fdkUjZ3ulB3zQPWO1U4y4tDkotZAlbE3iLyijLPQtRL9h4Qkv8wNeK6efC370Vugu0Y3rKJsLbplII82BfXf3DX53RczDK8yFdBQLzL8hpOgqpDY5xNvhEkPfQq4yS2dNUpU81kX54wBs9k1YJxS2-vA49RL5nG5fXd1Ik2_TPDMSH0lTygpLHgMKsS7xt3Ws8GjxyJo6Zm4WPqlk&amp;__tn__=%3C%2CP-R\" role=\"link\" tabindex=\"-1\"><div class=\"x1vqgdyp x1n2onr6 x100vrsf\"><object type=\"nested/pressable\"><a aria-label=\"啊賀！！現做捲餅舖 - 外星人小舖\" class=\"x1i10hfl x1qjc9v5 xjbqb8w xjqpnuy xa49m3k xqeqjp1 x2hbi6w x13fuv20 xu3j5b3 x1q0q8m5 x26u7qi x972fbf xcfux6l x1qhh985 xm0m39n x9f619 x1ypdohk xdl72j9 x2lah0s xe8uvvx xdj266r x11i5rnm xat24cr x1mh8g0r x2lwn1j xeuugli xexx8yu x4uap5 x18d9i69 xkhd6sd x1n2onr6 x16tdsg8 x1hl2dhg xggy1nq x1ja2u2z x1t137rt x1o1ewxj x3x9cwd x1e5q0jg x13rtm0m x1q0g3np x87ps6o x1lku1pv x1a2a7pz xzsf02u x1rg5ohu\" href=\"/groups/379672812548109/user/100064254600882/?__cft__[0]=AZVrBHk9nGb2AuMj71Zde9w_eUAuRo_dG0dxiWRnBmHpXDem50fdkUjZ3ulB3zQPWO1U4y4tDkotZAlbE3iLyijLPQtRL9h4Qkv8wNeK6efC370Vugu0Y3rKJsLbplII82BfXf3DX53RczDK8yFdBQLzL8hpOgqpDY5xNvhEkPfQq4yS2dNUpU81kX54wBs9k1YJxS2-vA49RL5nG5fXd1Ik2_TPDMSH0lTygpLHgMKsS7xt3Ws8GjxyJo6Zm4WPqlk&amp;__tn__=%3C%3C%2CP-R\" role=\"link\" tabindex=\"0\"><div class=\"x1rg5ohu x1n2onr6 x3ajldb x1ja2u2z\"><svg aria-hidden=\"true\" class=\"x3ajldb\" data-visualcompletion=\"ignore-dynamic\" role=\"none\" style=\"height: 40px; width: 40px;\"><mask id=\":r3o:\"><circle cx=\"20\" cy=\"20\" fill=\"white\" r=\"20\"></circle></mask><g mask=\"url(#:r3o:)\"><image height=\"100%\" preserveaspectratio=\"xMidYMid slice\" style=\"height: 40px; width: 40px;\" width=\"100%\" x=\"0\" xlink:href=\"https://scontent-tpe1-1.xx.fbcdn.net/v/t39.30808-1/304600672_449845150500635_1509755950012446600_n.jpg?stp=cp0_dst-jpg_p60x60&amp;_nc_cat=101&amp;ccb=1-7&amp;_nc_sid=5f2048&amp;_nc_ohc=dF8qQ7MPZxwAb7SKTwq&amp;_nc_ht=scontent-tpe1-1.xx&amp;oh=00_AfAJUk-5a75ooiO0qeRupBh-HK_KerTqMkvLwfxTUia8EQ&amp;oe=662C16A5\" y=\"0\"/><circle class=\"xbh8q5q x1pwv2dq xvlca1e\" cx=\"20\" cy=\"20\" r=\"20\"></circle></g></svg><div class=\"x1ey2m1c xds687c x17qophe xg01cxk x47corl x10l6tqk x13vifvy x1ebt8du x19991ni x1dhq9h xzolkzo x12go9s9 x1rnf11y xprq8jg\" data-visualcompletion=\"ignore\" role=\"none\"></div></div></a></object></div></a></span></span></div><div class=\"html-div xe8uvvx xdj266r x11i5rnm xat24cr x1mh8g0r xexx8yu x4uap5 x18d9i69 xkhd6sd x1iyjqo2\"><div class=\"x78zum5 xdt5ytf xz62fqu x16ldp7u\"><div class=\"xu06os2 x1ok221b\"><span class=\"x193iq5w xeuugli x13faqbe x1vvkbs x1xmvt09 x1lliihq x1s928wv xhkezso x1gmr53x x1cpjm7i x1fgarty x1943h6x xudqn12 x3x7a5m x6prxxf xvq8zen xo1l8bm xi81zsa x1yc453h\" dir=\"auto\"><h3 class=\"html-h3 xe8uvvx x11i5rnm xat24cr x1mh8g0r xexx8yu x4uap5 x18d9i69 xkhd6sd x1vvkbs x1heor9g x1qlqyl8 x1pd3egz x1a2a7pz x1gslohp x1yc453h\" id=\":r3i:\"><span class=\"\"><span class=\"xt0psk2\"><a class=\"x1i10hfl xjbqb8w x1ejq31n xd10rxx x1sy0etr x17r0tee x972fbf xcfux6l x1qhh985 xm0m39n x9f619 x1ypdohk xt0psk2 xe8uvvx xdj266r x11i5rnm xat24cr x1mh8g0r xexx8yu x4uap5 x18d9i69 xkhd6sd x16tdsg8 x1hl2dhg xggy1nq x1a2a7pz xt0b8zv xzsf02u x1s688f\" href=\"/groups/379672812548109/user/100064254600882/?__cft__[0]=AZVrBHk9nGb2AuMj71Zde9w_eUAuRo_dG0dxiWRnBmHpXDem50fdkUjZ3ulB3zQPWO1U4y4tDkotZAlbE3iLyijLPQtRL9h4Qkv8wNeK6efC370Vugu0Y3rKJsLbplII82BfXf3DX53RczDK8yFdBQLzL8hpOgqpDY5xNvhEkPfQq4yS2dNUpU81kX54wBs9k1YJxS2-vA49RL5nG5fXd1Ik2_TPDMSH0lTygpLHgMKsS7xt3Ws8GjxyJo6Zm4WPqlk&amp;__tn__=-UC%2CP-R\" role=\"link\" tabindex=\"0\"><strong><span>啊賀！！現做捲餅舖 - 外星人小舖</span></strong></a></span></span></h3></span></div><div class=\"xu06os2 x1ok221b\"><span class=\"x193iq5w xeuugli x13faqbe x1vvkbs x1xmvt09 x1lliihq x1s928wv xhkezso x1gmr53x x1cpjm7i x1fgarty x1943h6x x4zkp8e x676frb x1nxh6w3 x1sibtaa xo1l8bm xi81zsa x1yc453h\" dir=\"auto\"><span class=\"html-span xdj266r x11i5rnm xat24cr x1mh8g0r xexx8yu x4uap5 x18d9i69 xkhd6sd x1hl2dhg x16tdsg8 x1vvkbs\" id=\":r3j:\"><span class=\"xh99ass\"><span><span class=\"xzpqnlu xjm9jq1 x6ikm8r x10wlt62 x10l6tqk x1i1rx1s\"> </span><span aria-hidden=\"true\"> · </span></span></span><span><span class=\"x4k7w5x x1h91t0o x1h9r5lt x1jfb8zj xv2umb2 x1beo9mf xaigb6o x12ejxvf x3igimt xarpa2k xedcshv x1lytzrv x1t2pt76 x7ja8zs x1qrby5j\"><a aria-label=\"6小時\" class=\"x1i10hfl xjbqb8w x1ejq31n xd10rxx x1sy0etr x17r0tee x972fbf xcfux6l x1qhh985 xm0m39n x9f619 x1ypdohk xt0psk2 xe8uvvx xdj266r x11i5rnm xat24cr x1mh8g0r xexx8yu x4uap5 x18d9i69 xkhd6sd x16tdsg8 x1hl2dhg xggy1nq x1a2a7pz x1heor9g xt0b8zv xo1l8bm\" href=\"https://www.facebook.com/groups/traveler168/posts/1860168851165157/?__cft__[0]=AZVrBHk9nGb2AuMj71Zde9w_eUAuRo_dG0dxiWRnBmHpXDem50fdkUjZ3ulB3zQPWO1U4y4tDkotZAlbE3iLyijLPQtRL9h4Qkv8wNeK6efC370Vugu0Y3rKJsLbplII82BfXf3DX53RczDK8yFdBQLzL8hpOgqpDY5xNvhEkPfQq4yS2dNUpU81kX54wBs9k1YJxS2-vA49RL5nG5fXd1Ik2_TPDMSH0lTygpLHgMKsS7xt3Ws8GjxyJo6Zm4WPqlk&amp;__tn__=%2CO%2CP-R\" role=\"link\" tabindex=\"0\"><span>6小時</span></a></span></span><span class=\"xh99ass\"><span><span class=\"xzpqnlu xjm9jq1 x6ikm8r x10wlt62 x10l6tqk x1i1rx1s\"> </span><span aria-hidden=\"true\"> · </span></span></span><span class=\"xuxw1ft\"><span class=\"x4k7w5x x1h91t0o x1h9r5lt x1jfb8zj xv2umb2 x1beo9mf xaigb6o x12ejxvf x3igimt xarpa2k xedcshv x1lytzrv x1t2pt76 x7ja8zs x1qrby5j\"><span class=\"x1rg5ohu x1n2onr6 xs7f9wi\"><svg class=\"x19dipnz x1lliihq x1k90msu x2h7rmj x1qfuztq\" fill=\"currentColor\" height=\"12\" style=\"--color: var(--secondary-icon);\" title=\"分享對象：公開社團\" viewbox=\"0 0 16 16\" width=\"12\"><title>分享對象：公開社團</title><g fill-rule=\"evenodd\" transform=\"translate(-448 -544)\"><g><path d=\"M109.5 408.5c0 3.23-2.04 5.983-4.903 7.036l.07-.036c1.167-1 1.814-2.967 2-3.834.214-1 .303-1.3-.5-1.96-.31-.253-.677-.196-1.04-.476-.246-.19-.356-.59-.606-.73-.594-.337-1.107.11-1.954.223a2.666 2.666 0 0 1-1.15-.123c-.007 0-.007 0-.013-.004l-.083-.03c-.164-.082-.077-.206.006-.36h-.006c.086-.17.086-.376-.05-.529-.19-.214-.54-.214-.804-.224-.106-.003-.21 0-.313.004l-.003-.004c-.04 0-.084.004-.124.004h-.037c-.323.007-.666-.034-.893-.314-.263-.353-.29-.733.097-1.09.28-.26.863-.8 1.807-.22.603.37 1.166.667 1.666.5.33-.11.48-.303.094-.87a1.128 1.128 0 0 1-.214-.73c.067-.776.687-.84 1.164-1.2.466-.356.68-.943.546-1.457-.106-.413-.51-.873-1.28-1.01a7.49 7.49 0 0 1 6.524 7.434\" transform=\"translate(354 143.5)\"></path><path d=\"M104.107 415.696A7.498 7.498 0 0 1 94.5 408.5a7.48 7.48 0 0 1 3.407-6.283 5.474 5.474 0 0 0-1.653 2.334c-.753 2.217-.217 4.075 2.29 4.075.833 0 1.4.561 1.333 2.375-.013.403.52 1.78 2.45 1.89.7.04 1.184 1.053 1.33 1.74.06.29.127.65.257.97a.174.174 0 0 0 .193.096\" transform=\"translate(354 143.5)\"></path><path d=\"M110 408.5a8 8 0 1 1-16 0 8 8 0 0 1 16 0zm-1 0a7 7 0 1 0-14 0 7 7 0 0 0 14 0z\" fill-rule=\"nonzero\" transform=\"translate(354 143.5)\"></path></g></g></svg></span></span></span></span></span></div></div></div><div class=\"xqcrz7y x78zum5 x1qx5ct2 x1y1aw1k x1sxyh0 xwib8y2 xurb0ha xw4jnvo\"><div><div aria-expanded=\"false\" aria-haspopup=\"menu\" aria-label=\"可對此貼文採取的動作\" class=\"x1i10hfl x1qjc9v5 xjqpnuy xa49m3k xqeqjp1 x2hbi6w x9f619 x1ypdohk xdl72j9 x2lah0s xe8uvvx x2lwn1j xeuugli x16tdsg8 x1hl2dhg xggy1nq x1ja2u2z x1t137rt x1o1ewxj x3x9cwd x1e5q0jg x13rtm0m x1q0g3np x87ps6o x1lku1pv x1a2a7pz xjyslct xjbqb8w x13fuv20 xu3j5b3 x1q0q8m5 x26u7qi x972fbf xcfux6l x1qhh985 xm0m39n x3nfvp2 xdj266r x11i5rnm xat24cr x1mh8g0r xexx8yu x4uap5 x18d9i69 xkhd6sd x1n2onr6 x3ajldb x194ut8o x1vzenxt xd7ygy7 xt298gk x1xhcax0 x1s928wv x10pfhc2 x1j6awrg x1v53gu8 x1tfg27r xitxdhh\" role=\"button\" tabindex=\"0\"><svg class=\"x19dipnz x1lliihq x1k90msu x2h7rmj x1qfuztq\" fill=\"currentColor\" height=\"20\" style=\"--color: var(--secondary-icon);\" viewbox=\"0 0 20 20\" width=\"20\"><g fill-rule=\"evenodd\" transform=\"translate(-446 -350)\"><path d=\"M458 360a2 2 0 1 1-4 0 2 2 0 0 1 4 0m6 0a2 2 0 1 1-4 0 2 2 0 0 1 4 0m-12 0a2 2 0 1 1-4 0 2 2 0 0 1 4 0\"></path></g></svg><div class=\"x1ey2m1c xds687c x17qophe xg01cxk x47corl x10l6tqk x13vifvy x1ebt8du x19991ni x1dhq9h xzolkzo x12go9s9 x1rnf11y xprq8jg\" data-visualcompletion=\"ignore\" role=\"none\"></div></div></div></div></div></div><div><div class=\"\" dir=\"auto\"><div class=\"x1iorvi4 x1pi30zi x1l90r2v x1swvt13\" data-ad-comet-preview=\"message\" data-ad-preview=\"message\" id=\":r3k:\"><div class=\"x78zum5 xdt5ytf xz62fqu x16ldp7u\"><div class=\"xu06os2 x1ok221b\"><span class=\"x193iq5w xeuugli x13faqbe x1vvkbs x1xmvt09 x1lliihq x1s928wv xhkezso x1gmr53x x1cpjm7i x1fgarty x1943h6x xudqn12 x3x7a5m x6prxxf xvq8zen xo1l8bm xzsf02u x1yc453h\" dir=\"auto\"><div class=\"xdj266r x11i5rnm xat24cr x1mh8g0r x1vvkbs x126k92a\"><div dir=\"auto\" style=\"text-align: start;\">啊賀！！現做捲餅舖的「加熱即食」冷凍捲餅上市囉！</div><div dir=\"auto\" style=\"text-align: start;\">只要5~8分鐘 就能輕鬆解決您的早、午、晚餐及點心宵夜</div><div dir=\"auto\" style=\"text-align: start;\">12種品項任您選擇，營養美味是家庭主婦、上班族、學生族群解決三餐 、點心、宵夜的新選擇。</div><div dir=\"auto\" style=\"text-align: start;\">一份兩塊，料理方式簡單快速，隨時隨地您都能享受一份像剛出爐酥脆好吃的捲餅，滿足您不同的需求喔</div><div dir=\"auto\" style=\"text-align: start;\">現在訂購即可享有9折優惠，雙北地區滿一千元以上還可免付運費喔！…… <div class=\"x1i10hfl xjbqb8w x1ejq31n xd10rxx x1sy0etr x17r0tee x972fbf xcfux6l x1qhh985 xm0m39n x9f619 x1ypdohk xt0psk2 xe8uvvx xdj266r x11i5rnm xat24cr x1mh8g0r xexx8yu x4uap5 x18d9i69 xkhd6sd x16tdsg8 x1hl2dhg xggy1nq x1a2a7pz xt0b8zv xzsf02u x1s688f\" role=\"button\" tabindex=\"0\">查看更多</div></div></div></span></div></div></div></div><div class=\"x1n2onr6\" id=\":r3l:\"><div class=\"x1n2onr6\"><div><div class=\"x1n2onr6\"><div class=\"x1n2onr6\" style=\"padding-top: calc(100%);\"><div class=\"x6ikm8r x10wlt62 x10l6tqk\" style=\"inset: calc(0% + 0px) calc(33.3333% + 1.01px) calc(0% + 0px) calc(0% + 0px);\"><a aria-label=\"可能是文字的圖像\" class=\"x1i10hfl x1qjc9v5 xjbqb8w xjqpnuy xa49m3k xqeqjp1 x2hbi6w x13fuv20 xu3j5b3 x1q0q8m5 x26u7qi x972fbf xcfux6l x1qhh985 xm0m39n x9f619 x1ypdohk xdl72j9 x2lah0s xe8uvvx xdj266r x11i5rnm xat24cr x1mh8g0r x2lwn1j xeuugli xexx8yu x4uap5 x18d9i69 xkhd6sd x16tdsg8 x1hl2dhg xggy1nq x1ja2u2z x1t137rt x1o1ewxj x3x9cwd x1e5q0jg x13rtm0m x1q0g3np x87ps6o x1lku1pv x1rg5ohu x1a2a7pz x1ey2m1c xds687c x10l6tqk x17qophe x13vifvy x1pdlv7q\" href=\"https://www.facebook.com/photo/?fbid=827664402718706&amp;set=pcb.1860168851165157&amp;__cft__[0]=AZVrBHk9nGb2AuMj71Zde9w_eUAuRo_dG0dxiWRnBmHpXDem50fdkUjZ3ulB3zQPWO1U4y4tDkotZAlbE3iLyijLPQtRL9h4Qkv8wNeK6efC370Vugu0Y3rKJsLbplII82BfXf3DX53RczDK8yFdBQLzL8hpOgqpDY5xNvhEkPfQq4yS2dNUpU81kX54wBs9k1YJxS2-vA49RL5nG5fXd1Ik2_TPDMSH0lTygpLHgMKsS7xt3Ws8GjxyJo6Zm4WPqlk&amp;__tn__=*bH-R\" role=\"link\" tabindex=\"0\"><div class=\"x6ikm8r x10wlt62\"><div class=\"xqtp20y x6ikm8r x10wlt62 x1n2onr6\" style=\"padding-top: 150%;\"><div class=\"x10l6tqk x13vifvy\" style=\"height: calc(148.056%); top: 0%; width: 100%;\"><img alt=\"\" class=\"xz74otr x1ey2m1c xds687c x5yr21d x10l6tqk x17qophe x13vifvy xh8yej3\" referrerpolicy=\"origin-when-cross-origin\" src=\"https://scontent-tpe1-1.xx.fbcdn.net/v/t39.30808-6/438712540_827664512718695_6765178388614392830_n.jpg?stp=dst-jpg_p403x403&amp;_nc_cat=101&amp;ccb=1-7&amp;_nc_sid=5f2048&amp;_nc_ohc=wBeoFW3DL_sAb7RWvG8&amp;_nc_ht=scontent-tpe1-1.xx&amp;oh=00_AfDgnEdK4RDd1ZOYAtZSGsK4zZpPl8_ULniWekrUvD4O1w&amp;oe=662C2709\"/></div></div><div class=\"x1nb4dca x1q0q8m5 xso031l x1exxf4d x13fuv20 x178xt8z x1ey2m1c x9f619 xds687c x47corl x10l6tqk x17qophe x13vifvy\"></div></div><div class=\"x1ey2m1c xds687c x17qophe xg01cxk x47corl x10l6tqk x13vifvy x1ebt8du x19991ni x1dhq9h x1o1ewxj x3x9cwd x1e5q0jg x13rtm0m\" data-visualcompletion=\"ignore\" role=\"none\"></div></a></div><div class=\"x6ikm8r x10wlt62 x10l6tqk\" style=\"inset: calc(0% + 0px) calc(0% + 0px) calc(66.6667% + 1.01px) calc(66.6667% + 1.01px);\"><a aria-label=\"可能是炒麵、義大利麵、豆腐和文字的圖像\" class=\"x1i10hfl x1qjc9v5 xjbqb8w xjqpnuy xa49m3k xqeqjp1 x2hbi6w x13fuv20 xu3j5b3 x1q0q8m5 x26u7qi x972fbf xcfux6l x1qhh985 xm0m39n x9f619 x1ypdohk xdl72j9 x2lah0s xe8uvvx xdj266r x11i5rnm xat24cr x1mh8g0r x2lwn1j xeuugli xexx8yu x4uap5 x18d9i69 xkhd6sd x16tdsg8 x1hl2dhg xggy1nq x1ja2u2z x1t137rt x1o1ewxj x3x9cwd x1e5q0jg x13rtm0m x1q0g3np x87ps6o x1lku1pv x1rg5ohu x1a2a7pz x1ey2m1c xds687c x10l6tqk x17qophe x13vifvy x1pdlv7q\" href=\"https://www.facebook.com/photo/?fbid=827664429385370&amp;set=pcb.1860168851165157&amp;__cft__[0]=AZVrBHk9nGb2AuMj71Zde9w_eUAuRo_dG0dxiWRnBmHpXDem50fdkUjZ3ulB3zQPWO1U4y4tDkotZAlbE3iLyijLPQtRL9h4Qkv8wNeK6efC370Vugu0Y3rKJsLbplII82BfXf3DX53RczDK8yFdBQLzL8hpOgqpDY5xNvhEkPfQq4yS2dNUpU81kX54wBs9k1YJxS2-vA49RL5nG5fXd1Ik2_TPDMSH0lTygpLHgMKsS7xt3Ws8GjxyJo6Zm4WPqlk&amp;__tn__=*bH-R\" role=\"link\" tabindex=\"0\"><div class=\"x6ikm8r x10wlt62\"><div class=\"xqtp20y x6ikm8r x10wlt62 x1n2onr6\" style=\"padding-top: 100%;\"><div class=\"x10l6tqk x13vifvy\" style=\"height: calc(141.875%); top: 0%; width: 100%;\"><img alt=\"\" class=\"xz74otr x1ey2m1c xds687c x5yr21d x10l6tqk x17qophe x13vifvy xh8yej3\" referrerpolicy=\"origin-when-cross-origin\" src=\"https://scontent-tpe1-1.xx.fbcdn.net/v/t39.30808-6/438701642_827664536052026_3448322087919251601_n.jpg?stp=dst-jpg_p640x640&amp;_nc_cat=109&amp;ccb=1-7&amp;_nc_sid=5f2048&amp;_nc_ohc=tFLLejCY7pEAb5ac7I2&amp;_nc_ht=scontent-tpe1-1.xx&amp;oh=00_AfCtE5L__i6Y56hLplEguuGZREqGG7SnYUk8bh4zTlCXVw&amp;oe=662C31FA\"/></div></div><div class=\"x1nb4dca x1q0q8m5 xso031l x1exxf4d x13fuv20 x178xt8z x1ey2m1c x9f619 xds687c x47corl x10l6tqk x17qophe x13vifvy\"></div></div><div class=\"x1ey2m1c xds687c x17qophe xg01cxk x47corl x10l6tqk x13vifvy x1ebt8du x19991ni x1dhq9h x1o1ewxj x3x9cwd x1e5q0jg x13rtm0m\" data-visualcompletion=\"ignore\" role=\"none\"></div></a></div><div class=\"x6ikm8r x10wlt62 x10l6tqk\" style=\"inset: calc(33.3333% + 1.01px) calc(0% + 0px) calc(33.3333% + 1.01px) calc(66.6667% + 1.01px);\"><a aria-label=\"可能是食物的圖像\" class=\"x1i10hfl x1qjc9v5 xjbqb8w xjqpnuy xa49m3k xqeqjp1 x2hbi6w x13fuv20 xu3j5b3 x1q0q8m5 x26u7qi x972fbf xcfux6l x1qhh985 xm0m39n x9f619 x1ypdohk xdl72j9 x2lah0s xe8uvvx xdj266r x11i5rnm xat24cr x1mh8g0r x2lwn1j xeuugli xexx8yu x4uap5 x18d9i69 xkhd6sd x16tdsg8 x1hl2dhg xggy1nq x1ja2u2z x1t137rt x1o1ewxj x3x9cwd x1e5q0jg x13rtm0m x1q0g3np x87ps6o x1lku1pv x1rg5ohu x1a2a7pz x1ey2m1c xds687c x10l6tqk x17qophe x13vifvy x1pdlv7q\" href=\"https://www.facebook.com/photo/?fbid=827664449385368&amp;set=pcb.1860168851165157&amp;__cft__[0]=AZVrBHk9nGb2AuMj71Zde9w_eUAuRo_dG0dxiWRnBmHpXDem50fdkUjZ3ulB3zQPWO1U4y4tDkotZAlbE3iLyijLPQtRL9h4Qkv8wNeK6efC370Vugu0Y3rKJsLbplII82BfXf3DX53RczDK8yFdBQLzL8hpOgqpDY5xNvhEkPfQq4yS2dNUpU81kX54wBs9k1YJxS2-vA49RL5nG5fXd1Ik2_TPDMSH0lTygpLHgMKsS7xt3Ws8GjxyJo6Zm4WPqlk&amp;__tn__=*bH-R\" role=\"link\" tabindex=\"0\"><div class=\"x6ikm8r x10wlt62\"><div class=\"xqtp20y x6ikm8r x10wlt62 x1n2onr6\" style=\"padding-top: 100%;\"><div class=\"x10l6tqk x13vifvy\" style=\"height: calc(133.333%); top: 0%; width: 100%;\"><img alt=\"\" class=\"xz74otr x1ey2m1c xds687c x5yr21d x10l6tqk x17qophe x13vifvy xh8yej3\" referrerpolicy=\"origin-when-cross-origin\" src=\"https://scontent-tpe1-1.xx.fbcdn.net/v/t39.30808-6/438862330_827664599385353_4835260319399598573_n.jpg?stp=cp6_dst-jpg_p720x720&amp;_nc_cat=111&amp;ccb=1-7&amp;_nc_sid=5f2048&amp;_nc_ohc=EFTyjS7wjsUAb6dW1E0&amp;_nc_ht=scontent-tpe1-1.xx&amp;oh=00_AfAU5Q0qS3m3cXw4rGEG1sDvSON9u-BLF6lhTSxyihpc3Q&amp;oe=662C0F70\"/></div></div><div class=\"x1nb4dca x1q0q8m5 xso031l x1exxf4d x13fuv20 x178xt8z x1ey2m1c x9f619 xds687c x47corl x10l6tqk x17qophe x13vifvy\"></div></div><div class=\"x1ey2m1c xds687c x17qophe xg01cxk x47corl x10l6tqk x13vifvy x1ebt8du x19991ni x1dhq9h x1o1ewxj x3x9cwd x1e5q0jg x13rtm0m\" data-visualcompletion=\"ignore\" role=\"none\"></div></a></div><div class=\"x6ikm8r x10wlt62 x10l6tqk\" style=\"inset: calc(66.6667% + 1.01px) calc(0% + 0px) calc(0% + 0px) calc(66.6667% + 1.01px);\"><a aria-label=\"可能是文字的圖像\" class=\"x1i10hfl x1qjc9v5 xjbqb8w xjqpnuy xa49m3k xqeqjp1 x2hbi6w x13fuv20 xu3j5b3 x1q0q8m5 x26u7qi x972fbf xcfux6l x1qhh985 xm0m39n x9f619 x1ypdohk xdl72j9 x2lah0s xe8uvvx xdj266r x11i5rnm xat24cr x1mh8g0r x2lwn1j xeuugli xexx8yu x4uap5 x18d9i69 xkhd6sd x16tdsg8 x1hl2dhg xggy1nq x1ja2u2z x1t137rt x1o1ewxj x3x9cwd x1e5q0jg x13rtm0m x1q0g3np x87ps6o x1lku1pv x1rg5ohu x1a2a7pz x1ey2m1c xds687c x10l6tqk x17qophe x13vifvy x1pdlv7q\" href=\"https://www.facebook.com/photo/?fbid=827664486052031&amp;set=pcb.1860168851165157&amp;__cft__[0]=AZVrBHk9nGb2AuMj71Zde9w_eUAuRo_dG0dxiWRnBmHpXDem50fdkUjZ3ulB3zQPWO1U4y4tDkotZAlbE3iLyijLPQtRL9h4Qkv8wNeK6efC370Vugu0Y3rKJsLbplII82BfXf3DX53RczDK8yFdBQLzL8hpOgqpDY5xNvhEkPfQq4yS2dNUpU81kX54wBs9k1YJxS2-vA49RL5nG5fXd1Ik2_TPDMSH0lTygpLHgMKsS7xt3Ws8GjxyJo6Zm4WPqlk&amp;__tn__=*bH-R\" role=\"link\" tabindex=\"0\"><div class=\"x6ikm8r x10wlt62\"><div class=\"xqtp20y x6ikm8r x10wlt62 x1n2onr6\" style=\"padding-top: 100%;\"><div class=\"x10l6tqk x13vifvy\" style=\"height: calc(140.625%); top: 0%; width: 100%;\"><img alt=\"\" class=\"xz74otr x1ey2m1c xds687c x5yr21d x10l6tqk x17qophe x13vifvy xh8yej3\" referrerpolicy=\"origin-when-cross-origin\" src=\"https://scontent-tpe1-1.xx.fbcdn.net/v/t39.30808-6/438818066_827664619385351_7451995368232241173_n.jpg?stp=dst-jpg_p640x640&amp;_nc_cat=103&amp;ccb=1-7&amp;_nc_sid=5f2048&amp;_nc_ohc=R4DzaYfMhzgAb7hYqih&amp;_nc_oc=Adgy4wjYJ5MlpDlr26vOLfvty8UoyglPaY1O3kkIHuYwMNDa9dT_sXLuPiWlWt8tk_M&amp;_nc_ht=scontent-tpe1-1.xx&amp;oh=00_AfADTSxWI5xzVZ1hpg8foailh_phmQFkVOSSDDLko_xuAw&amp;oe=662C2566\"/></div></div><div class=\"x1nb4dca x1q0q8m5 xso031l x1exxf4d x13fuv20 x178xt8z x1ey2m1c x9f619 xds687c x47corl x10l6tqk x17qophe x13vifvy\"></div></div><div class=\"x1ey2m1c xds687c x17qophe xg01cxk x47corl x10l6tqk x13vifvy x1ebt8du x19991ni x1dhq9h x1o1ewxj x3x9cwd x1e5q0jg x13rtm0m\" data-visualcompletion=\"ignore\" role=\"none\"></div></a></div></div></div></div></div><div class=\"html-div xe8uvvx xdj266r x11i5rnm xat24cr x1mh8g0r xexx8yu x4uap5 x18d9i69 xkhd6sd x6ikm8r x10wlt62\"></div></div></div><div><div class=\"x168nmei x13lgxp2 x30kzoy x9jhf4c x6ikm8r x10wlt62\" data-visualcompletion=\"ignore-dynamic\"><div><div><div><div class=\"x1n2onr6\"><div class=\"x6s0dn4 xi81zsa x78zum5 x6prxxf x13a6bvl xvq8zen xdj266r xktsk01 xat24cr x1d52u69 x889kno x4uap5 x1a8lsjc xkhd6sd xdppsyt\"><div class=\"x6s0dn4 x78zum5 x1iyjqo2 x6ikm8r x10wlt62\"><span aria-label=\"看看誰對這個傳達了心情\" class=\"x1ja2u2z\" role=\"toolbar\"><span class=\"x6s0dn4 x78zum5 x1e558r4\" id=\":r3n:\"><span class=\"x6zyg47 x1xm1mqw xpn8fn3 xtct9fg x13zp6kq x1mcfq15 xrosliz x1wb7cse x13fuv20 xu3j5b3 x1q0q8m5 x26u7qi xamhcws xol2nv xlxy82 x19p7ews xmix8c7 x139jcc6 x1n2onr6 x1xp8n7a xhtitgo\"><span class=\"x12myldv x1udsgas xrc8dwe xxxhv2y x1rg5ohu xmix8c7 x1xp8n7a\"><span class=\"x4k7w5x x1h91t0o x1h9r5lt x1jfb8zj xv2umb2 x1beo9mf xaigb6o x12ejxvf x3igimt xarpa2k xedcshv x1lytzrv x1t2pt76 x7ja8zs x1qrby5j\"><div aria-label=\"讚：1 人\" class=\"x1i10hfl x1qjc9v5 xjbqb8w xjqpnuy xa49m3k xqeqjp1 x2hbi6w x13fuv20 xu3j5b3 x1q0q8m5 x26u7qi x972fbf xcfux6l x1qhh985 xm0m39n x9f619 x1ypdohk xdl72j9 x2lah0s xe8uvvx xdj266r x11i5rnm xat24cr x1mh8g0r x2lwn1j xeuugli xexx8yu x4uap5 x18d9i69 xkhd6sd x1n2onr6 x16tdsg8 x1hl2dhg xggy1nq x1ja2u2z x1t137rt x1o1ewxj x3x9cwd x1e5q0jg x13rtm0m x3nfvp2 x1q0g3np x87ps6o x1lku1pv x1a2a7pz\" role=\"button\" tabindex=\"0\"><img class=\"x16dsc37\" height=\"18\" role=\"presentation\" src=\"data:image/svg+xml,%3Csvg fill='none' xmlns='http://www.w3.org/2000/svg' viewBox='0 0 16 16'%3E%3Cpath d='M16.0001 7.9996c0 4.418-3.5815 7.9996-7.9995 7.9996S.001 12.4176.001 7.9996 3.5825 0 8.0006 0C12.4186 0 16 3.5815 16 7.9996Z' fill='url(%23paint0_linear_15251_63610)'/%3E%3Cpath d='M16.0001 7.9996c0 4.418-3.5815 7.9996-7.9995 7.9996S.001 12.4176.001 7.9996 3.5825 0 8.0006 0C12.4186 0 16 3.5815 16 7.9996Z' fill='url(%23paint1_radial_15251_63610)'/%3E%3Cpath d='M16.0001 7.9996c0 4.418-3.5815 7.9996-7.9995 7.9996S.001 12.4176.001 7.9996 3.5825 0 8.0006 0C12.4186 0 16 3.5815 16 7.9996Z' fill='url(%23paint2_radial_15251_63610)' fill-opacity='.5'/%3E%3Cpath d='M7.3014 3.8662a.6974.6974 0 0 1 .6974-.6977c.6742 0 1.2207.5465 1.2207 1.2206v1.7464a.101.101 0 0 0 .101.101h1.7953c.992 0 1.7232.9273 1.4917 1.892l-.4572 1.9047a2.301 2.301 0 0 1-2.2374 1.764H6.9185a.5752.5752 0 0 1-.5752-.5752V7.7384c0-.4168.097-.8278.2834-1.2005l.2856-.5712a3.6878 3.6878 0 0 0 .3893-1.6509l-.0002-.4496ZM4.367 7a.767.767 0 0 0-.7669.767v3.2598a.767.767 0 0 0 .767.767h.767a.3835.3835 0 0 0 .3835-.3835V7.3835A.3835.3835 0 0 0 5.134 7h-.767Z' fill='%23fff'/%3E%3Cdefs%3E%3CradialGradient id='paint1_radial_15251_63610' cx='0' cy='0' r='1' gradientUnits='userSpaceOnUse' gradientTransform='rotate(90 .0005 8) scale(7.99958)'%3E%3Cstop offset='.5618' stop-color='%230866FF' stop-opacity='0'/%3E%3Cstop offset='1' stop-color='%230866FF' stop-opacity='.1'/%3E%3C/radialGradient%3E%3CradialGradient id='paint2_radial_15251_63610' cx='0' cy='0' r='1' gradientUnits='userSpaceOnUse' gradientTransform='rotate(45 -4.5257 10.9237) scale(10.1818)'%3E%3Cstop offset='.3143' stop-color='%2302ADFC'/%3E%3Cstop offset='1' stop-color='%2302ADFC' stop-opacity='0'/%3E%3C/radialGradient%3E%3ClinearGradient id='paint0_linear_15251_63610' x1='2.3989' y1='2.3999' x2='13.5983' y2='13.5993' gradientUnits='userSpaceOnUse'%3E%3Cstop stop-color='%2302ADFC'/%3E%3Cstop offset='.5' stop-color='%230866FF'/%3E%3Cstop offset='1' stop-color='%232B7EFF'/%3E%3C/linearGradient%3E%3C/defs%3E%3C/svg%3E\" width=\"18\"/></div></span></span></span></span></span><div class=\"\"><span class=\"x4k7w5x x1h91t0o x1h9r5lt x1jfb8zj xv2umb2 x1beo9mf xaigb6o x12ejxvf x3igimt xarpa2k xedcshv x1lytzrv x1t2pt76 x7ja8zs x1qrby5j\"><div class=\"x1i10hfl xjbqb8w x1ejq31n xd10rxx x1sy0etr x17r0tee x972fbf xcfux6l x1qhh985 xm0m39n x9f619 x1ypdohk xe8uvvx xdj266r x11i5rnm xat24cr x1mh8g0r xexx8yu x4uap5 x18d9i69 xkhd6sd x16tdsg8 x1hl2dhg xggy1nq x1o1ewxj x3x9cwd x1e5q0jg x13rtm0m x1n2onr6 x87ps6o x1lku1pv x1a2a7pz x1heor9g xnl1qt8 x6ikm8r x10wlt62 x1vjfegm x1lliihq\" role=\"button\" tabindex=\"0\"><div class=\"x9f619 x1ja2u2z xzpqnlu x1hyvwdk xjm9jq1 x6ikm8r x10wlt62 x10l6tqk x1i1rx1s\">所有心情：</div><span aria-hidden=\"true\" class=\"xrbpyxo x6ikm8r x10wlt62 xlyipyv x1exxlbk\"><span><span class=\"xt0b8zv x1e558r4\">1</span></span></span> <span class=\"xt0b8zv x2bj2ny xrbpyxo xl423tq\"><span><span class=\"x1e558r4\">1</span></span></span></div></span></div></div><div class=\"x1c4vz4f x2lah0s xci0xqf\"></div><div class=\"x9f619 x1n2onr6 x1ja2u2z x78zum5 x2lah0s x1qughib x1qjc9v5 xozqiw3 x1q0g3np xykv574 xbmpl8g x4cne27 xifccgj\"><div class=\"x9f619 x1n2onr6 x1ja2u2z x78zum5 xdt5ytf x2lah0s x193iq5w xeuugli xsyo7zv x16hj40l x10b6aqq x1yrsyyn\"></div></div></div></div><div class=\"xq8finb x16n37ib\"><div class=\"x9f619 x1n2onr6 x1ja2u2z x78zum5 x2lah0s x1qughib x1qjc9v5 xozqiw3 x1q0g3np x150jy0e x1e558r4 xjkvuk6 x1iorvi4 xwrv7xz x8182xy x4cne27 xifccgj\"><div class=\"x9f619 x1n2onr6 x1ja2u2z x78zum5 xdt5ytf x193iq5w xeuugli x1r8uery x1iyjqo2 xs83m0k xg83lxy x1h0ha7o x10b6aqq x1yrsyyn\"><div aria-label=\"讚\" class=\"x1i10hfl x1qjc9v5 xjbqb8w xjqpnuy xa49m3k xqeqjp1 x2hbi6w x13fuv20 xu3j5b3 x1q0q8m5 x26u7qi x972fbf xcfux6l x1qhh985 xm0m39n x9f619 x1ypdohk xdl72j9 x2lah0s xe8uvvx xdj266r x11i5rnm xat24cr x1mh8g0r x2lwn1j xeuugli xexx8yu x4uap5 x18d9i69 xkhd6sd x1n2onr6 x16tdsg8 x1hl2dhg x1ja2u2z x1t137rt x1o1ewxj x3x9cwd x1e5q0jg x13rtm0m x3nfvp2 x1q0g3np x87ps6o x1lku1pv x1a2a7pz x5ve5x3\" role=\"button\" tabindex=\"0\"><div class=\"x9f619 x1n2onr6 x1ja2u2z x78zum5 x1r8uery x1iyjqo2 xs83m0k xeuugli xl56j7k x6s0dn4 xozqiw3 x1q0g3np xn6708d x1ye3gou xexx8yu xcud41i x139jcc6 x4cne27 xifccgj xn3w4p2 xuxw1ft\"><div class=\"x9f619 x1n2onr6 x1ja2u2z x78zum5 xdt5ytf x2lah0s x193iq5w xeuugli x150jy0e x1e558r4 x10b6aqq x1yrsyyn\"><span class=\"x3nfvp2\"><i class=\"x1b0d499 x1d69dk1\" data-visualcompletion=\"css-img\" style='background-image: url(\"https://static.xx.fbcdn.net/rsrc.php/v3/yp/r/33uRJSkrOlX.png\"); background-position: 0px -796px; background-size: 26px 1522px; width: 20px; height: 20px; background-repeat: no-repeat; display: inline-block;'></i></span></div><div class=\"x9f619 x1n2onr6 x1ja2u2z x78zum5 xdt5ytf x2lah0s x193iq5w xeuugli x150jy0e x1e558r4 x10b6aqq x1yrsyyn\"><span class=\"x193iq5w xeuugli x13faqbe x1vvkbs x1xmvt09 x1lliihq x1s928wv xhkezso x1gmr53x x1cpjm7i x1fgarty x1943h6x xudqn12 x3x7a5m x6prxxf xvq8zen x1s688f xi81zsa\" dir=\"auto\"><span>讚</span></span></div></div><div class=\"x1ey2m1c xds687c x17qophe xg01cxk x47corl x10l6tqk x13vifvy x1ebt8du x19991ni x1dhq9h x1o1ewxj x3x9cwd x1e5q0jg x13rtm0m\" data-visualcompletion=\"ignore\" role=\"none\"></div></div><div aria-label=\"傳達心情\" class=\"x1i10hfl x1qjc9v5 xjbqb8w xjqpnuy xa49m3k xqeqjp1 x2hbi6w x13fuv20 xu3j5b3 x1q0q8m5 x26u7qi x972fbf xcfux6l x1qhh985 xm0m39n x9f619 x1ypdohk xdl72j9 x2lah0s xe8uvvx xdj266r x11i5rnm xat24cr x1mh8g0r x2lwn1j xeuugli x16tdsg8 x1hl2dhg x1ja2u2z x1t137rt x1o1ewxj x3x9cwd x1e5q0jg x13rtm0m x3nfvp2 x1q0g3np x87ps6o x1lku1pv x1a2a7pz x4r51d9 x1d0ri9u x4uap5 x1ug4tga xkhd6sd xnfr1j xzpqnlu x179tack x10l6tqk x5ve5x3\" role=\"button\" tabindex=\"0\"><i class=\"x1b0d499 x1d69dk1\" data-visualcompletion=\"css-img\" style='background-image: url(\"https://static.xx.fbcdn.net/rsrc.php/v3/yt/r/AHolfQ2_wLa.png\"); background-position: 0px -854px; background-size: 26px 998px; width: 16px; height: 16px; background-repeat: no-repeat; display: inline-block;'></i><div class=\"x1ey2m1c xds687c x17qophe xg01cxk x47corl x10l6tqk x13vifvy x1ebt8du x19991ni x1dhq9h x1o1ewxj x3x9cwd x1e5q0jg x13rtm0m\" data-visualcompletion=\"ignore\" role=\"none\"></div></div></div><div class=\"x9f619 x1n2onr6 x1ja2u2z x78zum5 xdt5ytf x193iq5w xeuugli x1r8uery x1iyjqo2 xs83m0k xg83lxy x1h0ha7o x10b6aqq x1yrsyyn\"><div aria-label=\"留言\" class=\"x1i10hfl x1qjc9v5 xjbqb8w xjqpnuy xa49m3k xqeqjp1 x2hbi6w x13fuv20 xu3j5b3 x1q0q8m5 x26u7qi x972fbf xcfux6l x1qhh985 xm0m39n x9f619 x1ypdohk xdl72j9 x2lah0s xe8uvvx xdj266r x11i5rnm xat24cr x1mh8g0r x2lwn1j xeuugli xexx8yu x4uap5 x18d9i69 xkhd6sd x1n2onr6 x16tdsg8 x1hl2dhg xggy1nq x1ja2u2z x1t137rt x1o1ewxj x3x9cwd x1e5q0jg x13rtm0m x3nfvp2 x1q0g3np x87ps6o x1lku1pv x1a2a7pz\" role=\"button\" tabindex=\"0\"><div class=\"x9f619 x1n2onr6 x1ja2u2z x78zum5 x1r8uery x1iyjqo2 xs83m0k xeuugli xl56j7k x6s0dn4 xozqiw3 x1q0g3np xn6708d x1ye3gou xexx8yu xcud41i x139jcc6 x4cne27 xifccgj xn3w4p2 xuxw1ft\"><div class=\"x9f619 x1n2onr6 x1ja2u2z x78zum5 xdt5ytf x2lah0s x193iq5w xeuugli x150jy0e x1e558r4 x10b6aqq x1yrsyyn\"><i class=\"x1b0d499 x1d69dk1\" data-visualcompletion=\"css-img\" style='background-image: url(\"https://static.xx.fbcdn.net/rsrc.php/v3/yp/r/33uRJSkrOlX.png\"); background-position: 0px -598px; background-size: 26px 1522px; width: 20px; height: 20px; background-repeat: no-repeat; display: inline-block;'></i></div><div class=\"x9f619 x1n2onr6 x1ja2u2z x78zum5 xdt5ytf x2lah0s x193iq5w xeuugli x150jy0e x1e558r4 x10b6aqq x1yrsyyn\"><span class=\"x193iq5w xeuugli x13faqbe x1vvkbs x1xmvt09 x1lliihq x1s928wv xhkezso x1gmr53x x1cpjm7i x1fgarty x1943h6x xudqn12 x3x7a5m x6prxxf xvq8zen x1s688f xi81zsa\" dir=\"auto\">留言</span></div></div><div class=\"x1ey2m1c xds687c x17qophe xg01cxk x47corl x10l6tqk x13vifvy x1ebt8du x19991ni x1dhq9h x1o1ewxj x3x9cwd x1e5q0jg x13rtm0m\" data-visualcompletion=\"ignore\" role=\"none\"></div></div></div><div class=\"x9f619 x1n2onr6 x1ja2u2z x78zum5 xdt5ytf x193iq5w xeuugli x1r8uery x1iyjqo2 xs83m0k xg83lxy x1h0ha7o x10b6aqq x1yrsyyn\"><div aria-label=\"傳送給朋友或在個人檔案上發佈。\" class=\"x1i10hfl x1qjc9v5 xjbqb8w xjqpnuy xa49m3k xqeqjp1 x2hbi6w x13fuv20 xu3j5b3 x1q0q8m5 x26u7qi x972fbf xcfux6l x1qhh985 xm0m39n x9f619 x1ypdohk xdl72j9 x2lah0s xe8uvvx xdj266r x11i5rnm xat24cr x1mh8g0r x2lwn1j xeuugli xexx8yu x4uap5 x18d9i69 xkhd6sd x1n2onr6 x16tdsg8 x1hl2dhg xggy1nq x1ja2u2z x1t137rt x1o1ewxj x3x9cwd x1e5q0jg x13rtm0m x3nfvp2 x1q0g3np x87ps6o x1lku1pv x1a2a7pz\" role=\"button\" tabindex=\"0\"><div class=\"x9f619 x1n2onr6 x1ja2u2z x78zum5 x1r8uery x1iyjqo2 xs83m0k xeuugli xl56j7k x6s0dn4 xozqiw3 x1q0g3np xn6708d x1ye3gou xexx8yu xcud41i x139jcc6 x4cne27 xifccgj xn3w4p2 xuxw1ft\"><div class=\"x9f619 x1n2onr6 x1ja2u2z x78zum5 xdt5ytf x2lah0s x193iq5w xeuugli x150jy0e x1e558r4 x10b6aqq x1yrsyyn\"><i class=\"x1b0d499 x1d69dk1\" data-visualcompletion=\"css-img\" style='background-image: url(\"https://static.xx.fbcdn.net/rsrc.php/v3/yp/r/33uRJSkrOlX.png\"); background-position: 0px -950px; background-size: 26px 1522px; width: 20px; height: 20px; background-repeat: no-repeat; display: inline-block;'></i></div><div class=\"x9f619 x1n2onr6 x1ja2u2z x78zum5 xdt5ytf x2lah0s x193iq5w xeuugli x150jy0e x1e558r4 x10b6aqq x1yrsyyn\"><span class=\"x193iq5w xeuugli x13faqbe x1vvkbs x1xmvt09 x1lliihq x1s928wv xhkezso x1gmr53x x1cpjm7i x1fgarty x1943h6x xudqn12 x3x7a5m x6prxxf xvq8zen x1s688f xi81zsa\" dir=\"auto\">分享</span></div></div><div class=\"x1ey2m1c xds687c x17qophe xg01cxk x47corl x10l6tqk x13vifvy x1ebt8du x19991ni x1dhq9h x1o1ewxj x3x9cwd x1e5q0jg x13rtm0m\" data-visualcompletion=\"ignore\" role=\"none\"></div></div></div></div></div></div></div><div class=\"xzueoph\"><div class=\"x8cjs6t x1ch86jh x80vd3b xckqwgs x1ejq31n xu3j5b3 x1q0q8m5 x26u7qi x178xt8z xm81vs4 xso031l xy80clv x1d52u69 xktsk01\"></div><div class=\"x1n2onr6 x1ja2u2z x9f619 x78zum5 xdt5ytf x2lah0s x193iq5w x1xmf6yo x1e56ztr\"><div class=\"x9f619 x1n2onr6 x1ja2u2z x78zum5 xdt5ytf x1iyjqo2 x2lwn1j\"><div class=\"x9f619 x1n2onr6 x1ja2u2z x78zum5 xdt5ytf x2lah0s x193iq5w x1swvt13 x1pi30zi\"><div class=\"\"><div class=\"\"><div class=\"x78zum5 x1q0g3np x1a2a7pz\"><div class=\"xqcrz7y x14yjl9h xudhj91 x18nykt9 xww2gxu x1lliihq x1w0mnb xr9ek0c x1n2onr6\"><div aria-hidden=\"true\" class=\"x1i10hfl x1qjc9v5 xjbqb8w xjqpnuy xa49m3k xqeqjp1 x2hbi6w x13fuv20 xu3j5b3 x1q0q8m5 x26u7qi x972fbf xcfux6l x1qhh985 xm0m39n x9f619 x1ypdohk xdl72j9 x2lah0s xe8uvvx xdj266r x11i5rnm xat24cr x1mh8g0r x2lwn1j xeuugli xexx8yu x4uap5 x18d9i69 xkhd6sd x1n2onr6 x16tdsg8 x1hl2dhg xggy1nq x1ja2u2z x1t137rt x1o1ewxj x3x9cwd x1e5q0jg x13rtm0m x3nfvp2 x1q0g3np x87ps6o x1lku1pv x1a2a7pz\" role=\"button\" tabindex=\"-1\"><div aria-label=\"Available Voices\" class=\"x1i10hfl x1qjc9v5 xjbqb8w xjqpnuy xa49m3k xqeqjp1 x2hbi6w x13fuv20 xu3j5b3 x1q0q8m5 x26u7qi x972fbf xcfux6l x1qhh985 xm0m39n x9f619 x1ypdohk xdl72j9 x2lah0s xe8uvvx xdj266r x11i5rnm xat24cr x1mh8g0r x2lwn1j xeuugli xexx8yu x4uap5 x18d9i69 xkhd6sd x1n2onr6 x16tdsg8 x1hl2dhg xggy1nq x1ja2u2z x1t137rt x1o1ewxj x3x9cwd x1e5q0jg x13rtm0m x3nfvp2 x1q0g3np x87ps6o x1lku1pv x1a2a7pz\" role=\"button\" tabindex=\"0\"><div class=\"x4k7w5x x1h91t0o x1o1ewxj x3x9cwd x1e5q0jg x13rtm0m x1jfb8zj x1beo9mf x3igimt xarpa2k x1n2onr6 x1qrby5j\"><div class=\"x1rg5ohu x1n2onr6 x3ajldb x1ja2u2z\"><svg aria-hidden=\"true\" class=\"x3ajldb\" data-visualcompletion=\"ignore-dynamic\" role=\"none\" style=\"height: 32px; width: 32px;\"><mask id=\":r40:\"><circle cx=\"16\" cy=\"16\" fill=\"white\" r=\"16\"></circle><circle cx=\"27\" cy=\"27\" data-visualcompletion=\"ignore\" fill=\"black\" r=\"6\"></circle></mask><g mask=\"url(#:r40:)\"><image height=\"100%\" preserveaspectratio=\"xMidYMid slice\" style=\"height: 32px; width: 32px;\" width=\"100%\" x=\"0\" xlink:href=\"https://scontent-tpe1-1.xx.fbcdn.net/v/t1.30497-1/143086968_2856368904622192_1959732218791162458_n.png?stp=cp0_dst-png_p48x48&amp;_nc_cat=1&amp;ccb=1-7&amp;_nc_sid=5f2048&amp;_nc_ohc=nBND0NKYB2YAb594PXd&amp;_nc_ht=scontent-tpe1-1.xx&amp;oh=00_AfD94GbpmnISXR7yELZCBQt-HhdkbnK6IL1TCsO_608YTA&amp;oe=664DCF38\" y=\"0\"/><circle class=\"xbh8q5q x1pwv2dq xvlca1e\" cx=\"16\" cy=\"16\" r=\"16\"></circle></g></svg><div class=\"x14yjl9h xudhj91 x18nykt9 xww2gxu x10l6tqk xhtitgo\" data-visualcompletion=\"ignore\" style=\"bottom: 5px; right: 5px; transform: translate(50%, 50%);\"><div class=\"x14yjl9h xudhj91 x18nykt9 xww2gxu x1rg5ohu x1iorvi4 x150jy0e xjkvuk6 x1e558r4 x3ajldb\"><div class=\"x14yjl9h xudhj91 x18nykt9 xww2gxu x78zum5 x6ikm8r x10wlt62 x1n2onr6\" style=\"background-color: var(--secondary-button-background);\"><svg class=\"x19dipnz x1lliihq x1k90msu x2h7rmj x1qfuztq\" fill=\"currentColor\" height=\"12\" style=\"--color: var(--primary-icon);\" viewbox=\"0 0 16 16\" width=\"12\"><g fill-rule=\"evenodd\" transform=\"translate(-448 -544)\"><path d=\"M452.707 549.293a1 1 0 0 0-1.414 1.414l4 4a1 1 0 0 0 1.414 0l4-4a1 1 0 0 0-1.414-1.414L456 552.586l-3.293-3.293z\" fill-rule=\"nonzero\"></path></g></svg></div></div></div></div><div class=\"x1ey2m1c xds687c x17qophe xg01cxk x47corl x10l6tqk x13vifvy x1ebt8du x19991ni x1dhq9h xzolkzo x12go9s9 x1rnf11y xprq8jg\" data-visualcompletion=\"ignore\" role=\"none\"></div></div><div class=\"x1ey2m1c xds687c x17qophe xg01cxk x47corl x10l6tqk x13vifvy x1ebt8du x19991ni x1dhq9h x1o1ewxj x3x9cwd x1e5q0jg x13rtm0m\" data-visualcompletion=\"ignore\" role=\"none\"></div></div><div class=\"x1ey2m1c xds687c x17qophe xg01cxk x47corl x10l6tqk x13vifvy x1ebt8du x19991ni x1dhq9h xzolkzo x12go9s9 x1rnf11y xprq8jg\" data-visualcompletion=\"ignore\" role=\"none\"></div></div></div><div class=\"x1r8uery x1iyjqo2 x6ikm8r x10wlt62 x4uap5\"><form class=\"x1ed109x x1n2onr6 xmjcpbm x1tlxs6b x1g8br2z x1gn5b1j x230xth x972fbf xcfux6l x1qhh985 xm0m39n x78zum5 x1iyjqo2 x13a6bvl\" role=\"presentation\"><div class=\"xh8yej3\"><div class=\"x78zum5 x13a6bvl\"><div class=\"xi81zsa xo1l8bm xlyipyv xuxw1ft x49crj4 x1ed109x xdl72j9 x1iyjqo2 xs83m0k x6prxxf x6ikm8r x10wlt62 x1y1aw1k xn6708d xwib8y2 x1ye3gou\" data-visualcompletion=\"ignore\"><div class=\"x1n2onr6\"><div aria-label=\"公開留言……\" class=\"xzsf02u x1a2a7pz x1n2onr6 x14wi4xw notranslate\" contenteditable=\"true\" data-lexical-editor=\"true\" role=\"textbox\" spellcheck=\"true\" style=\"user-select: text; white-space: pre-wrap; word-break: break-word;\" tabindex=\"0\"><p class=\"xdj266r x11i5rnm xat24cr x1mh8g0r\"><br/></p></div><div class=\"xi81zsa x6ikm8r x10wlt62 x47corl x10l6tqk x17qophe xlyipyv x13vifvy x87ps6o xuxw1ft xh8yej3\">公開留言……</div></div></div><div class=\"x4b6v7d x1ojsi0c\"><ul class=\"x6s0dn4 xpvyfi4 x78zum5 xc9qbxq xw3qccf xp7jhwk\" data-id=\"unfocused-state-actions-list\"><li class=\"x1rg5ohu x1mnrxsn x1w0mnb\"><span class=\"x4k7w5x x1h91t0o x1h9r5lt x1jfb8zj xv2umb2 x1beo9mf xaigb6o x12ejxvf x3igimt xarpa2k xedcshv x1lytzrv x1t2pt76 x7ja8zs x1qrby5j\"><div aria-label=\"以虛擬替身貼圖回應\" class=\"x1i10hfl x1qjc9v5 xjqpnuy xa49m3k xqeqjp1 x2hbi6w x9f619 x1ypdohk xdl72j9 x2lah0s xe8uvvx x2lwn1j xeuugli x16tdsg8 x1hl2dhg xggy1nq x1ja2u2z x1t137rt x1o1ewxj x3x9cwd x1e5q0jg x13rtm0m x1q0g3np x87ps6o x1lku1pv x1a2a7pz xjyslct xjbqb8w x13fuv20 xu3j5b3 x1q0q8m5 x26u7qi x972fbf xcfux6l x1qhh985 xm0m39n x3nfvp2 xdj266r x11i5rnm xat24cr x1mh8g0r xexx8yu x4uap5 x18d9i69 xkhd6sd x1n2onr6 x3ajldb x194ut8o x1vzenxt xd7ygy7 xt298gk x1xhcax0 x1s928wv x10pfhc2 x1j6awrg x1v53gu8 x1tfg27r xitxdhh\" role=\"button\" tabindex=\"0\"><i class=\"x1b0d499 x1d69dk1\" data-visualcompletion=\"css-img\" style='background-image: url(\"https://static.xx.fbcdn.net/rsrc.php/v3/yp/r/33uRJSkrOlX.png\"); background-position: 0px -1152px; background-size: 26px 1522px; width: 16px; height: 16px; background-repeat: no-repeat; display: inline-block;'></i><div class=\"x1ey2m1c xds687c x17qophe xg01cxk x47corl x10l6tqk x13vifvy x1ebt8du x19991ni x1dhq9h xzolkzo x12go9s9 x1rnf11y xprq8jg\" data-visualcompletion=\"ignore\" role=\"none\"></div></div></span></li><li class=\"x1rg5ohu x1mnrxsn x1w0mnb\"><span class=\"x4k7w5x x1h91t0o x1h9r5lt x1jfb8zj xv2umb2 x1beo9mf xaigb6o x12ejxvf x3igimt xarpa2k xedcshv x1lytzrv x1t2pt76 x7ja8zs x1qrby5j\"><div aria-label=\"插入表情符號\" class=\"x1i10hfl x1qjc9v5 xjqpnuy xa49m3k xqeqjp1 x2hbi6w x9f619 x1ypdohk xdl72j9 x2lah0s xe8uvvx x2lwn1j xeuugli x16tdsg8 x1hl2dhg xggy1nq x1ja2u2z x1t137rt x1o1ewxj x3x9cwd x1e5q0jg x13rtm0m x1q0g3np x87ps6o x1lku1pv x1a2a7pz xjyslct xjbqb8w x13fuv20 xu3j5b3 x1q0q8m5 x26u7qi x972fbf xcfux6l x1qhh985 xm0m39n x3nfvp2 xdj266r x11i5rnm xat24cr x1mh8g0r xexx8yu x4uap5 x18d9i69 xkhd6sd x1n2onr6 x3ajldb x194ut8o x1vzenxt xd7ygy7 xt298gk x1xhcax0 x1s928wv x10pfhc2 x1j6awrg x1v53gu8 x1tfg27r xitxdhh\" role=\"button\" tabindex=\"0\"><i class=\"x1b0d499 x1d69dk1\" data-visualcompletion=\"css-img\" style='background-image: url(\"https://static.xx.fbcdn.net/rsrc.php/v3/yp/r/33uRJSkrOlX.png\"); background-position: 0px -1242px; background-size: 26px 1522px; width: 16px; height: 16px; background-repeat: no-repeat; display: inline-block;'></i><div class=\"x1ey2m1c xds687c x17qophe xg01cxk x47corl x10l6tqk x13vifvy x1ebt8du x19991ni x1dhq9h xzolkzo x12go9s9 x1rnf11y xprq8jg\" data-visualcompletion=\"ignore\" role=\"none\"></div></div></span></li><li class=\"x1rg5ohu x1mnrxsn x1w0mnb\"><span class=\"x4k7w5x x1h91t0o x1h9r5lt x1jfb8zj xv2umb2 x1beo9mf xaigb6o x12ejxvf x3igimt xarpa2k xedcshv x1lytzrv x1t2pt76 x7ja8zs x1qrby5j\"><div aria-label=\"附加相片或影片\" class=\"x1i10hfl x1qjc9v5 xjqpnuy xa49m3k xqeqjp1 x2hbi6w x9f619 x1ypdohk xdl72j9 x2lah0s xe8uvvx x2lwn1j xeuugli x16tdsg8 x1hl2dhg xggy1nq x1ja2u2z x1t137rt x1o1ewxj x3x9cwd x1e5q0jg x13rtm0m x1q0g3np x87ps6o x1lku1pv x1a2a7pz xjyslct xjbqb8w x13fuv20 xu3j5b3 x1q0q8m5 x26u7qi x972fbf xcfux6l x1qhh985 xm0m39n x3nfvp2 xdj266r x11i5rnm xat24cr x1mh8g0r xexx8yu x4uap5 x18d9i69 xkhd6sd x1n2onr6 x3ajldb x194ut8o x1vzenxt xd7ygy7 xt298gk x1xhcax0 x1s928wv x10pfhc2 x1j6awrg x1v53gu8 x1tfg27r xitxdhh\" role=\"button\" tabindex=\"0\"><i class=\"x1b0d499 x1d69dk1\" data-visualcompletion=\"css-img\" style='background-image: url(\"https://static.xx.fbcdn.net/rsrc.php/v3/yp/r/33uRJSkrOlX.png\"); background-position: 0px -1188px; background-size: 26px 1522px; width: 16px; height: 16px; background-repeat: no-repeat; display: inline-block;'></i><div class=\"x1ey2m1c xds687c x17qophe xg01cxk x47corl x10l6tqk x13vifvy x1ebt8du x19991ni x1dhq9h xzolkzo x12go9s9 x1rnf11y xprq8jg\" data-visualcompletion=\"ignore\" role=\"none\"></div></div></span><input accept=\"video/*,  video/x-m4v, video/webm, video/x-ms-wmv, video/x-msvideo, video/3gpp, video/flv, video/x-flv, video/mp4, video/quicktime, video/mpeg, video/ogv, .ts, .mkv, image/*, image/heic, image/heif\" class=\"x1s85apg\" type=\"file\"/></li><li class=\"x1rg5ohu x1mnrxsn x1w0mnb\"><span class=\"x4k7w5x x1h91t0o x1h9r5lt x1jfb8zj xv2umb2 x1beo9mf xaigb6o x12ejxvf x3igimt xarpa2k xedcshv x1lytzrv x1t2pt76 x7ja8zs x1qrby5j\"><div aria-label=\"以 GIF 回應\" class=\"x1i10hfl x1qjc9v5 xjqpnuy xa49m3k xqeqjp1 x2hbi6w x9f619 x1ypdohk xdl72j9 x2lah0s xe8uvvx x2lwn1j xeuugli x16tdsg8 x1hl2dhg xggy1nq x1ja2u2z x1t137rt x1o1ewxj x3x9cwd x1e5q0jg x13rtm0m x1q0g3np x87ps6o x1lku1pv x1a2a7pz xjyslct xjbqb8w x13fuv20 xu3j5b3 x1q0q8m5 x26u7qi x972fbf xcfux6l x1qhh985 xm0m39n x3nfvp2 xdj266r x11i5rnm xat24cr x1mh8g0r xexx8yu x4uap5 x18d9i69 xkhd6sd x1n2onr6 x3ajldb x194ut8o x1vzenxt xd7ygy7 xt298gk x1xhcax0 x1s928wv x10pfhc2 x1j6awrg x1v53gu8 x1tfg27r xitxdhh\" role=\"button\" tabindex=\"0\"><i class=\"x1b0d499 x1d69dk1\" data-visualcompletion=\"css-img\" style='background-image: url(\"https://static.xx.fbcdn.net/rsrc.php/v3/yp/r/33uRJSkrOlX.png\"); background-position: 0px -1278px; background-size: 26px 1522px; width: 16px; height: 16px; background-repeat: no-repeat; display: inline-block;'></i><div class=\"x1ey2m1c xds687c x17qophe xg01cxk x47corl x10l6tqk x13vifvy x1ebt8du x19991ni x1dhq9h xzolkzo x12go9s9 x1rnf11y xprq8jg\" data-visualcompletion=\"ignore\" role=\"none\"></div></div></span></li><li class=\"x1rg5ohu x1mnrxsn x1w0mnb\"><span class=\"x4k7w5x x1h91t0o x1h9r5lt x1jfb8zj xv2umb2 x1beo9mf xaigb6o x12ejxvf x3igimt xarpa2k xedcshv x1lytzrv x1t2pt76 x7ja8zs x1qrby5j\"><div aria-label=\"以貼圖回應\" class=\"x1i10hfl x1qjc9v5 xjqpnuy xa49m3k xqeqjp1 x2hbi6w x9f619 x1ypdohk xdl72j9 x2lah0s xe8uvvx x2lwn1j xeuugli x16tdsg8 x1hl2dhg xggy1nq x1ja2u2z x1t137rt x1o1ewxj x3x9cwd x1e5q0jg x13rtm0m x1q0g3np x87ps6o x1lku1pv x1a2a7pz xjyslct xjbqb8w x13fuv20 xu3j5b3 x1q0q8m5 x26u7qi x972fbf xcfux6l x1qhh985 xm0m39n x3nfvp2 xdj266r x11i5rnm xat24cr x1mh8g0r xexx8yu x4uap5 x18d9i69 xkhd6sd x1n2onr6 x3ajldb x194ut8o x1vzenxt xd7ygy7 xt298gk x1xhcax0 x1s928wv x10pfhc2 x1j6awrg x1v53gu8 x1tfg27r xitxdhh\" role=\"button\" tabindex=\"0\"><i class=\"x1b0d499 x1d69dk1\" data-visualcompletion=\"css-img\" style='background-image: url(\"https://static.xx.fbcdn.net/rsrc.php/v3/yp/r/33uRJSkrOlX.png\"); background-position: 0px -1404px; background-size: 26px 1522px; width: 16px; height: 16px; background-repeat: no-repeat; display: inline-block;'></i><div class=\"x1ey2m1c xds687c x17qophe xg01cxk x47corl x10l6tqk x13vifvy x1ebt8du x19991ni x1dhq9h xzolkzo x12go9s9 x1rnf11y xprq8jg\" data-visualcompletion=\"ignore\" role=\"none\"></div></div></span></li></ul></div></div></div></form><div class=\"x1iyjqo2\"></div><div class=\"x1iyjqo2\"></div><div class=\"x1iyjqo2\"></div></div></div></div></div></div></div></div></div></div></div></div></div></div></div></div></div></div></div></div></div></div></div></div></div>"
      ]
     },
     "execution_count": 130,
     "metadata": {},
     "output_type": "execute_result"
    }
   ],
   "source": [
    "elements = soup.select('.x1yztbdb.x1n2onr6.xh8yej3.x1ja2u2z')\n",
    "\n",
    "# 輸出隨便一篇貼文元素看看\n",
    "elements[3]"
   ]
  },
  {
   "cell_type": "markdown",
   "metadata": {},
   "source": [
    "### 爬取貼文資訊"
   ]
  },
  {
   "cell_type": "markdown",
   "metadata": {},
   "source": [
    "#### 01. 貼文作者  \n",
    "\n",
    "情境：目標元素的 HTML Element 不包含屬性值。\n",
    "解法：加入目標元素的父級。"
   ]
  },
  {
   "cell_type": "markdown",
   "metadata": {},
   "source": [
    "![author_position](./image/author_position.png)"
   ]
  },
  {
   "cell_type": "markdown",
   "metadata": {},
   "source": [
    "可以觀察到「作者」的網頁元素位置在 `span` 標籤下，由於沒有標記任何屬性（class 或 id），直接指定 `span` 的話很容易抓到錯誤的目標。\n",
    "\n",
    "這時，就需要給 CSS Selectors 更多的線索來找到目標的元素。\n",
    "\n",
    "以目標元素的位置為中心，往前找到最近的「父級元素」。\n",
    "\n",
    "> 只要是把目標元素包裹在自己的標籤下，都算是目標元素的父級！\n",
    "> 當然距離越遠，關係越遠，越容易受到其他節點影響喔\n",
    "\n",
    "在這個案例中，節點的關係為：\n",
    "\n",
    "span.xt0psk2（父級 3） > a.x1i10hfl.xjbqb8w...（父級 2） > strong（父級 1） > span（目標）\n",
    "\n",
    "1. `strong` 標籤不具屬性值，不是最好的選擇。\n",
    "2. `a` 具有屬性值，但 classname 太多，太過於具體反而不好維護（網站更新後較容易失效）。\n",
    "3. `span.xt0psk2` classname 不多，且其他地方沒有重複的屬性值，因此偏好加入這個父級到 CSS Selector。\n",
    "\n",
    "當然，其實使用第二步的 `a` 標籤還是可以達到同樣的效果！不過如果能用更短、更精簡的 CSS Selector，可讀性及效率會較高。"
   ]
  },
  {
   "cell_type": "code",
   "execution_count": 131,
   "metadata": {},
   "outputs": [
    {
     "name": "stdout",
     "output_type": "stream",
     "text": [
      "跟著領隊玩\n",
      "跟著領隊玩\n",
      "啊賀！！現做捲餅舖 - 外星人小舖\n",
      "陳怡如\n",
      "康韶菲\n",
      "謝露西\n",
      "林子恩\n",
      "陳冰穎\n",
      "金永豐\n",
      "江曼寧\n"
     ]
    }
   ],
   "source": [
    "for element in elements:\n",
    "    try:\n",
    "        name = element.select('.xt0psk2 span')[0].text\n",
    "        \n",
    "        # 👇使用 a 標籤的效果一樣，但 CSS Selector 相比之下長很多\n",
    "        # name = element.select('.x1i10hfl.xjbqb8w.x1ejq31n.xd10rxx.x1sy0etr.x17r0tee.x972fbf.xcfux6l.x1qhh985.xm0m39n.x9f619.x1ypdohk.xt0psk2.xe8uvvx.xdj266r.x11i5rnm.xat24cr.x1mh8g0r.xexx8yu.x4uap5.x18d9i69.xkhd6sd.x16tdsg8.x1hl2dhg.xggy1nq.x1a2a7pz.xt0b8zv.xzsf02u.x1s688f span')[0].text\n",
    "        print(name)\n",
    "    except:\n",
    "        continue"
   ]
  },
  {
   "cell_type": "markdown",
   "metadata": {},
   "source": [
    "#### 02. 貼文按讚數\n",
    "\n",
    "情境：目標元素的 HTML Element 在其他節點重名了（標籤與 classname 相同）。\n",
    "解法：加入目標元素的父級。"
   ]
  },
  {
   "cell_type": "markdown",
   "metadata": {},
   "source": [
    "![like_position](./image/like_position.png)"
   ]
  },
  {
   "cell_type": "markdown",
   "metadata": {},
   "source": [
    "「貼文讚數」對應的網頁元素是 classname 為 `x1e558r4` 的 `span` 標籤。那麼我們就直接指定 `span.x1e558r4span.x1e558r4` 看看效果如何。"
   ]
  },
  {
   "cell_type": "code",
   "execution_count": 143,
   "metadata": {},
   "outputs": [
    {
     "name": "stdout",
     "output_type": "stream",
     "text": [
      "<span class=\"x6s0dn4 x78zum5 x1e558r4\" id=\":r19:\"><span class=\"x6zyg47 x1xm1mqw xpn8fn3 xtct9fg x13zp6kq x1mcfq15 xrosliz x1wb7cse x13fuv20 xu3j5b3 x1q0q8m5 x26u7qi xamhcws xol2nv xlxy82 x19p7ews xmix8c7 x139jcc6 x1n2onr6 x1xp8n7a xhtitgo\"><span class=\"x12myldv x1udsgas xrc8dwe xxxhv2y x1rg5ohu xmix8c7 x1xp8n7a\"><span class=\"x4k7w5x x1h91t0o x1h9r5lt x1jfb8zj xv2umb2 x1beo9mf xaigb6o x12ejxvf x3igimt xarpa2k xedcshv x1lytzrv x1t2pt76 x7ja8zs x1qrby5j\"><div aria-label=\"讚：1 人\" class=\"x1i10hfl x1qjc9v5 xjbqb8w xjqpnuy xa49m3k xqeqjp1 x2hbi6w x13fuv20 xu3j5b3 x1q0q8m5 x26u7qi x972fbf xcfux6l x1qhh985 xm0m39n x9f619 x1ypdohk xdl72j9 x2lah0s xe8uvvx xdj266r x11i5rnm xat24cr x1mh8g0r x2lwn1j xeuugli xexx8yu x4uap5 x18d9i69 xkhd6sd x1n2onr6 x16tdsg8 x1hl2dhg xggy1nq x1ja2u2z x1t137rt x1o1ewxj x3x9cwd x1e5q0jg x13rtm0m x3nfvp2 x1q0g3np x87ps6o x1lku1pv x1a2a7pz\" role=\"button\" tabindex=\"0\"><img class=\"x16dsc37\" height=\"18\" role=\"presentation\" src=\"data:image/svg+xml,%3Csvg fill='none' xmlns='http://www.w3.org/2000/svg' viewBox='0 0 16 16'%3E%3Cpath d='M16.0001 7.9996c0 4.418-3.5815 7.9996-7.9995 7.9996S.001 12.4176.001 7.9996 3.5825 0 8.0006 0C12.4186 0 16 3.5815 16 7.9996Z' fill='url(%23paint0_linear_15251_63610)'/%3E%3Cpath d='M16.0001 7.9996c0 4.418-3.5815 7.9996-7.9995 7.9996S.001 12.4176.001 7.9996 3.5825 0 8.0006 0C12.4186 0 16 3.5815 16 7.9996Z' fill='url(%23paint1_radial_15251_63610)'/%3E%3Cpath d='M16.0001 7.9996c0 4.418-3.5815 7.9996-7.9995 7.9996S.001 12.4176.001 7.9996 3.5825 0 8.0006 0C12.4186 0 16 3.5815 16 7.9996Z' fill='url(%23paint2_radial_15251_63610)' fill-opacity='.5'/%3E%3Cpath d='M7.3014 3.8662a.6974.6974 0 0 1 .6974-.6977c.6742 0 1.2207.5465 1.2207 1.2206v1.7464a.101.101 0 0 0 .101.101h1.7953c.992 0 1.7232.9273 1.4917 1.892l-.4572 1.9047a2.301 2.301 0 0 1-2.2374 1.764H6.9185a.5752.5752 0 0 1-.5752-.5752V7.7384c0-.4168.097-.8278.2834-1.2005l.2856-.5712a3.6878 3.6878 0 0 0 .3893-1.6509l-.0002-.4496ZM4.367 7a.767.767 0 0 0-.7669.767v3.2598a.767.767 0 0 0 .767.767h.767a.3835.3835 0 0 0 .3835-.3835V7.3835A.3835.3835 0 0 0 5.134 7h-.767Z' fill='%23fff'/%3E%3Cdefs%3E%3CradialGradient id='paint1_radial_15251_63610' cx='0' cy='0' r='1' gradientUnits='userSpaceOnUse' gradientTransform='rotate(90 .0005 8) scale(7.99958)'%3E%3Cstop offset='.5618' stop-color='%230866FF' stop-opacity='0'/%3E%3Cstop offset='1' stop-color='%230866FF' stop-opacity='.1'/%3E%3C/radialGradient%3E%3CradialGradient id='paint2_radial_15251_63610' cx='0' cy='0' r='1' gradientUnits='userSpaceOnUse' gradientTransform='rotate(45 -4.5257 10.9237) scale(10.1818)'%3E%3Cstop offset='.3143' stop-color='%2302ADFC'/%3E%3Cstop offset='1' stop-color='%2302ADFC' stop-opacity='0'/%3E%3C/radialGradient%3E%3ClinearGradient id='paint0_linear_15251_63610' x1='2.3989' y1='2.3999' x2='13.5983' y2='13.5993' gradientUnits='userSpaceOnUse'%3E%3Cstop stop-color='%2302ADFC'/%3E%3Cstop offset='.5' stop-color='%230866FF'/%3E%3Cstop offset='1' stop-color='%232B7EFF'/%3E%3C/linearGradient%3E%3C/defs%3E%3C/svg%3E\" width=\"18\"/></div></span></span></span></span>\n"
     ]
    }
   ],
   "source": [
    "for element in elements[:2]:\n",
    "    try:\n",
    "        like = element.select('span.x1e558r4')[0].text\n",
    "        print(element.select('span.x1e558r4')[0]) \n",
    "    except:\n",
    "        continue"
   ]
  },
  {
   "cell_type": "markdown",
   "metadata": {},
   "source": [
    "從結果發現抓到的元素不是我們要的。\n",
    "\n",
    "如上圖，抓到的是其他相同標籤與 classname 的元素，所以我們需要更多關於目標元素的資訊。\n",
    "\n",
    "與前面的例子相同，在加入父級元素後，指定 CSS Selector 為 `.xt0b8zv.x2bj2ny.xrbpyxo.xl423tq span.x1e558r4`。"
   ]
  },
  {
   "cell_type": "code",
   "execution_count": 137,
   "metadata": {},
   "outputs": [
    {
     "name": "stdout",
     "output_type": "stream",
     "text": [
      "1\n",
      "2\n",
      "1\n",
      "1\n",
      "1\n",
      "1\n",
      "2\n",
      "22\n"
     ]
    }
   ],
   "source": [
    "for element in elements:\n",
    "    try:\n",
    "        like = element.select('.xt0b8zv.x2bj2ny.xrbpyxo.xl423tq span.x1e558r4')[0].text\n",
    "        print(like)\n",
    "    except:\n",
    "        continue"
   ]
  },
  {
   "cell_type": "markdown",
   "metadata": {},
   "source": [
    "這樣便順利抓到我們要的結果！"
   ]
  },
  {
   "cell_type": "markdown",
   "metadata": {},
   "source": [
    "#### 03. 貼文發佈時間\n",
    "\n",
    "情境：目標元素的 HTML Element 不包含屬性值。\n",
    "解法：加入目標元素的父級。"
   ]
  },
  {
   "cell_type": "markdown",
   "metadata": {},
   "source": [
    "![time_position](./image/time_position.png)"
   ]
  },
  {
   "cell_type": "markdown",
   "metadata": {},
   "source": [
    "這邊的 CSS Selector 的指定邏輯與「貼文作者」一樣，但周圍父級元素的 classname 都不短，所以就直接挑最近的父級元素來指定。"
   ]
  },
  {
   "cell_type": "code",
   "execution_count": 138,
   "metadata": {},
   "outputs": [
    {
     "name": "stdout",
     "output_type": "stream",
     "text": [
      "32分鐘\n",
      "1小時\n",
      "6小時\n",
      "5小時\n",
      "1小時\n",
      "1小時\n",
      "1小時\n",
      "1月24日\n",
      "2小時\n",
      "3小時\n"
     ]
    }
   ],
   "source": [
    "for element in elements:\n",
    "    try:\n",
    "        date_time = element.select('.x1i10hfl.xjbqb8w.x1ejq31n.xd10rxx.x1sy0etr.x17r0tee.x972fbf.xcfux6l.x1qhh985.xm0m39n.x9f619.x1ypdohk.xt0psk2.xe8uvvx.xdj266r.x11i5rnm.xat24cr.x1mh8g0r.xexx8yu.x4uap5.x18d9i69.xkhd6sd.x16tdsg8.x1hl2dhg.xggy1nq.x1a2a7pz.x1heor9g.xt0b8zv.xo1l8bm span')[0].text\n",
    "        print(date_time)\n",
    "    except:\n",
    "        continue"
   ]
  },
  {
   "cell_type": "markdown",
   "metadata": {},
   "source": [
    "#### 04. 貼文連結\n",
    "\n",
    "情境：爬取目標是 `href` 屬性。\n",
    "解法：使用 `get` 來抓指定屬性的屬性值。"
   ]
  },
  {
   "cell_type": "markdown",
   "metadata": {},
   "source": [
    "![url_position](./image/url_position.png)"
   ]
  },
  {
   "cell_type": "markdown",
   "metadata": {},
   "source": [
    "正好 `a` 標籤下的 `href` 屬性便是貼文連結。直接指定該元素的 classname 後，使用 `get('href')`抓出貼文連結。\n",
    "\n",
    "Facebook 的社團貼文連結結構是 https://www.facebook.com/groups/『社團 id』/posts/『貼文 id』。\n",
    "\n",
    "從畫面可以看到貼文連結非常長，而我們只需要連結的主要部分即可，所以這邊利用正規表達式，把參數前的部分連結擷取出來即可。\n",
    "\n",
    "> 實際把長連結放進瀏覽器中，一樣會重定向到「https://www.facebook.com/groups/『社團 id』/posts/『貼文 id』」的連結結構。該參數多半是 FB 內部用來追蹤用戶行為或其他用途，因為不確定參數的用途，保險起見過濾掉較好\n",
    "> 有了貼文連結後，要補充更多資料就更容易了！例如：爬取留言。"
   ]
  },
  {
   "cell_type": "code",
   "execution_count": 139,
   "metadata": {},
   "outputs": [
    {
     "name": "stdout",
     "output_type": "stream",
     "text": [
      "https://www.facebook.com/groups/traveler168/posts/1860301424485233\n",
      "https://www.facebook.com/groups/traveler168/posts/1860275867821122\n",
      "https://www.facebook.com/groups/traveler168/posts/1860168851165157\n",
      "https://www.facebook.com/groups/traveler168/posts/1860181317830577\n",
      "https://www.facebook.com/groups/traveler168/posts/1860173851164657\n",
      "https://www.facebook.com/groups/traveler168/posts/1860199334495442\n",
      "https://www.facebook.com/groups/traveler168/posts/1860266224488753\n",
      "https://www.facebook.com/groups/traveler168/posts/1806310579884318\n",
      "https://www.facebook.com/groups/traveler168/posts/1860240621157980\n",
      "https://www.facebook.com/groups/traveler168/posts/1860228917825817\n"
     ]
    }
   ],
   "source": [
    "import re\n",
    "\n",
    "for element in elements:\n",
    "    try:\n",
    "        link = element.select('.x1i10hfl.xjbqb8w.x1ejq31n.xd10rxx.x1sy0etr.x17r0tee.x972fbf.xcfux6l.x1qhh985.xm0m39n.x9f619.x1ypdohk.xt0psk2.xe8uvvx.xdj266r.x11i5rnm.xat24cr.x1mh8g0r.xexx8yu.x4uap5.x18d9i69.xkhd6sd.x16tdsg8.x1hl2dhg.xggy1nq.x1a2a7pz.x1heor9g.xt0b8zv.xo1l8bm')[0].get('href')\n",
    "        # 正規表達式\n",
    "        base_url = re.match(r\"(https://www\\.facebook\\.com/groups/traveler168/posts/\\d+)\", link)\n",
    "\n",
    "        if base_url:\n",
    "            print(base_url.group(1))\n",
    "        else:\n",
    "            print(link)\n",
    "    except:\n",
    "        continue"
   ]
  },
  {
   "cell_type": "markdown",
   "metadata": {},
   "source": [
    "#### 04. 貼文內容\n",
    "\n",
    "情境：欲爬取的目標文字散落在各個網頁節點下。\n",
    "解法：使用 `get_text` 來抓剛元素下的所有文本。"
   ]
  },
  {
   "cell_type": "markdown",
   "metadata": {},
   "source": [
    "![](./image/content_position.png)"
   ]
  },
  {
   "cell_type": "markdown",
   "metadata": {},
   "source": [
    "由上圖可以發現，Facebook 貼文內容文字分散在各個 HTML Element 內，由於每篇文的結構未必相同。因此很難一個個抓出來。\n",
    "\n",
    "此時，可以使用 `get_text` 的方法來抓出網頁元素下的所有文本，這樣就不用考慮內文的元素有哪些了。\n",
    "\n",
    "> `select_one` 的方法會回傳第一個符合 CSS Selector 的元素，所以不需要加入 `[0]` 索引出第一筆。\n",
    "> 換言之，這邊也可以改回使用 `select`！只是一定要所引出第一個元素，否則無法使用 `get_text`"
   ]
  },
  {
   "cell_type": "code",
   "execution_count": 140,
   "metadata": {},
   "outputs": [
    {
     "name": "stdout",
     "output_type": "stream",
     "text": [
      "到台東池上看金城武樹騎伯朗大道，當然要住在田裡面啦！你有看到我的民宿嗎！就是被大地畫布水田包圍的那一間阿！#台東住宿 #池上住宿 #田裡面民宿全文閱讀：https://taiwantour.info/tianli-homestay\n",
      "東海岸最美的沙灘之一，在岸邊玩水看魚只是基本，其實你還可以浮潛、SUP和獨木舟，用不同的角度看海喔！全文閱讀：https://taiwantour.info/toyama-fishery/\n",
      "啊賀！！現做捲餅舖的「加熱即食」冷凍捲餅上市囉！只要5~8分鐘 就能輕鬆解決您的早、午、晚餐及點心宵夜12種品項任您選擇，營養美味是家庭主婦、上班族、學生族群解決三餐 、點心、宵夜的新選擇。一份兩塊，料理方式簡單快速，隨時隨地您都能享受一份像剛出爐酥脆好吃的捲餅，滿足您不同的需求喔現在訂購即可享有9折優惠，雙北地區滿一千元以上還可免付運費喔！…… 查看更多\n",
      "熊寶貝多元化派車即日起邀請朋友加入官網即贈$20乘車金！不限次數 可累積！服務範圍：桃園、雙北、基隆…… 查看更多\n",
      "HUGO也太活潑可愛了吧! 天啊不愧是大人小孩都喜歡的香菇\n",
      "義大利初遊!!!!超級超級喜歡波隆那這個城市的>\"\"\"\"<\n",
      "2024年最夯的必備景  牛奶海登場囉 5-9月宜蘭龜山島牛奶海遊艇團來啦 趕緊私訊小編卡位啦預定成功送頭城島主龍蝦海鮮火鍋9折券龜…… 查看更多\n",
      "來推薦一間新開幕的足體養生會館「大都會足體養生會館」按完會讓您想大喊再來一次，每位專業師傅的手法都招招到位，由淺層再到深層，疏通您所有經絡，維持全身的氣血順暢，極致放鬆指壓按摩不管是經絡或是穴道加壓，緩解身體所有痠痛，都能夠為您解決…… 查看更多\n",
      "東京愛玩樂~高雄出發親子同遊 大人小孩都開心頂級夢幻國度-東京迪工尼著名姻綠神社-冰川神社人氣必遊-台場東京灣X彩虹大橋買東西、…… 查看更多\n"
     ]
    }
   ],
   "source": [
    "for element in elements:\n",
    "    try:\n",
    "        article = element.select_one('.x193iq5w.xeuugli.x13faqbe.x1vvkbs.x1xmvt09.x1lliihq.x1s928wv.xhkezso.x1gmr53x.x1cpjm7i.x1fgarty.x1943h6x.xudqn12.x3x7a5m.x6prxxf.xvq8zen.xo1l8bm.xzsf02u.x1yc453h')\n",
    "        print(article.get_text())\n",
    "    except:\n",
    "        continue"
   ]
  },
  {
   "cell_type": "markdown",
   "metadata": {},
   "source": [
    "我們把前面的爬蟲程式組合在一起，建構成函式。輸出成 DataFrame 的格式來看一下結果。"
   ]
  },
  {
   "cell_type": "code",
   "execution_count": 144,
   "metadata": {},
   "outputs": [
    {
     "data": {
      "text/html": [
       "<div>\n",
       "<style scoped>\n",
       "    .dataframe tbody tr th:only-of-type {\n",
       "        vertical-align: middle;\n",
       "    }\n",
       "\n",
       "    .dataframe tbody tr th {\n",
       "        vertical-align: top;\n",
       "    }\n",
       "\n",
       "    .dataframe thead th {\n",
       "        text-align: right;\n",
       "    }\n",
       "</style>\n",
       "<table border=\"1\" class=\"dataframe\">\n",
       "  <thead>\n",
       "    <tr style=\"text-align: right;\">\n",
       "      <th></th>\n",
       "      <th>作者</th>\n",
       "      <th>讚數</th>\n",
       "      <th>時間</th>\n",
       "      <th>連結</th>\n",
       "      <th>貼文內容</th>\n",
       "    </tr>\n",
       "  </thead>\n",
       "  <tbody>\n",
       "    <tr>\n",
       "      <th>0</th>\n",
       "      <td>跟著領隊玩</td>\n",
       "      <td>1</td>\n",
       "      <td>32分鐘</td>\n",
       "      <td>https://www.facebook.com/groups/traveler168/po...</td>\n",
       "      <td>到台東池上看金城武樹騎伯朗大道，當然要住在田裡面啦！你有看到我的民宿嗎！就是被大地畫布水田包...</td>\n",
       "    </tr>\n",
       "    <tr>\n",
       "      <th>1</th>\n",
       "      <td>跟著領隊玩</td>\n",
       "      <td>2</td>\n",
       "      <td>1小時</td>\n",
       "      <td>https://www.facebook.com/groups/traveler168/po...</td>\n",
       "      <td>東海岸最美的沙灘之一，在岸邊玩水看魚只是基本，其實你還可以浮潛、SUP和獨木舟，用不同的角度...</td>\n",
       "    </tr>\n",
       "    <tr>\n",
       "      <th>2</th>\n",
       "      <td>啊賀！！現做捲餅舖 - 外星人小舖</td>\n",
       "      <td>1</td>\n",
       "      <td>6小時</td>\n",
       "      <td>https://www.facebook.com/groups/traveler168/po...</td>\n",
       "      <td>啊賀！！現做捲餅舖的「加熱即食」冷凍捲餅上市囉！只要5~8分鐘 就能輕鬆解決您的早、午、晚餐...</td>\n",
       "    </tr>\n",
       "    <tr>\n",
       "      <th>3</th>\n",
       "      <td>陳怡如</td>\n",
       "      <td>1</td>\n",
       "      <td>5小時</td>\n",
       "      <td>https://www.facebook.com/groups/traveler168/po...</td>\n",
       "      <td>熊寶貝多元化派車即日起邀請朋友加入官網即贈$20乘車金！不限次數 可累積！服務範圍：桃園、雙...</td>\n",
       "    </tr>\n",
       "    <tr>\n",
       "      <th>4</th>\n",
       "      <td>康韶菲</td>\n",
       "      <td>1</td>\n",
       "      <td>1小時</td>\n",
       "      <td>https://www.facebook.com/groups/traveler168/po...</td>\n",
       "      <td>HUGO也太活潑可愛了吧! 天啊不愧是大人小孩都喜歡的香菇</td>\n",
       "    </tr>\n",
       "    <tr>\n",
       "      <th>5</th>\n",
       "      <td>謝露西</td>\n",
       "      <td>1</td>\n",
       "      <td>1小時</td>\n",
       "      <td>https://www.facebook.com/groups/traveler168/po...</td>\n",
       "      <td>義大利初遊!!!!超級超級喜歡波隆那這個城市的&gt;\"\"\"\"&lt;</td>\n",
       "    </tr>\n",
       "    <tr>\n",
       "      <th>6</th>\n",
       "      <td>林子恩</td>\n",
       "      <td>2</td>\n",
       "      <td>1小時</td>\n",
       "      <td>https://www.facebook.com/groups/traveler168/po...</td>\n",
       "      <td>2024年最夯的必備景  牛奶海登場囉 5-9月宜蘭龜山島牛奶海遊艇團來啦 趕緊私訊小編卡位...</td>\n",
       "    </tr>\n",
       "    <tr>\n",
       "      <th>7</th>\n",
       "      <td>陳冰穎</td>\n",
       "      <td>22</td>\n",
       "      <td>1月24日</td>\n",
       "      <td>https://www.facebook.com/groups/traveler168/po...</td>\n",
       "      <td>來推薦一間新開幕的足體養生會館「大都會足體養生會館」按完會讓您想大喊再來一次，每位專業師傅的...</td>\n",
       "    </tr>\n",
       "    <tr>\n",
       "      <th>8</th>\n",
       "      <td>金永豐</td>\n",
       "      <td>0</td>\n",
       "      <td>2小時</td>\n",
       "      <td>https://www.facebook.com/groups/traveler168/po...</td>\n",
       "      <td>東京愛玩樂~高雄出發親子同遊 大人小孩都開心頂級夢幻國度-東京迪工尼著名姻綠神社-冰川神社人...</td>\n",
       "    </tr>\n",
       "    <tr>\n",
       "      <th>9</th>\n",
       "      <td>江曼寧</td>\n",
       "      <td>0</td>\n",
       "      <td>3小時</td>\n",
       "      <td>https://www.facebook.com/groups/traveler168/po...</td>\n",
       "      <td></td>\n",
       "    </tr>\n",
       "  </tbody>\n",
       "</table>\n",
       "</div>"
      ],
      "text/plain": [
       "                  作者  讚數     時間  \\\n",
       "0              跟著領隊玩   1   32分鐘   \n",
       "1              跟著領隊玩   2    1小時   \n",
       "2  啊賀！！現做捲餅舖 - 外星人小舖   1    6小時   \n",
       "3                陳怡如   1    5小時   \n",
       "4                康韶菲   1    1小時   \n",
       "5                謝露西   1    1小時   \n",
       "6                林子恩   2    1小時   \n",
       "7                陳冰穎  22  1月24日   \n",
       "8                金永豐   0    2小時   \n",
       "9                江曼寧   0    3小時   \n",
       "\n",
       "                                                  連結  \\\n",
       "0  https://www.facebook.com/groups/traveler168/po...   \n",
       "1  https://www.facebook.com/groups/traveler168/po...   \n",
       "2  https://www.facebook.com/groups/traveler168/po...   \n",
       "3  https://www.facebook.com/groups/traveler168/po...   \n",
       "4  https://www.facebook.com/groups/traveler168/po...   \n",
       "5  https://www.facebook.com/groups/traveler168/po...   \n",
       "6  https://www.facebook.com/groups/traveler168/po...   \n",
       "7  https://www.facebook.com/groups/traveler168/po...   \n",
       "8  https://www.facebook.com/groups/traveler168/po...   \n",
       "9  https://www.facebook.com/groups/traveler168/po...   \n",
       "\n",
       "                                                貼文內容  \n",
       "0  到台東池上看金城武樹騎伯朗大道，當然要住在田裡面啦！你有看到我的民宿嗎！就是被大地畫布水田包...  \n",
       "1  東海岸最美的沙灘之一，在岸邊玩水看魚只是基本，其實你還可以浮潛、SUP和獨木舟，用不同的角度...  \n",
       "2  啊賀！！現做捲餅舖的「加熱即食」冷凍捲餅上市囉！只要5~8分鐘 就能輕鬆解決您的早、午、晚餐...  \n",
       "3  熊寶貝多元化派車即日起邀請朋友加入官網即贈$20乘車金！不限次數 可累積！服務範圍：桃園、雙...  \n",
       "4                      HUGO也太活潑可愛了吧! 天啊不愧是大人小孩都喜歡的香菇  \n",
       "5                      義大利初遊!!!!超級超級喜歡波隆那這個城市的>\"\"\"\"<  \n",
       "6  2024年最夯的必備景  牛奶海登場囉 5-9月宜蘭龜山島牛奶海遊艇團來啦 趕緊私訊小編卡位...  \n",
       "7  來推薦一間新開幕的足體養生會館「大都會足體養生會館」按完會讓您想大喊再來一次，每位專業師傅的...  \n",
       "8  東京愛玩樂~高雄出發親子同遊 大人小孩都開心頂級夢幻國度-東京迪工尼著名姻綠神社-冰川神社人...  \n",
       "9                                                     "
      ]
     },
     "execution_count": 144,
     "metadata": {},
     "output_type": "execute_result"
    }
   ],
   "source": [
    "import pandas as pd\n",
    "\n",
    "def getPostData(elements):\n",
    "    name_list, like_list, date_list, link_list, article_list = [], [], [], [], []\n",
    "    for element in elements:\n",
    "        try:\n",
    "            name = element.select('.xt0psk2 span')[0].text\n",
    "            name_list.append(name)\n",
    "        except:\n",
    "            continue\n",
    "\n",
    "        try:\n",
    "            like = element.select('.xt0b8zv.x2bj2ny.xrbpyxo.xl423tq span.x1e558r4')[0].text\n",
    "            like_list.append(like)\n",
    "        except:\n",
    "            like_list.append(0)\n",
    "\n",
    "        try:\n",
    "            date_time = element.select('.x1i10hfl.xjbqb8w.x1ejq31n.xd10rxx.x1sy0etr.x17r0tee.x972fbf.xcfux6l.x1qhh985.xm0m39n.x9f619.x1ypdohk.xt0psk2.xe8uvvx.xdj266r.x11i5rnm.xat24cr.x1mh8g0r.xexx8yu.x4uap5.x18d9i69.xkhd6sd.x16tdsg8.x1hl2dhg.xggy1nq.x1a2a7pz.x1heor9g.xt0b8zv.xo1l8bm span')[0].text\n",
    "            date_list.append(date_time)\n",
    "        except:\n",
    "            date_list.append('')\n",
    "\n",
    "        try:\n",
    "            link = element.select('.x1i10hfl.xjbqb8w.x1ejq31n.xd10rxx.x1sy0etr.x17r0tee.x972fbf.xcfux6l.x1qhh985.xm0m39n.x9f619.x1ypdohk.xt0psk2.xe8uvvx.xdj266r.x11i5rnm.xat24cr.x1mh8g0r.xexx8yu.x4uap5.x18d9i69.xkhd6sd.x16tdsg8.x1hl2dhg.xggy1nq.x1a2a7pz.x1heor9g.xt0b8zv.xo1l8bm')[0].get('href')\n",
    "            base_url = re.match(r\"(https://www\\.facebook\\.com/groups/traveler168/posts/\\d+)\", link)\n",
    "            if base_url:\n",
    "                link_list.append(base_url.group(1))\n",
    "            else:\n",
    "                link_list.append(link)\n",
    "        except:\n",
    "            link_list.append('')\n",
    "\n",
    "        try:\n",
    "            article = element.select_one('.x193iq5w.xeuugli.x13faqbe.x1vvkbs.x1xmvt09.x1lliihq.x1s928wv.xhkezso.x1gmr53x.x1cpjm7i.x1fgarty.x1943h6x.xudqn12.x3x7a5m.x6prxxf.xvq8zen.xo1l8bm.xzsf02u.x1yc453h')\n",
    "            article_list.append(article.get_text())\n",
    "        except:\n",
    "            article_list.append('')\n",
    "\n",
    "    df = pd.DataFrame({\n",
    "        '作者': name_list,\n",
    "        '讚數': like_list,\n",
    "        '時間': date_list,\n",
    "        '連結': link_list,\n",
    "        '貼文內容': article_list\n",
    "    })\n",
    "    return df\n",
    "\n",
    "post_df = getPostData(elements)\n",
    "post_df"
   ]
  },
  {
   "cell_type": "markdown",
   "metadata": {},
   "source": [
    "### 貼文內文部分隱藏\n",
    "\n",
    "從輸出的資料表可以發現，有幾筆資料出現「查看更多」的字樣。"
   ]
  },
  {
   "cell_type": "markdown",
   "metadata": {},
   "source": [
    "![](./image/dataframe_more.png)"
   ]
  },
  {
   "cell_type": "markdown",
   "metadata": {},
   "source": [
    "實際在網頁上看到的就像這個樣子，必須點擊「查看更多」才有辦法看到完整貼文內容。\n",
    "\n",
    "所以需要透過一些方式，讓瀏覽器依序點開每一篇的「查看更多」按鈕，藉此獲得完整的資料。"
   ]
  },
  {
   "cell_type": "markdown",
   "metadata": {},
   "source": [
    "![more_content_sample](./image/more_content_sample.png)"
   ]
  },
  {
   "cell_type": "markdown",
   "metadata": {},
   "source": [
    "![click_more_btn](./image/click_more_btn.png)"
   ]
  },
  {
   "cell_type": "markdown",
   "metadata": {},
   "source": [
    "![more_btn_position](./image/more_btn_position.png)"
   ]
  },
  {
   "cell_type": "markdown",
   "metadata": {},
   "source": [
    "我們抓到「查看更多」按鈕的 classname 後，可以使用 `find_elements` 來指定。但是，實際上這個 classname 在很多地方大量重複，例如：貼文影片、分享的貼文區塊...等（這裡就不列出有出現的位置，感興趣的話可以檢查看看~）。\n",
    "\n",
    "為了解決這個問題，我們可以在展開全文的過程中，判斷按鈕的類型。利用 `get_attribute('textContent')` 可以抓出該元素的文字內容，如果不是「查看更多」的話，便會跳過而不點擊。\n",
    "\n",
    "> 並不是標籤名稱為 `Button` 的元素才能夠點擊喔！\n",
    "\n",
    "另外在最外層加入了 try 和 except 的語法，來進行例外處理。當 try 區段內的程式發生錯誤時，就會執行 except 裡的內容，如果 try 的程式沒有錯誤，就不會執行 except 的內容。"
   ]
  },
  {
   "cell_type": "code",
   "execution_count": 145,
   "metadata": {},
   "outputs": [
    {
     "name": "stdout",
     "output_type": "stream",
     "text": [
      "展開貼文：23\n"
     ]
    }
   ],
   "source": [
    "try:\n",
    "    # 抓取所有「查看更多」按鈕的元素\n",
    "    target_class = '.x1i10hfl.xjbqb8w.x1ejq31n.xd10rxx.x1sy0etr.x17r0tee.x972fbf.xcfux6l.x1qhh985.xm0m39n.x9f619.x1ypdohk.xt0psk2.xe8uvvx.xdj266r.x11i5rnm.xat24cr.x1mh8g0r.xexx8yu.x4uap5.x18d9i69.xkhd6sd.x16tdsg8.x1hl2dhg.xggy1nq.x1a2a7pz.xt0b8zv.xzsf02u.x1s688f'\n",
    "    targets = driver.find_elements(By.CSS_SELECTOR, target_class)\n",
    "    print(f\"展開貼文：{len(targets)}\")\n",
    "    \n",
    "    # 點擊每個按鈕\n",
    "    for target in targets:\n",
    "        try:\n",
    "            # 如果谮內容為「查看更多」才會點擊，其餘跳過\n",
    "            if \"查看更多\" in target.get_attribute('textContent'):\n",
    "                target.click()\n",
    "                time.sleep(0.3)\n",
    "        except:\n",
    "            continue\n",
    "except Exception as e:\n",
    "    # 輸出錯誤訊息\n",
    "    print(e)\n",
    "    # 略過\n",
    "    pass"
   ]
  },
  {
   "cell_type": "markdown",
   "metadata": {},
   "source": [
    "此時，我們再爬取一次資料看看"
   ]
  },
  {
   "cell_type": "code",
   "execution_count": 146,
   "metadata": {},
   "outputs": [
    {
     "data": {
      "text/html": [
       "<div>\n",
       "<style scoped>\n",
       "    .dataframe tbody tr th:only-of-type {\n",
       "        vertical-align: middle;\n",
       "    }\n",
       "\n",
       "    .dataframe tbody tr th {\n",
       "        vertical-align: top;\n",
       "    }\n",
       "\n",
       "    .dataframe thead th {\n",
       "        text-align: right;\n",
       "    }\n",
       "</style>\n",
       "<table border=\"1\" class=\"dataframe\">\n",
       "  <thead>\n",
       "    <tr style=\"text-align: right;\">\n",
       "      <th></th>\n",
       "      <th>作者</th>\n",
       "      <th>讚數</th>\n",
       "      <th>時間</th>\n",
       "      <th>連結</th>\n",
       "      <th>貼文內容</th>\n",
       "    </tr>\n",
       "  </thead>\n",
       "  <tbody>\n",
       "    <tr>\n",
       "      <th>0</th>\n",
       "      <td>跟著領隊玩</td>\n",
       "      <td>1</td>\n",
       "      <td>36分鐘</td>\n",
       "      <td>https://www.facebook.com/groups/traveler168/po...</td>\n",
       "      <td>到台東池上看金城武樹騎伯朗大道，當然要住在田裡面啦！你有看到我的民宿嗎！就是被大地畫布水田包...</td>\n",
       "    </tr>\n",
       "    <tr>\n",
       "      <th>1</th>\n",
       "      <td>跟著領隊玩</td>\n",
       "      <td>2</td>\n",
       "      <td>1小時</td>\n",
       "      <td>https://www.facebook.com/groups/traveler168/po...</td>\n",
       "      <td>東海岸最美的沙灘之一，在岸邊玩水看魚只是基本，其實你還可以浮潛、SUP和獨木舟，用不同的角度...</td>\n",
       "    </tr>\n",
       "    <tr>\n",
       "      <th>2</th>\n",
       "      <td>啊賀！！現做捲餅舖 - 外星人小舖</td>\n",
       "      <td>1</td>\n",
       "      <td>6小時</td>\n",
       "      <td>https://www.facebook.com/groups/traveler168/po...</td>\n",
       "      <td>啊賀！！現做捲餅舖的「加熱即食」冷凍捲餅上市囉！只要5~8分鐘 就能輕鬆解決您的早、午、晚餐...</td>\n",
       "    </tr>\n",
       "    <tr>\n",
       "      <th>3</th>\n",
       "      <td>陳怡如</td>\n",
       "      <td>1</td>\n",
       "      <td>5小時</td>\n",
       "      <td>https://www.facebook.com/groups/traveler168/po...</td>\n",
       "      <td>熊寶貝多元化派車即日起邀請朋友加入官網即贈$20乘車金！不限次數 可累積！服務範圍：桃園、雙...</td>\n",
       "    </tr>\n",
       "    <tr>\n",
       "      <th>4</th>\n",
       "      <td>康韶菲</td>\n",
       "      <td>1</td>\n",
       "      <td>1小時</td>\n",
       "      <td>https://www.facebook.com/groups/traveler168/po...</td>\n",
       "      <td>HUGO也太活潑可愛了吧! 天啊不愧是大人小孩都喜歡的香菇</td>\n",
       "    </tr>\n",
       "    <tr>\n",
       "      <th>5</th>\n",
       "      <td>謝露西</td>\n",
       "      <td>1</td>\n",
       "      <td>1小時</td>\n",
       "      <td>https://www.facebook.com/groups/traveler168/po...</td>\n",
       "      <td>義大利初遊!!!!超級超級喜歡波隆那這個城市的&gt;\"\"\"\"&lt;</td>\n",
       "    </tr>\n",
       "    <tr>\n",
       "      <th>6</th>\n",
       "      <td>林子恩</td>\n",
       "      <td>2</td>\n",
       "      <td>1小時</td>\n",
       "      <td>https://www.facebook.com/groups/traveler168/po...</td>\n",
       "      <td>2024年最夯的必備景  牛奶海登場囉 5-9月宜蘭龜山島牛奶海遊艇團來啦 趕緊私訊小編卡位...</td>\n",
       "    </tr>\n",
       "    <tr>\n",
       "      <th>7</th>\n",
       "      <td>陳冰穎</td>\n",
       "      <td>22</td>\n",
       "      <td>1月24日</td>\n",
       "      <td>https://www.facebook.com/groups/traveler168/po...</td>\n",
       "      <td>來推薦一間新開幕的足體養生會館「大都會足體養生會館」按完會讓您想大喊再來一次，每位專業師傅的...</td>\n",
       "    </tr>\n",
       "    <tr>\n",
       "      <th>8</th>\n",
       "      <td>金永豐</td>\n",
       "      <td>0</td>\n",
       "      <td>3小時</td>\n",
       "      <td>https://www.facebook.com/groups/traveler168/po...</td>\n",
       "      <td>東京愛玩樂~高雄出發親子同遊 大人小孩都開心頂級夢幻國度-東京迪工尼著名姻綠神社-冰川神社人...</td>\n",
       "    </tr>\n",
       "    <tr>\n",
       "      <th>9</th>\n",
       "      <td>江曼寧</td>\n",
       "      <td>0</td>\n",
       "      <td>3小時</td>\n",
       "      <td>https://www.facebook.com/groups/traveler168/po...</td>\n",
       "      <td></td>\n",
       "    </tr>\n",
       "    <tr>\n",
       "      <th>10</th>\n",
       "      <td>江曼寧</td>\n",
       "      <td>0</td>\n",
       "      <td>3小時</td>\n",
       "      <td>https://www.facebook.com/groups/traveler168/po...</td>\n",
       "      <td>挑戰市場最高CP值巴爾幹全覽9國17天只要 85900  再送小費 (價值6800)【9國共...</td>\n",
       "    </tr>\n",
       "  </tbody>\n",
       "</table>\n",
       "</div>"
      ],
      "text/plain": [
       "                   作者  讚數     時間  \\\n",
       "0               跟著領隊玩   1   36分鐘   \n",
       "1               跟著領隊玩   2    1小時   \n",
       "2   啊賀！！現做捲餅舖 - 外星人小舖   1    6小時   \n",
       "3                 陳怡如   1    5小時   \n",
       "4                 康韶菲   1    1小時   \n",
       "5                 謝露西   1    1小時   \n",
       "6                 林子恩   2    1小時   \n",
       "7                 陳冰穎  22  1月24日   \n",
       "8                 金永豐   0    3小時   \n",
       "9                 江曼寧   0    3小時   \n",
       "10                江曼寧   0    3小時   \n",
       "\n",
       "                                                   連結  \\\n",
       "0   https://www.facebook.com/groups/traveler168/po...   \n",
       "1   https://www.facebook.com/groups/traveler168/po...   \n",
       "2   https://www.facebook.com/groups/traveler168/po...   \n",
       "3   https://www.facebook.com/groups/traveler168/po...   \n",
       "4   https://www.facebook.com/groups/traveler168/po...   \n",
       "5   https://www.facebook.com/groups/traveler168/po...   \n",
       "6   https://www.facebook.com/groups/traveler168/po...   \n",
       "7   https://www.facebook.com/groups/traveler168/po...   \n",
       "8   https://www.facebook.com/groups/traveler168/po...   \n",
       "9   https://www.facebook.com/groups/traveler168/po...   \n",
       "10  https://www.facebook.com/groups/traveler168/po...   \n",
       "\n",
       "                                                 貼文內容  \n",
       "0   到台東池上看金城武樹騎伯朗大道，當然要住在田裡面啦！你有看到我的民宿嗎！就是被大地畫布水田包...  \n",
       "1   東海岸最美的沙灘之一，在岸邊玩水看魚只是基本，其實你還可以浮潛、SUP和獨木舟，用不同的角度...  \n",
       "2   啊賀！！現做捲餅舖的「加熱即食」冷凍捲餅上市囉！只要5~8分鐘 就能輕鬆解決您的早、午、晚餐...  \n",
       "3   熊寶貝多元化派車即日起邀請朋友加入官網即贈$20乘車金！不限次數 可累積！服務範圍：桃園、雙...  \n",
       "4                       HUGO也太活潑可愛了吧! 天啊不愧是大人小孩都喜歡的香菇  \n",
       "5                       義大利初遊!!!!超級超級喜歡波隆那這個城市的>\"\"\"\"<  \n",
       "6   2024年最夯的必備景  牛奶海登場囉 5-9月宜蘭龜山島牛奶海遊艇團來啦 趕緊私訊小編卡位...  \n",
       "7   來推薦一間新開幕的足體養生會館「大都會足體養生會館」按完會讓您想大喊再來一次，每位專業師傅的...  \n",
       "8   東京愛玩樂~高雄出發親子同遊 大人小孩都開心頂級夢幻國度-東京迪工尼著名姻綠神社-冰川神社人...  \n",
       "9                                                      \n",
       "10  挑戰市場最高CP值巴爾幹全覽9國17天只要 85900  再送小費 (價值6800)【9國共...  "
      ]
     },
     "execution_count": 146,
     "metadata": {},
     "output_type": "execute_result"
    }
   ],
   "source": [
    "def getElement(driver):\n",
    "    page_content = driver.page_source\n",
    "    soup = BeautifulSoup(page_content, 'html.parser')\n",
    "    elements = soup.select('.x1yztbdb.x1n2onr6.xh8yej3.x1ja2u2z')\n",
    "    return elements\n",
    "\n",
    "elements = getElement(driver)\n",
    "\n",
    "post_df = getPostData(elements)\n",
    "post_df"
   ]
  },
  {
   "cell_type": "markdown",
   "metadata": {},
   "source": [
    "檢查一下結果，看來都抓到完整的文章內容了！"
   ]
  },
  {
   "cell_type": "code",
   "execution_count": 147,
   "metadata": {},
   "outputs": [
    {
     "data": {
      "text/plain": [
       "array(['到台東池上看金城武樹騎伯朗大道，當然要住在田裡面啦！你有看到我的民宿嗎！就是被大地畫布水田包圍的那一間阿！#台東住宿 #池上住宿 #田裡面民宿全文閱讀：https://taiwantour.info/tianli-homestay',\n",
       "       '東海岸最美的沙灘之一，在岸邊玩水看魚只是基本，其實你還可以浮潛、SUP和獨木舟，用不同的角度看海喔！全文閱讀：https://taiwantour.info/toyama-fishery/',\n",
       "       '啊賀！！現做捲餅舖的「加熱即食」冷凍捲餅上市囉！只要5~8分鐘 就能輕鬆解決您的早、午、晚餐及點心宵夜12種品項任您選擇，營養美味是家庭主婦、上班族、學生族群解決三餐 、點心、宵夜的新選擇。一份兩塊，料理方式簡單快速，隨時隨地您都能享受一份像剛出爐酥脆好吃的捲餅，滿足您不同的需求喔現在訂購即可享有9折優惠，雙北地區滿一千元以上還可免付運費喔！…… 查看更多',\n",
       "       '熊寶貝多元化派車即日起邀請朋友加入官網即贈$20乘車金！不限次數 可累積！服務範圍：桃園、雙北、基隆東部中部南部皆可安排高速不加價夜間無加成24H線上客服為您服務一對一叫車 保障您的隱私歡迎預約、即時叫車機場接送、長途搭乘皆有優惠價貼心提醒尖峰時段務必提早預約叫車避免耽誤您寶貴時間歡迎叫車附上官網帳號@273bpjxd',\n",
       "       'HUGO也太活潑可愛了吧! 天啊不愧是大人小孩都喜歡的香菇', '義大利初遊!!!!超級超級喜歡波隆那這個城市的>\"\"\"\"<',\n",
       "       '2024年最夯的必備景  牛奶海登場囉 5-9月宜蘭龜山島牛奶海遊艇團來啦 趕緊私訊小編卡位啦預定成功送頭城島主龍蝦海鮮火鍋9折券龜山島是台灣唯一活火山，擁有全球僅11處的海底溫泉特殊火山地形，深藍色海水經過地底高熱溫泉水湧出之後，呈現不同的漸層樣貌，猶如染上牛奶色的鈷藍、埃及藍、普魯士藍，或蒂芬尼藍的深淺交錯，海色超極夢幻，仙氣盎然。以前大家稱這片海域叫陰陽海奇觀，2020大噴發之後面積擴大，變成了牛奶海。還沒來過牛奶海嗎? 今年夏天一起去吧 !有專業教練帶你到牛奶海玩SUP與海上設施享受帆船航海樂趣船長、水手、教練各一名,西班牙進口SUP立槳免費教學。欣賞宜蘭的大自然美景ー龜山島・牛奶海。船長・水手・教練親切服務 體驗在嫩白的牛奶湖的浪漫拍美照或是享受在龜山島後花園平靜海域上歡樂。家族旅遊、商業活動、朋友聚會的好地方法國進口旗艦45呎雙體帆船 - 牛奶海最大最不暈船的雙體帆船二乘載客戶人數：2-22人168快艇 乘載客戶人數：2-11人橘子貓快艇承載客戶人數：2-7人以上均附專業sup教練sup古揪酪梨泳圈救生衣漂浮魔毯溜滑梯（島主號限定）水.零食.飲料保險如果包船，以上項目覺得不足，可自行攜帶需求上船喔每日船班時間上午：07:00-12:00下午：13:00-18:00空拍攝影費用另計，購買空拍服務額外贈送船上平面攝影歡迎來私訊小編 預定船班成功即贈送 島主龍蝦海鮮火鍋九折用餐卷一人乙張歐宜蘭龜山島賞鯨船、登島、牛奶海、火鍋均可詢問私訊我才有比官方低的優惠價喔洽 林先生：0982399504#龜山島#牛奶海#島主號#牛奶海家族#sup立槳 #家庭旅遊#生日派對#朋友聚會#公司旅遊',\n",
       "       '來推薦一間新開幕的足體養生會館「大都會足體養生會館」按完會讓您想大喊再來一次，每位專業師傅的手法都招招到位，由淺層再到深層，疏通您所有經絡，維持全身的氣血順暢，極致放鬆指壓按摩不管是經絡或是穴道加壓，緩解身體所有痠痛，都能夠為您解決締造無數的優良口碑，趕緊打電話預約還有體驗的優惠價格。太慢打電話預約就訂不到位大都會足體養生會館店家資訊地址：板橋區南雅南路一段5號(鄰近南雅夜市，85度c正對面)，周邊共三間停車場走路都約2~3分鐘。LINE 預約：https://lin.ee/1Ank2J9預約專線：(02)2272-8889開幕營業時間：上午10：00～凌晨02：00(之後改為24小時)',\n",
       "       '東京愛玩樂~高雄出發親子同遊 大人小孩都開心頂級夢幻國度-東京迪工尼著名姻綠神社-冰川神社人氣必遊-台場東京灣X彩虹大橋買東西、吃東西、買東西、吃東西：7/17（三）8/14（三）優惠價：31900/人 加入小編賴立即問LINE ID:  7272200門市地址：高雄市前鎮區永豐路20號 (彰化銀行對面)',\n",
       "       '',\n",
       "       '挑戰市場最高CP值巴爾幹全覽9國17天只要 85900  再送小費 (價值6800)【9國共10個世界文化遺產】1. 匈 牙 利- 布達佩斯舊城區…… 查看更多'],\n",
       "      dtype=object)"
      ]
     },
     "execution_count": 147,
     "metadata": {},
     "output_type": "execute_result"
    }
   ],
   "source": [
    "post_df['貼文內容'].values"
   ]
  },
  {
   "cell_type": "markdown",
   "metadata": {},
   "source": [
    "### 過載貼文內容隱藏"
   ]
  },
  {
   "cell_type": "markdown",
   "metadata": {},
   "source": [
    "嘗試抓30筆貼文看看結果如何"
   ]
  },
  {
   "cell_type": "code",
   "execution_count": 148,
   "metadata": {},
   "outputs": [],
   "source": [
    "driver.refresh()\n",
    "\n",
    "amount = 0\n",
    "while amount < 30:\n",
    "    \n",
    "    counter = 0\n",
    "    while counter <= 3:\n",
    "        driver.execute_script(\"window.scrollTo(0, document.body.scrollHeight);\")\n",
    "        time.sleep(0.5)\n",
    "        counter += 1\n",
    "\n",
    "    elements = getElement(driver)\n",
    "    amount = len(elements)"
   ]
  },
  {
   "cell_type": "code",
   "execution_count": 149,
   "metadata": {},
   "outputs": [
    {
     "name": "stdout",
     "output_type": "stream",
     "text": [
      "展開貼文：33\n"
     ]
    },
    {
     "data": {
      "text/html": [
       "<div>\n",
       "<style scoped>\n",
       "    .dataframe tbody tr th:only-of-type {\n",
       "        vertical-align: middle;\n",
       "    }\n",
       "\n",
       "    .dataframe tbody tr th {\n",
       "        vertical-align: top;\n",
       "    }\n",
       "\n",
       "    .dataframe thead th {\n",
       "        text-align: right;\n",
       "    }\n",
       "</style>\n",
       "<table border=\"1\" class=\"dataframe\">\n",
       "  <thead>\n",
       "    <tr style=\"text-align: right;\">\n",
       "      <th></th>\n",
       "      <th>作者</th>\n",
       "      <th>讚數</th>\n",
       "      <th>時間</th>\n",
       "      <th>連結</th>\n",
       "      <th>貼文內容</th>\n",
       "    </tr>\n",
       "  </thead>\n",
       "  <tbody>\n",
       "    <tr>\n",
       "      <th>0</th>\n",
       "      <td>Rick Chang</td>\n",
       "      <td>1</td>\n",
       "      <td>10小時</td>\n",
       "      <td>https://www.facebook.com/groups/traveler168/po...</td>\n",
       "      <td>小豬漫步──在小豬漫步。</td>\n",
       "    </tr>\n",
       "    <tr>\n",
       "      <th>1</th>\n",
       "      <td>跟著領隊玩</td>\n",
       "      <td>7</td>\n",
       "      <td>12小時</td>\n",
       "      <td>https://www.facebook.com/groups/traveler168/po...</td>\n",
       "      <td>玩水.油桐花秘境基隆在地人玩水秘境，除了天然的河道之外，尚有攔沙壩的嬉水區，還有油桐花和隱藏...</td>\n",
       "    </tr>\n",
       "    <tr>\n",
       "      <th>2</th>\n",
       "      <td>陳香樺</td>\n",
       "      <td>1</td>\n",
       "      <td>12小時</td>\n",
       "      <td>https://www.facebook.com/groups/traveler168/po...</td>\n",
       "      <td>在曼谷潑水節的這週 我體驗了↓⒈sala rattanakosin鄭王廟落日餐廳-拍照首選一...</td>\n",
       "    </tr>\n",
       "    <tr>\n",
       "      <th>3</th>\n",
       "      <td>陳莉婷</td>\n",
       "      <td>0</td>\n",
       "      <td>12小時</td>\n",
       "      <td>https://www.facebook.com/groups/traveler168/po...</td>\n",
       "      <td>紅囍串燒 漁人町店</td>\n",
       "    </tr>\n",
       "    <tr>\n",
       "      <th>4</th>\n",
       "      <td>湯宗霖</td>\n",
       "      <td>1</td>\n",
       "      <td>20小時</td>\n",
       "      <td>https://www.facebook.com/groups/traveler168/po...</td>\n",
       "      <td>回憶 • TRAVEL ｜USA • CANADA ｜2020/ 0207 - 0215漫遊...</td>\n",
       "    </tr>\n",
       "    <tr>\n",
       "      <th>5</th>\n",
       "      <td>跟著領隊玩</td>\n",
       "      <td>3</td>\n",
       "      <td>23小時</td>\n",
       "      <td>https://www.facebook.com/groups/traveler168/po...</td>\n",
       "      <td>世界都讚嘆坑道三年不到的時間，2個師、3個步兵營、1個工兵營以及1個傾卸車連，打造了讓世界都...</td>\n",
       "    </tr>\n",
       "    <tr>\n",
       "      <th>6</th>\n",
       "      <td>Cherry Huang Cherry</td>\n",
       "      <td>0</td>\n",
       "      <td>1天</td>\n",
       "      <td>https://www.facebook.com/groups/traveler168/po...</td>\n",
       "      <td>#高雄出發時尚港珠澳4日【赤崁古鎮、世界遺產、入住澳門奢華五星W酒店】 https://to...</td>\n",
       "    </tr>\n",
       "    <tr>\n",
       "      <th>7</th>\n",
       "      <td>宏家旅遊</td>\n",
       "      <td>0</td>\n",
       "      <td>23小時</td>\n",
       "      <td>https://www.facebook.com/groups/traveler168/po...</td>\n",
       "      <td>宏家旅遊</td>\n",
       "    </tr>\n",
       "    <tr>\n",
       "      <th>8</th>\n",
       "      <td>RLai與Sasa玩生活</td>\n",
       "      <td>0</td>\n",
       "      <td>23小時</td>\n",
       "      <td>https://www.facebook.com/groups/traveler168/po...</td>\n",
       "      <td>RLai與Sasa玩生活──在今日不食肉的蔬軾。</td>\n",
       "    </tr>\n",
       "    <tr>\n",
       "      <th>9</th>\n",
       "      <td>享受生活不無聊。規小孫</td>\n",
       "      <td>5</td>\n",
       "      <td>1天</td>\n",
       "      <td>https://www.facebook.com/groups/traveler168/po...</td>\n",
       "      <td>座落在宜蘭蘇澳南方澳漁港旁的選物店＆民宿！宛如日雜般的空間好讓人喜歡～➤ enlifesun...</td>\n",
       "    </tr>\n",
       "    <tr>\n",
       "      <th>10</th>\n",
       "      <td>台灣旅遊～小鄭旅遊包車／機場長途接送服務</td>\n",
       "      <td>4</td>\n",
       "      <td>1天</td>\n",
       "      <td>https://www.facebook.com/groups/traveler168/po...</td>\n",
       "      <td>＜平溪老街＞充滿著古樸的風味，沿著斜斜的山坡以及鐵道兩旁，可看見依序建蓋的古厝房舍。假日不妨...</td>\n",
       "    </tr>\n",
       "    <tr>\n",
       "      <th>11</th>\n",
       "      <td>杜佳蓉</td>\n",
       "      <td>0</td>\n",
       "      <td>1天</td>\n",
       "      <td>https://www.facebook.com/groups/traveler168/po...</td>\n",
       "      <td>尊爵釜山五日保証不走人蔘及護肝-限定5/5、5/6…… 查看更多</td>\n",
       "    </tr>\n",
       "    <tr>\n",
       "      <th>12</th>\n",
       "      <td>張育萍</td>\n",
       "      <td>1</td>\n",
       "      <td>1天</td>\n",
       "      <td>https://www.facebook.com/groups/traveler168/po...</td>\n",
       "      <td>台南神等級好喝的芋頭西米露專賣店，銅板美食價格，小塔芋頭西米露專賣店位於台南市東區崇德路上，...</td>\n",
       "    </tr>\n",
       "  </tbody>\n",
       "</table>\n",
       "</div>"
      ],
      "text/plain": [
       "                      作者 讚數    時間  \\\n",
       "0             Rick Chang  1  10小時   \n",
       "1                  跟著領隊玩  7  12小時   \n",
       "2                    陳香樺  1  12小時   \n",
       "3                    陳莉婷  0  12小時   \n",
       "4                    湯宗霖  1  20小時   \n",
       "5                  跟著領隊玩  3  23小時   \n",
       "6    Cherry Huang Cherry  0    1天   \n",
       "7                   宏家旅遊  0  23小時   \n",
       "8           RLai與Sasa玩生活  0  23小時   \n",
       "9            享受生活不無聊。規小孫  5    1天   \n",
       "10  台灣旅遊～小鄭旅遊包車／機場長途接送服務  4    1天   \n",
       "11                   杜佳蓉  0    1天   \n",
       "12                   張育萍  1    1天   \n",
       "\n",
       "                                                   連結  \\\n",
       "0   https://www.facebook.com/groups/traveler168/po...   \n",
       "1   https://www.facebook.com/groups/traveler168/po...   \n",
       "2   https://www.facebook.com/groups/traveler168/po...   \n",
       "3   https://www.facebook.com/groups/traveler168/po...   \n",
       "4   https://www.facebook.com/groups/traveler168/po...   \n",
       "5   https://www.facebook.com/groups/traveler168/po...   \n",
       "6   https://www.facebook.com/groups/traveler168/po...   \n",
       "7   https://www.facebook.com/groups/traveler168/po...   \n",
       "8   https://www.facebook.com/groups/traveler168/po...   \n",
       "9   https://www.facebook.com/groups/traveler168/po...   \n",
       "10  https://www.facebook.com/groups/traveler168/po...   \n",
       "11  https://www.facebook.com/groups/traveler168/po...   \n",
       "12  https://www.facebook.com/groups/traveler168/po...   \n",
       "\n",
       "                                                 貼文內容  \n",
       "0                                        小豬漫步──在小豬漫步。  \n",
       "1   玩水.油桐花秘境基隆在地人玩水秘境，除了天然的河道之外，尚有攔沙壩的嬉水區，還有油桐花和隱藏...  \n",
       "2   在曼谷潑水節的這週 我體驗了↓⒈sala rattanakosin鄭王廟落日餐廳-拍照首選一...  \n",
       "3                                           紅囍串燒 漁人町店  \n",
       "4   回憶 • TRAVEL ｜USA • CANADA ｜2020/ 0207 - 0215漫遊...  \n",
       "5   世界都讚嘆坑道三年不到的時間，2個師、3個步兵營、1個工兵營以及1個傾卸車連，打造了讓世界都...  \n",
       "6   #高雄出發時尚港珠澳4日【赤崁古鎮、世界遺產、入住澳門奢華五星W酒店】 https://to...  \n",
       "7                                                宏家旅遊  \n",
       "8                            RLai與Sasa玩生活──在今日不食肉的蔬軾。  \n",
       "9   座落在宜蘭蘇澳南方澳漁港旁的選物店＆民宿！宛如日雜般的空間好讓人喜歡～➤ enlifesun...  \n",
       "10  ＜平溪老街＞充滿著古樸的風味，沿著斜斜的山坡以及鐵道兩旁，可看見依序建蓋的古厝房舍。假日不妨...  \n",
       "11                   尊爵釜山五日保証不走人蔘及護肝-限定5/5、5/6…… 查看更多  \n",
       "12  台南神等級好喝的芋頭西米露專賣店，銅板美食價格，小塔芋頭西米露專賣店位於台南市東區崇德路上，...  "
      ]
     },
     "execution_count": 149,
     "metadata": {},
     "output_type": "execute_result"
    }
   ],
   "source": [
    "try:\n",
    "    target_class = '.x1i10hfl.xjbqb8w.x1ejq31n.xd10rxx.x1sy0etr.x17r0tee.x972fbf.xcfux6l.x1qhh985.xm0m39n.x9f619.x1ypdohk.xt0psk2.xe8uvvx.xdj266r.x11i5rnm.xat24cr.x1mh8g0r.xexx8yu.x4uap5.x18d9i69.xkhd6sd.x16tdsg8.x1hl2dhg.xggy1nq.x1a2a7pz.xt0b8zv.xzsf02u.x1s688f'\n",
    "    targets = driver.find_elements(By.CSS_SELECTOR, target_class)\n",
    "    print(f\"展開貼文：{len(targets)}\")\n",
    "    \n",
    "    for target in targets:\n",
    "        try:\n",
    "            if \"查看更多\" in target.get_attribute('textContent'):\n",
    "                target.click()\n",
    "                time.sleep(0.3)\n",
    "        except:\n",
    "            continue\n",
    "except Exception as e:\n",
    "    print(e)\n",
    "    pass\n",
    "\n",
    "elements = getElement(driver)\n",
    "\n",
    "post_df = getPostData(elements)\n",
    "post_df"
   ]
  },
  {
   "cell_type": "markdown",
   "metadata": {},
   "source": [
    "最後輸出的資料居然只有12筆？但是執行 `len(elements)` 會發現實際載入的貼文確實超過30筆"
   ]
  },
  {
   "cell_type": "code",
   "execution_count": 150,
   "metadata": {},
   "outputs": [
    {
     "data": {
      "text/plain": [
       "38"
      ]
     },
     "execution_count": 150,
     "metadata": {},
     "output_type": "execute_result"
    }
   ],
   "source": [
    "len(elements)"
   ]
  },
  {
   "cell_type": "markdown",
   "metadata": {},
   "source": [
    "檢查網頁元素後發現，前面載入的20多篇貼文，都被加上的 `hidden` 隱藏起來了，所以爬蟲才會抓不到。\n",
    "\n",
    "像這種以不斷滾動來載入文章內容的網頁，多少都會有這種類似的機制。為了避免過度消耗瀏覽器的記憶體和處理資源，會透過一些方式去降低資料消耗。以 Facebook 的做法，就是將不在可視範圍內（viewport）中的貼文標記為 `hidden`。"
   ]
  },
  {
   "cell_type": "markdown",
   "metadata": {},
   "source": [
    "![](./image/hidden.png)"
   ]
  },
  {
   "cell_type": "markdown",
   "metadata": {},
   "source": [
    "既然不能一次載入完爬取，我們可以嘗試一邊滾動頁面，一邊爬取貼文資料。在每一輪滾動完頁面後，就儲存一次當前頁面的貼文資料。\n",
    "\n",
    "但是如果今天要爬取大量的資料，例如：100筆、1000筆。即便大部分元素的主要內容會被隱藏，但也會有100、1000個沒有意義的網頁節點保留在頁面上，爬蟲執行的時間也會變得非常長。此時，我們可以借助 Javascript 的語法，在不斷載入頁面與爬取的過程中，同時刪除已標記 hidden 的元素"
   ]
  },
  {
   "cell_type": "code",
   "execution_count": 151,
   "metadata": {},
   "outputs": [],
   "source": [
    "# 腳本的邏輯是只要有抓到子級存在 hidden 的元素，就刪除離子級最近的貼文元素（.x1yztbdb.x1n2onr6.xh8yej3.x1ja2u2z，也就是他自己）\n",
    "js_script =  '''\n",
    "    let elements = document.querySelectorAll(\".x9f619.x1n2onr6.x1ja2u2z.x1s85apg[hidden]\");\n",
    "    for (let element of elements) {\n",
    "        let parentElement = element.closest(\".x1yztbdb.x1n2onr6.xh8yej3.x1ja2u2z\");\n",
    "        parentElement.parentNode.removeChild(parentElement);\n",
    "    }\n",
    "'''"
   ]
  },
  {
   "cell_type": "markdown",
   "metadata": {},
   "source": [
    "執行 Javascript 腳本"
   ]
  },
  {
   "cell_type": "code",
   "execution_count": 152,
   "metadata": {},
   "outputs": [],
   "source": [
    "driver.execute_script(js_script)"
   ]
  },
  {
   "cell_type": "markdown",
   "metadata": {},
   "source": [
    "### 完整爬蟲程式"
   ]
  },
  {
   "cell_type": "code",
   "execution_count": 153,
   "metadata": {},
   "outputs": [],
   "source": [
    "driver.refresh()"
   ]
  },
  {
   "cell_type": "code",
   "execution_count": 154,
   "metadata": {},
   "outputs": [
    {
     "name": "stdout",
     "output_type": "stream",
     "text": [
      "爬取進度: 7 筆\n",
      "爬取進度: 16 筆\n",
      "爬取進度: 25 筆\n",
      "爬取進度: 35 筆\n",
      "爬取進度: 44 筆\n",
      "爬取進度: 52 筆\n"
     ]
    }
   ],
   "source": [
    "result_df = pd.DataFrame()\n",
    "\n",
    "amount = 0\n",
    "while amount < 50:\n",
    "    \n",
    "    counter = 0\n",
    "    while counter <= 3:\n",
    "        driver.execute_script(\"window.scrollTo(0, document.body.scrollHeight);\")\n",
    "        time.sleep(0.5)\n",
    "        counter += 1\n",
    "\n",
    "    try:\n",
    "        target_class = '.x1i10hfl.xjbqb8w.x1ejq31n.xd10rxx.x1sy0etr.x17r0tee.x972fbf.xcfux6l.x1qhh985.xm0m39n.x9f619.x1ypdohk.xt0psk2.xe8uvvx.xdj266r.x11i5rnm.xat24cr.x1mh8g0r.xexx8yu.x4uap5.x18d9i69.xkhd6sd.x16tdsg8.x1hl2dhg.xggy1nq.x1a2a7pz.xt0b8zv.xzsf02u.x1s688f'\n",
    "        targets = driver.find_elements(By.CSS_SELECTOR, target_class)\n",
    "        \n",
    "        for target in targets:\n",
    "            try:\n",
    "                if \"查看更多\" in target.get_attribute('textContent'):\n",
    "                    target.click()\n",
    "                    time.sleep(0.3)\n",
    "            except:\n",
    "                continue\n",
    "    except Exception as e:\n",
    "        print(e)\n",
    "        pass\n",
    "\n",
    "    elements = getElement(driver)\n",
    "    post_df = getPostData(elements)\n",
    "\n",
    "    # 每一輪爬取的資料儲存進 result_df（與 result_df 合併）\n",
    "    result_df = pd.concat([result_df, post_df])\n",
    "\n",
    "    time.sleep(0.3)\n",
    "\n",
    "    driver.execute_script(js_script)\n",
    "\n",
    "    amount = len(result_df[~result_df['貼文內容'].str.contains('查看更多')]['連結'].unique())\n",
    "    print(f\"爬取進度: {amount} 筆\")"
   ]
  },
  {
   "cell_type": "code",
   "execution_count": 157,
   "metadata": {},
   "outputs": [],
   "source": [
    "driver.close()"
   ]
  },
  {
   "cell_type": "markdown",
   "metadata": {},
   "source": [
    "因為是一邊滾動一邊抓資料，貼文有可能會重複抓取，所以我們依據「連結」來篩選出不重複的資料。\n",
    "\n",
    "不過，為什麼明明爬蟲時，展開每篇貼文的隱藏內容，還會抓到沒展開的貼文？\n",
    "\n",
    "仔細觀察展開完整貼文時 Webdriver 的變化，可以發現 Webdriver 會將畫面移動至該篇文出現在可視範圍內。假設現在有一篇需要展開的貼文，恰好位在網頁的最後幾個元素上，那麼當 Webdriver 移動到該位置（頁面底部）並進行點擊時，便會自動刷出新的貼文。若新載入的貼文正好是需要展開的貼文，那麼就會抓到未展開的貼文。\n",
    "\n",
    "畢竟需要點擊的貼文，在貼文自動刷新前就決定好了~\n",
    "\n",
    "不過這問題影響不大，下一輪滾動完後，這一篇文就會進到需要被點擊的貼文清單了。"
   ]
  },
  {
   "cell_type": "code",
   "execution_count": 155,
   "metadata": {},
   "outputs": [
    {
     "data": {
      "text/html": [
       "<div>\n",
       "<style scoped>\n",
       "    .dataframe tbody tr th:only-of-type {\n",
       "        vertical-align: middle;\n",
       "    }\n",
       "\n",
       "    .dataframe tbody tr th {\n",
       "        vertical-align: top;\n",
       "    }\n",
       "\n",
       "    .dataframe thead th {\n",
       "        text-align: right;\n",
       "    }\n",
       "</style>\n",
       "<table border=\"1\" class=\"dataframe\">\n",
       "  <thead>\n",
       "    <tr style=\"text-align: right;\">\n",
       "      <th></th>\n",
       "      <th>作者</th>\n",
       "      <th>讚數</th>\n",
       "      <th>時間</th>\n",
       "      <th>連結</th>\n",
       "      <th>貼文內容</th>\n",
       "    </tr>\n",
       "  </thead>\n",
       "  <tbody>\n",
       "    <tr>\n",
       "      <th>0</th>\n",
       "      <td>跟著領隊玩</td>\n",
       "      <td>2</td>\n",
       "      <td>37分鐘</td>\n",
       "      <td>https://www.facebook.com/groups/traveler168/po...</td>\n",
       "      <td>到台東池上看金城武樹騎伯朗大道，當然要住在田裡面啦！你有看到我的民宿嗎！就是被大地畫布水田包...</td>\n",
       "    </tr>\n",
       "    <tr>\n",
       "      <th>1</th>\n",
       "      <td>跟著領隊玩</td>\n",
       "      <td>3</td>\n",
       "      <td>1小時</td>\n",
       "      <td>https://www.facebook.com/groups/traveler168/po...</td>\n",
       "      <td>東海岸最美的沙灘之一，在岸邊玩水看魚只是基本，其實你還可以浮潛、SUP和獨木舟，用不同的角度...</td>\n",
       "    </tr>\n",
       "    <tr>\n",
       "      <th>2</th>\n",
       "      <td>啊賀！！現做捲餅舖 - 外星人小舖</td>\n",
       "      <td>1</td>\n",
       "      <td>6小時</td>\n",
       "      <td>https://www.facebook.com/groups/traveler168/po...</td>\n",
       "      <td>啊賀！！現做捲餅舖的「加熱即食」冷凍捲餅上市囉！只要5~8分鐘 就能輕鬆解決您的早、午、晚餐...</td>\n",
       "    </tr>\n",
       "    <tr>\n",
       "      <th>3</th>\n",
       "      <td>陳怡如</td>\n",
       "      <td>1</td>\n",
       "      <td>5小時</td>\n",
       "      <td>https://www.facebook.com/groups/traveler168/po...</td>\n",
       "      <td>熊寶貝多元化派車即日起邀請朋友加入官網即贈$20乘車金！不限次數 可累積！服務範圍：桃園、雙...</td>\n",
       "    </tr>\n",
       "    <tr>\n",
       "      <th>4</th>\n",
       "      <td>康韶菲</td>\n",
       "      <td>1</td>\n",
       "      <td>1小時</td>\n",
       "      <td>https://www.facebook.com/groups/traveler168/po...</td>\n",
       "      <td>HUGO也太活潑可愛了吧! 天啊不愧是大人小孩都喜歡的香菇</td>\n",
       "    </tr>\n",
       "    <tr>\n",
       "      <th>5</th>\n",
       "      <td>謝露西</td>\n",
       "      <td>1</td>\n",
       "      <td>1小時</td>\n",
       "      <td>https://www.facebook.com/groups/traveler168/po...</td>\n",
       "      <td>義大利初遊!!!!超級超級喜歡波隆那這個城市的&gt;\"\"\"\"&lt;</td>\n",
       "    </tr>\n",
       "    <tr>\n",
       "      <th>6</th>\n",
       "      <td>江曼寧</td>\n",
       "      <td>0</td>\n",
       "      <td>3小時</td>\n",
       "      <td>https://www.facebook.com/groups/traveler168/po...</td>\n",
       "      <td></td>\n",
       "    </tr>\n",
       "    <tr>\n",
       "      <th>7</th>\n",
       "      <td>金永豐</td>\n",
       "      <td>0</td>\n",
       "      <td>3小時</td>\n",
       "      <td>https://www.facebook.com/groups/traveler168/po...</td>\n",
       "      <td>東京愛玩樂~高雄出發親子同遊 大人小孩都開心頂級夢幻國度-東京迪工尼著名姻綠神社-冰川神社人...</td>\n",
       "    </tr>\n",
       "    <tr>\n",
       "      <th>8</th>\n",
       "      <td>江曼寧</td>\n",
       "      <td>0</td>\n",
       "      <td>3小時</td>\n",
       "      <td>https://www.facebook.com/groups/traveler168/po...</td>\n",
       "      <td>挑戰市場最高CP值巴爾幹全覽9國17天只要 85900  再送小費 (價值6800)【9國共...</td>\n",
       "    </tr>\n",
       "    <tr>\n",
       "      <th>9</th>\n",
       "      <td>鄭玉潔</td>\n",
       "      <td>0</td>\n",
       "      <td>4小時</td>\n",
       "      <td>https://www.facebook.com/groups/traveler168/po...</td>\n",
       "      <td>這暖湯服務給過嗎</td>\n",
       "    </tr>\n",
       "    <tr>\n",
       "      <th>10</th>\n",
       "      <td>魚路小棧精緻鍋物</td>\n",
       "      <td>0</td>\n",
       "      <td>4小時</td>\n",
       "      <td>https://www.facebook.com/groups/traveler168/po...</td>\n",
       "      <td>Drama抓媽日常家庭聚餐也可以一人開一鍋！超大包廂還有卡拉OK日式木質風格設計的鍋物店蔬食...</td>\n",
       "    </tr>\n",
       "    <tr>\n",
       "      <th>11</th>\n",
       "      <td>Kammon旅遊</td>\n",
       "      <td>0</td>\n",
       "      <td>4小時</td>\n",
       "      <td>https://www.facebook.com/groups/traveler168/po...</td>\n",
       "      <td></td>\n",
       "    </tr>\n",
       "    <tr>\n",
       "      <th>12</th>\n",
       "      <td>高樂天</td>\n",
       "      <td>1</td>\n",
       "      <td>10小時</td>\n",
       "      <td>https://www.facebook.com/groups/traveler168/po...</td>\n",
       "      <td>新店報報!!!!台南知名咖啡店朝連鎖品牌邁進（要加盟需要深思熟慮喔！）簡約文青的店面超舒適的...</td>\n",
       "    </tr>\n",
       "    <tr>\n",
       "      <th>13</th>\n",
       "      <td>跟著領隊玩</td>\n",
       "      <td>4</td>\n",
       "      <td>7小時</td>\n",
       "      <td>https://www.facebook.com/groups/traveler168/po...</td>\n",
       "      <td>Google多達千則4.5分蘭嶼第一必吃竟然不是飛魚，而是冰心透清涼的這一杯，來到蘭嶼的人天...</td>\n",
       "    </tr>\n",
       "    <tr>\n",
       "      <th>14</th>\n",
       "      <td>張育萍</td>\n",
       "      <td>1</td>\n",
       "      <td>5小時</td>\n",
       "      <td>https://www.facebook.com/groups/traveler168/po...</td>\n",
       "      <td>台北捷運國父紀念館站新開幕早午餐咖啡廳，「M5 Coffee介丘咖啡台北光復門市」一開幕就爆...</td>\n",
       "    </tr>\n",
       "    <tr>\n",
       "      <th>15</th>\n",
       "      <td>跟著領隊玩</td>\n",
       "      <td>4</td>\n",
       "      <td>7小時</td>\n",
       "      <td>https://www.facebook.com/groups/traveler168/po...</td>\n",
       "      <td>Google多達千則4.5分蘭嶼第一必吃竟然不是飛魚，而是冰心透清涼的這一杯，來到蘭嶼的人天...</td>\n",
       "    </tr>\n",
       "    <tr>\n",
       "      <th>16</th>\n",
       "      <td>湯宗霖</td>\n",
       "      <td>0</td>\n",
       "      <td>6小時</td>\n",
       "      <td>https://www.facebook.com/groups/traveler168/po...</td>\n",
       "      <td>回憶 • TRAVEL ｜USA • CANADA ｜2020/ 0207 - 0215漫遊...</td>\n",
       "    </tr>\n",
       "    <tr>\n",
       "      <th>17</th>\n",
       "      <td>Sinian Li</td>\n",
       "      <td>1</td>\n",
       "      <td>8小時</td>\n",
       "      <td>https://www.facebook.com/groups/traveler168/po...</td>\n",
       "      <td>比字典還厚的蚵仔煎 竟然只要銅板價 這份量都可以分成兩份賣啦！ 看看老闆用料多豪邁！興達港-...</td>\n",
       "    </tr>\n",
       "    <tr>\n",
       "      <th>18</th>\n",
       "      <td>陳羽祥</td>\n",
       "      <td>7</td>\n",
       "      <td>3月17日</td>\n",
       "      <td>https://www.facebook.com/groups/traveler168/po...</td>\n",
       "      <td>在麒麟峰溫泉沐浴，身心溫暖，肌膚嬌嫩滑潤，心靈煥然一新。碳酸氫鈉泉的獨特魅力，真正讓人體驗到...</td>\n",
       "    </tr>\n",
       "    <tr>\n",
       "      <th>19</th>\n",
       "      <td>跟著領隊玩</td>\n",
       "      <td>4</td>\n",
       "      <td>10小時</td>\n",
       "      <td>https://www.facebook.com/groups/traveler168/po...</td>\n",
       "      <td>全新特色公園山訓設施，有林間擺盪、密林偵查、攀爬高手、叢林危機、翻越終點等六道關卡，多達15...</td>\n",
       "    </tr>\n",
       "    <tr>\n",
       "      <th>20</th>\n",
       "      <td>Lu Zheng</td>\n",
       "      <td>0</td>\n",
       "      <td>10小時</td>\n",
       "      <td>https://www.facebook.com/groups/traveler168/po...</td>\n",
       "      <td>香港最美步道 - 龙脊想趁在香港的几天徒步，原本种草麦理浩径，但无奈时间有限，赶上大热天，于...</td>\n",
       "    </tr>\n",
       "    <tr>\n",
       "      <th>21</th>\n",
       "      <td>Jason Li</td>\n",
       "      <td>0</td>\n",
       "      <td>10小時</td>\n",
       "      <td>https://www.facebook.com/groups/traveler168/po...</td>\n",
       "      <td>台灣｜台北｜一個得接受的打卡地難忘的台灣之行</td>\n",
       "    </tr>\n",
       "    <tr>\n",
       "      <th>22</th>\n",
       "      <td>Rick Chang</td>\n",
       "      <td>1</td>\n",
       "      <td>10小時</td>\n",
       "      <td>https://www.facebook.com/groups/traveler168/po...</td>\n",
       "      <td>小豬漫步──在小豬漫步。</td>\n",
       "    </tr>\n",
       "    <tr>\n",
       "      <th>23</th>\n",
       "      <td>跟著領隊玩</td>\n",
       "      <td>7</td>\n",
       "      <td>12小時</td>\n",
       "      <td>https://www.facebook.com/groups/traveler168/po...</td>\n",
       "      <td>玩水.油桐花秘境基隆在地人玩水秘境，除了天然的河道之外，尚有攔沙壩的嬉水區，還有油桐花和隱藏...</td>\n",
       "    </tr>\n",
       "    <tr>\n",
       "      <th>24</th>\n",
       "      <td>陳莉婷</td>\n",
       "      <td>0</td>\n",
       "      <td>12小時</td>\n",
       "      <td>https://www.facebook.com/groups/traveler168/po...</td>\n",
       "      <td>紅囍串燒 漁人町店</td>\n",
       "    </tr>\n",
       "    <tr>\n",
       "      <th>25</th>\n",
       "      <td>湯宗霖</td>\n",
       "      <td>1</td>\n",
       "      <td>20小時</td>\n",
       "      <td>https://www.facebook.com/groups/traveler168/po...</td>\n",
       "      <td>回憶 • TRAVEL ｜USA • CANADA ｜2020/ 0207 - 0215漫遊...</td>\n",
       "    </tr>\n",
       "    <tr>\n",
       "      <th>26</th>\n",
       "      <td>跟著領隊玩</td>\n",
       "      <td>3</td>\n",
       "      <td>23小時</td>\n",
       "      <td>https://www.facebook.com/groups/traveler168/po...</td>\n",
       "      <td>世界都讚嘆坑道三年不到的時間，2個師、3個步兵營、1個工兵營以及1個傾卸車連，打造了讓世界都...</td>\n",
       "    </tr>\n",
       "    <tr>\n",
       "      <th>27</th>\n",
       "      <td>Cherry Huang Cherry</td>\n",
       "      <td>0</td>\n",
       "      <td>1天</td>\n",
       "      <td>https://www.facebook.com/groups/traveler168/po...</td>\n",
       "      <td>#高雄出發時尚港珠澳4日【赤崁古鎮、世界遺產、入住澳門奢華五星W酒店】 https://to...</td>\n",
       "    </tr>\n",
       "    <tr>\n",
       "      <th>28</th>\n",
       "      <td>宏家旅遊</td>\n",
       "      <td>0</td>\n",
       "      <td>23小時</td>\n",
       "      <td>https://www.facebook.com/groups/traveler168/po...</td>\n",
       "      <td>宏家旅遊</td>\n",
       "    </tr>\n",
       "    <tr>\n",
       "      <th>29</th>\n",
       "      <td>RLai與Sasa玩生活</td>\n",
       "      <td>0</td>\n",
       "      <td>23小時</td>\n",
       "      <td>https://www.facebook.com/groups/traveler168/po...</td>\n",
       "      <td>RLai與Sasa玩生活──在今日不食肉的蔬軾。</td>\n",
       "    </tr>\n",
       "    <tr>\n",
       "      <th>30</th>\n",
       "      <td>享受生活不無聊。規小孫</td>\n",
       "      <td>5</td>\n",
       "      <td>1天</td>\n",
       "      <td>https://www.facebook.com/groups/traveler168/po...</td>\n",
       "      <td>座落在宜蘭蘇澳南方澳漁港旁的選物店＆民宿！宛如日雜般的空間好讓人喜歡～➤ enlifesun...</td>\n",
       "    </tr>\n",
       "    <tr>\n",
       "      <th>31</th>\n",
       "      <td>台灣旅遊～小鄭旅遊包車／機場長途接送服務</td>\n",
       "      <td>4</td>\n",
       "      <td>1天</td>\n",
       "      <td>https://www.facebook.com/groups/traveler168/po...</td>\n",
       "      <td>＜平溪老街＞充滿著古樸的風味，沿著斜斜的山坡以及鐵道兩旁，可看見依序建蓋的古厝房舍。假日不妨...</td>\n",
       "    </tr>\n",
       "    <tr>\n",
       "      <th>32</th>\n",
       "      <td>杜佳蓉</td>\n",
       "      <td>0</td>\n",
       "      <td>1天</td>\n",
       "      <td>https://www.facebook.com/groups/traveler168/po...</td>\n",
       "      <td>尊爵釜山五日保証不走人蔘及護肝-限定5/5、5/6只要15900加贈送小費-E-World主...</td>\n",
       "    </tr>\n",
       "    <tr>\n",
       "      <th>33</th>\n",
       "      <td>張育萍</td>\n",
       "      <td>1</td>\n",
       "      <td>1天</td>\n",
       "      <td>https://www.facebook.com/groups/traveler168/po...</td>\n",
       "      <td>台南神等級好喝的芋頭西米露專賣店，銅板美食價格，小塔芋頭西米露專賣店位於台南市東區崇德路上，...</td>\n",
       "    </tr>\n",
       "    <tr>\n",
       "      <th>34</th>\n",
       "      <td>James Wan</td>\n",
       "      <td>0</td>\n",
       "      <td>1天</td>\n",
       "      <td>https://www.facebook.com/groups/traveler168/po...</td>\n",
       "      <td></td>\n",
       "    </tr>\n",
       "    <tr>\n",
       "      <th>35</th>\n",
       "      <td>黃琮傑</td>\n",
       "      <td>0</td>\n",
       "      <td>1天</td>\n",
       "      <td>https://www.facebook.com/groups/traveler168/po...</td>\n",
       "      <td>每次在台北市玩，或帶外國、外縣市朋友來台北，去的地方總是那些嗎？提供大家一個新的旅遊方式不僅...</td>\n",
       "    </tr>\n",
       "    <tr>\n",
       "      <th>36</th>\n",
       "      <td>跟著領隊玩</td>\n",
       "      <td>3</td>\n",
       "      <td>1天</td>\n",
       "      <td>https://www.facebook.com/groups/traveler168/po...</td>\n",
       "      <td>浪漫地中海有人問Sky這裡真的這麼漂亮嗎！我要告訴你，這是真的，在蔚藍的北海岸，最早的地中海...</td>\n",
       "    </tr>\n",
       "    <tr>\n",
       "      <th>37</th>\n",
       "      <td>吳佩勳</td>\n",
       "      <td>0</td>\n",
       "      <td>1天</td>\n",
       "      <td>https://www.facebook.com/groups/traveler168/po...</td>\n",
       "      <td>\\小資族首選行程/團費21900起（含稅險）半自助東京五日遊讓大家玩的開心又可以顧到錢包忍野...</td>\n",
       "    </tr>\n",
       "    <tr>\n",
       "      <th>38</th>\n",
       "      <td>跟著領隊玩</td>\n",
       "      <td>2</td>\n",
       "      <td>1天</td>\n",
       "      <td>https://www.facebook.com/groups/traveler168/po...</td>\n",
       "      <td>老婆近年最滿意的甕缸雞，外皮酥脆內多汁，一撕開雞汁到處流，搭配雞油和胡椒更迷人，其他菜色也是...</td>\n",
       "    </tr>\n",
       "    <tr>\n",
       "      <th>39</th>\n",
       "      <td>跟著領隊玩</td>\n",
       "      <td>5</td>\n",
       "      <td>1天</td>\n",
       "      <td>https://www.facebook.com/groups/traveler168/po...</td>\n",
       "      <td>台東首間無人自助服務旅店，平均1人只要315元起！進房和退房只在彈指間，房間也是密碼鎖，完全...</td>\n",
       "    </tr>\n",
       "    <tr>\n",
       "      <th>40</th>\n",
       "      <td>童小紫</td>\n",
       "      <td>1</td>\n",
       "      <td>1天</td>\n",
       "      <td>https://www.facebook.com/groups/traveler168/po...</td>\n",
       "      <td></td>\n",
       "    </tr>\n",
       "    <tr>\n",
       "      <th>41</th>\n",
       "      <td>高樂天</td>\n",
       "      <td>1</td>\n",
       "      <td>1天</td>\n",
       "      <td>https://www.facebook.com/groups/traveler168/po...</td>\n",
       "      <td>置身在河樂廣場旁剛開幕半年日式拉麵專門店「森一男豚骨拉麵」。這間「森一男豚骨拉麵」是看到格友...</td>\n",
       "    </tr>\n",
       "    <tr>\n",
       "      <th>42</th>\n",
       "      <td>朱濼藝</td>\n",
       "      <td>0</td>\n",
       "      <td>1天</td>\n",
       "      <td>https://www.facebook.com/groups/traveler168/po...</td>\n",
       "      <td>個人套餐限時優惠中！！https://www.facebook.com/share/p/c8...</td>\n",
       "    </tr>\n",
       "    <tr>\n",
       "      <th>43</th>\n",
       "      <td>跟著領隊玩</td>\n",
       "      <td>8</td>\n",
       "      <td>1天</td>\n",
       "      <td>https://www.facebook.com/groups/traveler168/po...</td>\n",
       "      <td>新竹縣輕親旅行秘境踏青輕旅行，油桐花開的愛情車站，漫步瀑布步道，享用高冷活魚特色餐，品嘗北角...</td>\n",
       "    </tr>\n",
       "    <tr>\n",
       "      <th>44</th>\n",
       "      <td>小刀的美食、旅遊世界粉絲團</td>\n",
       "      <td>3</td>\n",
       "      <td>4天</td>\n",
       "      <td>https://www.facebook.com/groups/traveler168/po...</td>\n",
       "      <td>*113/04/18 位於花蓮縣玉里鎮大同路239號的「北方早點」，距這次住宿旅館「山鄰山林...</td>\n",
       "    </tr>\n",
       "    <tr>\n",
       "      <th>45</th>\n",
       "      <td>宏家旅遊</td>\n",
       "      <td>0</td>\n",
       "      <td>1天</td>\n",
       "      <td>https://www.facebook.com/groups/traveler168/po...</td>\n",
       "      <td>宏家旅遊</td>\n",
       "    </tr>\n",
       "    <tr>\n",
       "      <th>46</th>\n",
       "      <td>宗韓</td>\n",
       "      <td>0</td>\n",
       "      <td>1天</td>\n",
       "      <td>https://www.facebook.com/groups/traveler168/po...</td>\n",
       "      <td>甜點控必吃宜蘭超美藍色英倫風古宅的皮皮手作千層 , 堪稱宜蘭平價版Lady M  , 在這麼...</td>\n",
       "    </tr>\n",
       "    <tr>\n",
       "      <th>47</th>\n",
       "      <td>大马阿豪在南法</td>\n",
       "      <td>0</td>\n",
       "      <td>1天</td>\n",
       "      <td>https://www.facebook.com/groups/traveler168/po...</td>\n",
       "      <td>出國旅游的話會想试试水晶球住宿嗎？</td>\n",
       "    </tr>\n",
       "    <tr>\n",
       "      <th>48</th>\n",
       "      <td>gaga部落體驗營</td>\n",
       "      <td>0</td>\n",
       "      <td>1天</td>\n",
       "      <td>https://www.facebook.com/groups/traveler168/po...</td>\n",
       "      <td>gaga部落體驗營</td>\n",
       "    </tr>\n",
       "    <tr>\n",
       "      <th>49</th>\n",
       "      <td>李硯豪</td>\n",
       "      <td>1</td>\n",
       "      <td>1天</td>\n",
       "      <td>https://www.facebook.com/groups/traveler168/po...</td>\n",
       "      <td>#分享「探索世界奇景-第1集」-今晚10點YT頻道《給我5分鐘》首播接下來幾集，「5分鐘」要...</td>\n",
       "    </tr>\n",
       "    <tr>\n",
       "      <th>50</th>\n",
       "      <td>跟著領隊玩</td>\n",
       "      <td>2</td>\n",
       "      <td>1天</td>\n",
       "      <td>https://www.facebook.com/groups/traveler168/po...</td>\n",
       "      <td>#海景房 #溫泉旅館 #礁溪溫泉 住宿，海景第一排，房間就有雙湯池，沒什麼公社，賣點還有頂樓...</td>\n",
       "    </tr>\n",
       "    <tr>\n",
       "      <th>51</th>\n",
       "      <td>李冠毅</td>\n",
       "      <td>1</td>\n",
       "      <td>1天</td>\n",
       "      <td>https://www.facebook.com/groups/traveler168/po...</td>\n",
       "      <td>嗨各位旅遊愛好者！我最近探索了日本九州的一個神秘之地 - 黑川溫泉！在這個以黑色為主題的溫泉...</td>\n",
       "    </tr>\n",
       "  </tbody>\n",
       "</table>\n",
       "</div>"
      ],
      "text/plain": [
       "                      作者 讚數     時間  \\\n",
       "0                  跟著領隊玩  2   37分鐘   \n",
       "1                  跟著領隊玩  3    1小時   \n",
       "2      啊賀！！現做捲餅舖 - 外星人小舖  1    6小時   \n",
       "3                    陳怡如  1    5小時   \n",
       "4                    康韶菲  1    1小時   \n",
       "5                    謝露西  1    1小時   \n",
       "6                    江曼寧  0    3小時   \n",
       "7                    金永豐  0    3小時   \n",
       "8                    江曼寧  0    3小時   \n",
       "9                    鄭玉潔  0    4小時   \n",
       "10              魚路小棧精緻鍋物  0    4小時   \n",
       "11              Kammon旅遊  0    4小時   \n",
       "12                   高樂天  1   10小時   \n",
       "13                 跟著領隊玩  4    7小時   \n",
       "14                   張育萍  1    5小時   \n",
       "15                 跟著領隊玩  4    7小時   \n",
       "16                   湯宗霖  0    6小時   \n",
       "17             Sinian Li  1    8小時   \n",
       "18                   陳羽祥  7  3月17日   \n",
       "19                 跟著領隊玩  4   10小時   \n",
       "20              Lu Zheng  0   10小時   \n",
       "21              Jason Li  0   10小時   \n",
       "22            Rick Chang  1   10小時   \n",
       "23                 跟著領隊玩  7   12小時   \n",
       "24                   陳莉婷  0   12小時   \n",
       "25                   湯宗霖  1   20小時   \n",
       "26                 跟著領隊玩  3   23小時   \n",
       "27   Cherry Huang Cherry  0     1天   \n",
       "28                  宏家旅遊  0   23小時   \n",
       "29          RLai與Sasa玩生活  0   23小時   \n",
       "30           享受生活不無聊。規小孫  5     1天   \n",
       "31  台灣旅遊～小鄭旅遊包車／機場長途接送服務  4     1天   \n",
       "32                   杜佳蓉  0     1天   \n",
       "33                   張育萍  1     1天   \n",
       "34             James Wan  0     1天   \n",
       "35                   黃琮傑  0     1天   \n",
       "36                 跟著領隊玩  3     1天   \n",
       "37                   吳佩勳  0     1天   \n",
       "38                 跟著領隊玩  2     1天   \n",
       "39                 跟著領隊玩  5     1天   \n",
       "40                   童小紫  1     1天   \n",
       "41                   高樂天  1     1天   \n",
       "42                   朱濼藝  0     1天   \n",
       "43                 跟著領隊玩  8     1天   \n",
       "44         小刀的美食、旅遊世界粉絲團  3     4天   \n",
       "45                  宏家旅遊  0     1天   \n",
       "46                    宗韓  0     1天   \n",
       "47               大马阿豪在南法  0     1天   \n",
       "48             gaga部落體驗營  0     1天   \n",
       "49                   李硯豪  1     1天   \n",
       "50                 跟著領隊玩  2     1天   \n",
       "51                   李冠毅  1     1天   \n",
       "\n",
       "                                                   連結  \\\n",
       "0   https://www.facebook.com/groups/traveler168/po...   \n",
       "1   https://www.facebook.com/groups/traveler168/po...   \n",
       "2   https://www.facebook.com/groups/traveler168/po...   \n",
       "3   https://www.facebook.com/groups/traveler168/po...   \n",
       "4   https://www.facebook.com/groups/traveler168/po...   \n",
       "5   https://www.facebook.com/groups/traveler168/po...   \n",
       "6   https://www.facebook.com/groups/traveler168/po...   \n",
       "7   https://www.facebook.com/groups/traveler168/po...   \n",
       "8   https://www.facebook.com/groups/traveler168/po...   \n",
       "9   https://www.facebook.com/groups/traveler168/po...   \n",
       "10  https://www.facebook.com/groups/traveler168/po...   \n",
       "11  https://www.facebook.com/groups/traveler168/po...   \n",
       "12  https://www.facebook.com/groups/traveler168/po...   \n",
       "13  https://www.facebook.com/groups/traveler168/po...   \n",
       "14  https://www.facebook.com/groups/traveler168/po...   \n",
       "15  https://www.facebook.com/groups/traveler168/po...   \n",
       "16  https://www.facebook.com/groups/traveler168/po...   \n",
       "17  https://www.facebook.com/groups/traveler168/po...   \n",
       "18  https://www.facebook.com/groups/traveler168/po...   \n",
       "19  https://www.facebook.com/groups/traveler168/po...   \n",
       "20  https://www.facebook.com/groups/traveler168/po...   \n",
       "21  https://www.facebook.com/groups/traveler168/po...   \n",
       "22  https://www.facebook.com/groups/traveler168/po...   \n",
       "23  https://www.facebook.com/groups/traveler168/po...   \n",
       "24  https://www.facebook.com/groups/traveler168/po...   \n",
       "25  https://www.facebook.com/groups/traveler168/po...   \n",
       "26  https://www.facebook.com/groups/traveler168/po...   \n",
       "27  https://www.facebook.com/groups/traveler168/po...   \n",
       "28  https://www.facebook.com/groups/traveler168/po...   \n",
       "29  https://www.facebook.com/groups/traveler168/po...   \n",
       "30  https://www.facebook.com/groups/traveler168/po...   \n",
       "31  https://www.facebook.com/groups/traveler168/po...   \n",
       "32  https://www.facebook.com/groups/traveler168/po...   \n",
       "33  https://www.facebook.com/groups/traveler168/po...   \n",
       "34  https://www.facebook.com/groups/traveler168/po...   \n",
       "35  https://www.facebook.com/groups/traveler168/po...   \n",
       "36  https://www.facebook.com/groups/traveler168/po...   \n",
       "37  https://www.facebook.com/groups/traveler168/po...   \n",
       "38  https://www.facebook.com/groups/traveler168/po...   \n",
       "39  https://www.facebook.com/groups/traveler168/po...   \n",
       "40  https://www.facebook.com/groups/traveler168/po...   \n",
       "41  https://www.facebook.com/groups/traveler168/po...   \n",
       "42  https://www.facebook.com/groups/traveler168/po...   \n",
       "43  https://www.facebook.com/groups/traveler168/po...   \n",
       "44  https://www.facebook.com/groups/traveler168/po...   \n",
       "45  https://www.facebook.com/groups/traveler168/po...   \n",
       "46  https://www.facebook.com/groups/traveler168/po...   \n",
       "47  https://www.facebook.com/groups/traveler168/po...   \n",
       "48  https://www.facebook.com/groups/traveler168/po...   \n",
       "49  https://www.facebook.com/groups/traveler168/po...   \n",
       "50  https://www.facebook.com/groups/traveler168/po...   \n",
       "51  https://www.facebook.com/groups/traveler168/po...   \n",
       "\n",
       "                                                 貼文內容  \n",
       "0   到台東池上看金城武樹騎伯朗大道，當然要住在田裡面啦！你有看到我的民宿嗎！就是被大地畫布水田包...  \n",
       "1   東海岸最美的沙灘之一，在岸邊玩水看魚只是基本，其實你還可以浮潛、SUP和獨木舟，用不同的角度...  \n",
       "2   啊賀！！現做捲餅舖的「加熱即食」冷凍捲餅上市囉！只要5~8分鐘 就能輕鬆解決您的早、午、晚餐...  \n",
       "3   熊寶貝多元化派車即日起邀請朋友加入官網即贈$20乘車金！不限次數 可累積！服務範圍：桃園、雙...  \n",
       "4                       HUGO也太活潑可愛了吧! 天啊不愧是大人小孩都喜歡的香菇  \n",
       "5                       義大利初遊!!!!超級超級喜歡波隆那這個城市的>\"\"\"\"<  \n",
       "6                                                      \n",
       "7   東京愛玩樂~高雄出發親子同遊 大人小孩都開心頂級夢幻國度-東京迪工尼著名姻綠神社-冰川神社人...  \n",
       "8   挑戰市場最高CP值巴爾幹全覽9國17天只要 85900  再送小費 (價值6800)【9國共...  \n",
       "9                                            這暖湯服務給過嗎  \n",
       "10  Drama抓媽日常家庭聚餐也可以一人開一鍋！超大包廂還有卡拉OK日式木質風格設計的鍋物店蔬食...  \n",
       "11                                                     \n",
       "12  新店報報!!!!台南知名咖啡店朝連鎖品牌邁進（要加盟需要深思熟慮喔！）簡約文青的店面超舒適的...  \n",
       "13  Google多達千則4.5分蘭嶼第一必吃竟然不是飛魚，而是冰心透清涼的這一杯，來到蘭嶼的人天...  \n",
       "14  台北捷運國父紀念館站新開幕早午餐咖啡廳，「M5 Coffee介丘咖啡台北光復門市」一開幕就爆...  \n",
       "15  Google多達千則4.5分蘭嶼第一必吃竟然不是飛魚，而是冰心透清涼的這一杯，來到蘭嶼的人天...  \n",
       "16  回憶 • TRAVEL ｜USA • CANADA ｜2020/ 0207 - 0215漫遊...  \n",
       "17  比字典還厚的蚵仔煎 竟然只要銅板價 這份量都可以分成兩份賣啦！ 看看老闆用料多豪邁！興達港-...  \n",
       "18  在麒麟峰溫泉沐浴，身心溫暖，肌膚嬌嫩滑潤，心靈煥然一新。碳酸氫鈉泉的獨特魅力，真正讓人體驗到...  \n",
       "19  全新特色公園山訓設施，有林間擺盪、密林偵查、攀爬高手、叢林危機、翻越終點等六道關卡，多達15...  \n",
       "20  香港最美步道 - 龙脊想趁在香港的几天徒步，原本种草麦理浩径，但无奈时间有限，赶上大热天，于...  \n",
       "21                             台灣｜台北｜一個得接受的打卡地難忘的台灣之行  \n",
       "22                                       小豬漫步──在小豬漫步。  \n",
       "23  玩水.油桐花秘境基隆在地人玩水秘境，除了天然的河道之外，尚有攔沙壩的嬉水區，還有油桐花和隱藏...  \n",
       "24                                          紅囍串燒 漁人町店  \n",
       "25  回憶 • TRAVEL ｜USA • CANADA ｜2020/ 0207 - 0215漫遊...  \n",
       "26  世界都讚嘆坑道三年不到的時間，2個師、3個步兵營、1個工兵營以及1個傾卸車連，打造了讓世界都...  \n",
       "27  #高雄出發時尚港珠澳4日【赤崁古鎮、世界遺產、入住澳門奢華五星W酒店】 https://to...  \n",
       "28                                               宏家旅遊  \n",
       "29                           RLai與Sasa玩生活──在今日不食肉的蔬軾。  \n",
       "30  座落在宜蘭蘇澳南方澳漁港旁的選物店＆民宿！宛如日雜般的空間好讓人喜歡～➤ enlifesun...  \n",
       "31  ＜平溪老街＞充滿著古樸的風味，沿著斜斜的山坡以及鐵道兩旁，可看見依序建蓋的古厝房舍。假日不妨...  \n",
       "32  尊爵釜山五日保証不走人蔘及護肝-限定5/5、5/6只要15900加贈送小費-E-World主...  \n",
       "33  台南神等級好喝的芋頭西米露專賣店，銅板美食價格，小塔芋頭西米露專賣店位於台南市東區崇德路上，...  \n",
       "34                                                     \n",
       "35  每次在台北市玩，或帶外國、外縣市朋友來台北，去的地方總是那些嗎？提供大家一個新的旅遊方式不僅...  \n",
       "36  浪漫地中海有人問Sky這裡真的這麼漂亮嗎！我要告訴你，這是真的，在蔚藍的北海岸，最早的地中海...  \n",
       "37  \\小資族首選行程/團費21900起（含稅險）半自助東京五日遊讓大家玩的開心又可以顧到錢包忍野...  \n",
       "38  老婆近年最滿意的甕缸雞，外皮酥脆內多汁，一撕開雞汁到處流，搭配雞油和胡椒更迷人，其他菜色也是...  \n",
       "39  台東首間無人自助服務旅店，平均1人只要315元起！進房和退房只在彈指間，房間也是密碼鎖，完全...  \n",
       "40                                                     \n",
       "41  置身在河樂廣場旁剛開幕半年日式拉麵專門店「森一男豚骨拉麵」。這間「森一男豚骨拉麵」是看到格友...  \n",
       "42  個人套餐限時優惠中！！https://www.facebook.com/share/p/c8...  \n",
       "43  新竹縣輕親旅行秘境踏青輕旅行，油桐花開的愛情車站，漫步瀑布步道，享用高冷活魚特色餐，品嘗北角...  \n",
       "44  *113/04/18 位於花蓮縣玉里鎮大同路239號的「北方早點」，距這次住宿旅館「山鄰山林...  \n",
       "45                                               宏家旅遊  \n",
       "46  甜點控必吃宜蘭超美藍色英倫風古宅的皮皮手作千層 , 堪稱宜蘭平價版Lady M  , 在這麼...  \n",
       "47                                  出國旅游的話會想试试水晶球住宿嗎？  \n",
       "48                                          gaga部落體驗營  \n",
       "49  #分享「探索世界奇景-第1集」-今晚10點YT頻道《給我5分鐘》首播接下來幾集，「5分鐘」要...  \n",
       "50  #海景房 #溫泉旅館 #礁溪溫泉 住宿，海景第一排，房間就有雙湯池，沒什麼公社，賣點還有頂樓...  \n",
       "51  嗨各位旅遊愛好者！我最近探索了日本九州的一個神秘之地 - 黑川溫泉！在這個以黑色為主題的溫泉...  "
      ]
     },
     "execution_count": 155,
     "metadata": {},
     "output_type": "execute_result"
    }
   ],
   "source": [
    "# 篩選掉「貼文內容」有出現「查看更多」字樣的資料\n",
    "dataset = result_df[~result_df['貼文內容'].str.contains('查看更多')]\n",
    "\n",
    "# drop_duplicates 會依據「連結」篩除重覆的，只保留第一筆出現的資料\n",
    "dataset = dataset.drop_duplicates(subset = '連結').reset_index(drop = True)\n",
    "\n",
    "dataset"
   ]
  },
  {
   "cell_type": "markdown",
   "metadata": {},
   "source": [
    "將資料儲存成 csv 格式"
   ]
  },
  {
   "cell_type": "code",
   "execution_count": 156,
   "metadata": {},
   "outputs": [],
   "source": [
    "result_df.to_csv('./data/fb_post_01.csv', index = False)"
   ]
  }
 ],
 "metadata": {
  "kernelspec": {
   "display_name": "venv",
   "language": "python",
   "name": "python3"
  },
  "language_info": {
   "codemirror_mode": {
    "name": "ipython",
    "version": 3
   },
   "file_extension": ".py",
   "mimetype": "text/x-python",
   "name": "python",
   "nbconvert_exporter": "python",
   "pygments_lexer": "ipython3",
   "version": "3.10.9"
  }
 },
 "nbformat": 4,
 "nbformat_minor": 2
}
